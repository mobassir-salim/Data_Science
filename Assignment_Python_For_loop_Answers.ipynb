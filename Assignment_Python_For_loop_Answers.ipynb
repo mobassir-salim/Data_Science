{
  "nbformat": 4,
  "nbformat_minor": 0,
  "metadata": {
    "colab": {
      "provenance": [],
      "authorship_tag": "ABX9TyOHIVncgPY05/3FtA3m1LzY",
      "include_colab_link": true
    },
    "kernelspec": {
      "name": "python3",
      "display_name": "Python 3"
    },
    "language_info": {
      "name": "python"
    }
  },
  "cells": [
    {
      "cell_type": "markdown",
      "metadata": {
        "id": "view-in-github",
        "colab_type": "text"
      },
      "source": [
        "<a href=\"https://colab.research.google.com/github/mobassir-salim/Data_Science/blob/main/Assignment_Python_For_loop_Answers.ipynb\" target=\"_parent\"><img src=\"https://colab.research.google.com/assets/colab-badge.svg\" alt=\"Open In Colab\"/></a>"
      ]
    },
    {
      "cell_type": "markdown",
      "source": [
        "##Basic Level:"
      ],
      "metadata": {
        "id": "fKiZds6aboba"
      }
    },
    {
      "cell_type": "markdown",
      "source": [
        "1. Print the numbers from 1 to 10 using a for loop."
      ],
      "metadata": {
        "id": "fCdJpdxNYCTc"
      }
    },
    {
      "cell_type": "code",
      "source": [
        "for i in range(1, 11):\n",
        "    print(i)\n"
      ],
      "metadata": {
        "colab": {
          "base_uri": "https://localhost:8080/"
        },
        "id": "tWjaaFp0YETJ",
        "outputId": "1254c1eb-f403-4bd8-ac48-b61afa208269"
      },
      "execution_count": null,
      "outputs": [
        {
          "output_type": "stream",
          "name": "stdout",
          "text": [
            "1\n",
            "2\n",
            "3\n",
            "4\n",
            "5\n",
            "6\n",
            "7\n",
            "8\n",
            "9\n",
            "10\n"
          ]
        }
      ]
    },
    {
      "cell_type": "markdown",
      "source": [
        "Create a program that calculates the sum of all numbers in a list using a for loop:"
      ],
      "metadata": {
        "id": "1LW2sbB2aIM7"
      }
    },
    {
      "cell_type": "code",
      "source": [
        "numbers = [1, 2, 3, 4, 5]\n",
        "sum = 0\n",
        "for number in numbers:\n",
        "    sum += number\n",
        "print(sum)\n"
      ],
      "metadata": {
        "colab": {
          "base_uri": "https://localhost:8080/"
        },
        "id": "EtcicThCaJ52",
        "outputId": "18ccad5f-ad54-4739-9b86-64089976b661"
      },
      "execution_count": null,
      "outputs": [
        {
          "output_type": "stream",
          "name": "stdout",
          "text": [
            "15\n"
          ]
        }
      ]
    },
    {
      "cell_type": "markdown",
      "source": [
        "Write a program to print the characters of a string in reverse order using a for loop:"
      ],
      "metadata": {
        "id": "I0vTfL72aIYD"
      }
    },
    {
      "cell_type": "code",
      "source": [
        "string = \"Hello, world!\"\n",
        "for i in range(len(string) - 1, -1, -1):\n",
        "    print(string[i])\n"
      ],
      "metadata": {
        "colab": {
          "base_uri": "https://localhost:8080/"
        },
        "id": "I3drZTF-YEXL",
        "outputId": "7c105837-bbc6-4a16-b670-065acb8d220d"
      },
      "execution_count": null,
      "outputs": [
        {
          "output_type": "stream",
          "name": "stdout",
          "text": [
            "!\n",
            "d\n",
            "l\n",
            "r\n",
            "o\n",
            "w\n",
            " \n",
            ",\n",
            "o\n",
            "l\n",
            "l\n",
            "e\n",
            "H\n"
          ]
        }
      ]
    },
    {
      "cell_type": "markdown",
      "source": [
        "Develop a program that finds the factorial of a given number using a for loop:"
      ],
      "metadata": {
        "id": "e4uOlEwfaeOx"
      }
    },
    {
      "cell_type": "code",
      "source": [
        "def factorial(n):\n",
        "    result = 1\n",
        "    for i in range(1, n + 1):\n",
        "        result *= i\n",
        "    return result\n",
        "\n",
        "print(factorial(5))\n"
      ],
      "metadata": {
        "colab": {
          "base_uri": "https://localhost:8080/"
        },
        "id": "o07Sdz3jYEcO",
        "outputId": "a1ec04f9-062e-4e78-b38d-ab0531b8480c"
      },
      "execution_count": null,
      "outputs": [
        {
          "output_type": "stream",
          "name": "stdout",
          "text": [
            "120\n"
          ]
        }
      ]
    },
    {
      "cell_type": "markdown",
      "source": [
        "Create a program to print the multiplication table of a given number using a for loop:"
      ],
      "metadata": {
        "id": "inc2kCD7arGX"
      }
    },
    {
      "cell_type": "code",
      "source": [
        "number = 5\n",
        "for i in range(1, 11):\n",
        "    print(f\"{number} x {i} = {number * i}\")\n"
      ],
      "metadata": {
        "colab": {
          "base_uri": "https://localhost:8080/"
        },
        "id": "cA6qIrmeYEhe",
        "outputId": "20424c81-8d0e-4d5e-e061-f2dc8481a055"
      },
      "execution_count": null,
      "outputs": [
        {
          "output_type": "stream",
          "name": "stdout",
          "text": [
            "5 x 1 = 5\n",
            "5 x 2 = 10\n",
            "5 x 3 = 15\n",
            "5 x 4 = 20\n",
            "5 x 5 = 25\n",
            "5 x 6 = 30\n",
            "5 x 7 = 35\n",
            "5 x 8 = 40\n",
            "5 x 9 = 45\n",
            "5 x 10 = 50\n"
          ]
        }
      ]
    },
    {
      "cell_type": "markdown",
      "source": [
        "Write a program that counts the number of even and odd numbers in a list using a for loop:"
      ],
      "metadata": {
        "id": "9-TdkTlEa0l5"
      }
    },
    {
      "cell_type": "code",
      "source": [
        "numbers = [1, 2, 3, 4, 5, 6, 7, 8, 9, 10]\n",
        "even_count = 0\n",
        "odd_count = 0\n",
        "for number in numbers:\n",
        "    if number % 2 == 0:\n",
        "        even_count += 1\n",
        "    else:\n",
        "        odd_count += 1\n",
        "print(f\"The number of even numbers is {even_count}\")\n",
        "print(f\"The number of odd numbers is {odd_count}\")\n"
      ],
      "metadata": {
        "colab": {
          "base_uri": "https://localhost:8080/"
        },
        "id": "DzT5wgDrYEl4",
        "outputId": "d5b8c149-0489-40b7-edc1-e5c75caaa795"
      },
      "execution_count": null,
      "outputs": [
        {
          "output_type": "stream",
          "name": "stdout",
          "text": [
            "The number of even numbers is 5\n",
            "The number of odd numbers is 5\n"
          ]
        }
      ]
    },
    {
      "cell_type": "markdown",
      "source": [
        "Develop a program that prints the squares of numbers from 1 to 5 using a for loop:"
      ],
      "metadata": {
        "id": "0Cf4WMP-a9ZY"
      }
    },
    {
      "cell_type": "code",
      "source": [
        "for i in range(1, 6):\n",
        "    print(i ** 2)\n"
      ],
      "metadata": {
        "colab": {
          "base_uri": "https://localhost:8080/"
        },
        "id": "HTZDWtGwYEq9",
        "outputId": "cd715138-31ad-4964-8c82-8164bd85c322"
      },
      "execution_count": null,
      "outputs": [
        {
          "output_type": "stream",
          "name": "stdout",
          "text": [
            "1\n",
            "4\n",
            "9\n",
            "16\n",
            "25\n"
          ]
        }
      ]
    },
    {
      "cell_type": "markdown",
      "source": [
        "Create a program to find the length of a string without using the len() function:"
      ],
      "metadata": {
        "id": "aGImwBTrbEnd"
      }
    },
    {
      "cell_type": "code",
      "source": [
        "string = \"Hello, world!\"\n",
        "count = 0\n",
        "for i in range(len(string)):\n",
        "    count += 1\n",
        "print(count)\n"
      ],
      "metadata": {
        "colab": {
          "base_uri": "https://localhost:8080/"
        },
        "id": "kFEOBgUnYEvb",
        "outputId": "13864ed4-96aa-461d-aac9-37359be81070"
      },
      "execution_count": null,
      "outputs": [
        {
          "output_type": "stream",
          "name": "stdout",
          "text": [
            "13\n"
          ]
        }
      ]
    },
    {
      "cell_type": "markdown",
      "source": [
        "Write a program that calculates the average of a list of numbers using a for loop:"
      ],
      "metadata": {
        "id": "7Vk9IvcWbMWv"
      }
    },
    {
      "cell_type": "code",
      "source": [
        "numbers = [1, 2, 3, 4, 5]\n",
        "sum = 0\n",
        "count = len(numbers)\n",
        "average = 0\n",
        "for number in numbers:\n",
        "    sum += number\n",
        "average = sum / count\n",
        "print(average)\n"
      ],
      "metadata": {
        "colab": {
          "base_uri": "https://localhost:8080/"
        },
        "id": "swgcYsyTYE1j",
        "outputId": "aa53d1f6-f306-4a46-caa2-3de9440149c2"
      },
      "execution_count": null,
      "outputs": [
        {
          "output_type": "stream",
          "name": "stdout",
          "text": [
            "3.0\n"
          ]
        }
      ]
    },
    {
      "cell_type": "markdown",
      "source": [
        "Develop a program that prints the first n Fibonacci numbers using a for loop:"
      ],
      "metadata": {
        "id": "YmhZTLspbcMN"
      }
    },
    {
      "cell_type": "code",
      "source": [
        "def fibonacci(n):\n",
        "    a, b = 0, 1\n",
        "    for i in range(n):\n",
        "        a, b = b, a + b\n",
        "    return a\n",
        "\n",
        "print(fibonacci(10))\n"
      ],
      "metadata": {
        "colab": {
          "base_uri": "https://localhost:8080/"
        },
        "id": "iw8Eu8QvYE_X",
        "outputId": "435d9c23-3da9-4a5c-9377-e4d31b8a040f"
      },
      "execution_count": null,
      "outputs": [
        {
          "output_type": "stream",
          "name": "stdout",
          "text": [
            "55\n"
          ]
        }
      ]
    },
    {
      "cell_type": "markdown",
      "source": [
        "##Intermediate Level:"
      ],
      "metadata": {
        "id": "UZz6eL6ubxhf"
      }
    },
    {
      "cell_type": "markdown",
      "source": [
        "Write a program to check if a given list contains any duplicates using a for loop:"
      ],
      "metadata": {
        "id": "foxwLpb2bxwa"
      }
    },
    {
      "cell_type": "code",
      "source": [
        "def has_duplicates(list):\n",
        "    seen = set()\n",
        "    for i in list:\n",
        "        if i in seen:\n",
        "            return True\n",
        "        seen.add(i)\n",
        "    return False\n",
        "\n",
        "list1 = [1, 2, 3, 4, 5, 2,5]\n",
        "list2 = [1, 2, 3, 5, 4]\n",
        "list3 = ['apple', 'banana', 'cherry', 'apple']\n",
        "\n",
        "print(has_duplicates(list1))\n",
        "print(has_duplicates(list2))\n",
        "print(has_duplicates(list3))\n"
      ],
      "metadata": {
        "colab": {
          "base_uri": "https://localhost:8080/"
        },
        "id": "v0uhTjOWYFE0",
        "outputId": "dbde6af9-6de7-43ce-a5c0-fcce69634a45"
      },
      "execution_count": null,
      "outputs": [
        {
          "output_type": "stream",
          "name": "stdout",
          "text": [
            "True\n",
            "False\n",
            "True\n"
          ]
        }
      ]
    },
    {
      "cell_type": "markdown",
      "source": [
        "Create a program that prints the prime numbers in a given range using a for loop:"
      ],
      "metadata": {
        "id": "HB9Icsavfh99"
      }
    },
    {
      "cell_type": "code",
      "execution_count": null,
      "metadata": {
        "colab": {
          "base_uri": "https://localhost:8080/"
        },
        "id": "me7gBVbiXSHc",
        "outputId": "9e0be88b-8365-4e68-a33a-cb61052a27b4"
      },
      "outputs": [
        {
          "output_type": "stream",
          "name": "stdout",
          "text": [
            "2\n",
            "3\n",
            "5\n",
            "7\n",
            "11\n",
            "13\n",
            "17\n",
            "19\n",
            "23\n",
            "29\n"
          ]
        }
      ],
      "source": [
        "def is_prime(number):\n",
        "    if number <= 1:\n",
        "        return False\n",
        "    for i in range(2, int(number ** 0.5) + 1):\n",
        "        if number % i == 0:\n",
        "            return False\n",
        "    return True\n",
        "\n",
        "def print_primes(start, end):\n",
        "    for number in range(start, end + 1):\n",
        "        if is_prime(number):\n",
        "            print(number)\n",
        "\n",
        "print_primes(0, 30)\n"
      ]
    },
    {
      "cell_type": "markdown",
      "source": [
        "Create a program that prints the prime numbers in a given range using a for loop:"
      ],
      "metadata": {
        "id": "l3cq3JNYmMiy"
      }
    },
    {
      "cell_type": "code",
      "source": [
        "# Input range\n",
        "start_range = int(input(\"Enter the start of the range: \"))\n",
        "end_range = int(input(\"Enter the end of the range: \"))\n",
        "\n",
        "print(\"Prime numbers in the range\", start_range, \"to\", end_range, \"are:\")\n",
        "\n",
        "if start_range <= 2:\n",
        "    print(2, end=\" \")\n",
        "\n",
        "for num in range(max(start_range, 3), end_range + 1):\n",
        "    is_prime = True\n",
        "\n",
        "    if num % 2 == 0 or num <= 1:\n",
        "        is_prime = False\n",
        "    else:\n",
        "        for i in range(3, int(num ** 0.5) + 1, 2): ## For example, if n has a divisor of 10, it must also have a corresponding divisor of n/10. Therefore, there's no need to check for divisors beyond the square root.\n",
        "            if num % i == 0:\n",
        "                is_prime = False\n",
        "                break\n",
        "\n",
        "    if is_prime:\n",
        "        print(num, end=\" \")\n"
      ],
      "metadata": {
        "colab": {
          "base_uri": "https://localhost:8080/"
        },
        "id": "LLuUI1C9hSGv",
        "outputId": "532d1fb4-ac48-451e-e64d-844539e6fdf3"
      },
      "execution_count": null,
      "outputs": [
        {
          "output_type": "stream",
          "name": "stdout",
          "text": [
            "Enter the start of the range: 0\n",
            "Enter the end of the range: 10\n",
            "Prime numbers in the range 0 to 10 are:\n",
            "2 3 5 7 "
          ]
        }
      ]
    },
    {
      "cell_type": "markdown",
      "source": [
        "Develop a program that counts the number of vowels in a string using a for loop:"
      ],
      "metadata": {
        "id": "iysahjTjmRTj"
      }
    },
    {
      "cell_type": "code",
      "source": [
        "def count_vowels(string):\n",
        "    vowels = \"aeiou\"\n",
        "    count = 0\n",
        "    for i in string:\n",
        "        if i in vowels:\n",
        "            count += 1\n",
        "    return count\n",
        "\n",
        "string = \"Hello, world!\"\n",
        "print(count_vowels(string))\n"
      ],
      "metadata": {
        "colab": {
          "base_uri": "https://localhost:8080/"
        },
        "id": "M5gFHndamXbh",
        "outputId": "538ced5b-87a7-44db-d9fd-581499e9a894"
      },
      "execution_count": null,
      "outputs": [
        {
          "output_type": "stream",
          "name": "stdout",
          "text": [
            "3\n"
          ]
        }
      ]
    },
    {
      "cell_type": "markdown",
      "source": [
        "Write a program to find the maximum element in a 2D list using a nested for loop:"
      ],
      "metadata": {
        "id": "5q-SPSqVmtJj"
      }
    },
    {
      "cell_type": "code",
      "source": [
        "def find_max_element(list):\n",
        "    max_element = list[0][0]\n",
        "    for i in list:\n",
        "        for j in i:\n",
        "            if j > max_element:\n",
        "                max_element = j\n",
        "    return max_element\n",
        "\n",
        "list = [[1, 2, 3], [4, 5, 6], [7, 8, 9], [10, 9, 15, 1, 25]]\n",
        "print(find_max_element(list))\n"
      ],
      "metadata": {
        "colab": {
          "base_uri": "https://localhost:8080/"
        },
        "id": "rjR31CS0mzdI",
        "outputId": "a4de132b-2e9d-4413-b43d-a9d169de205c"
      },
      "execution_count": null,
      "outputs": [
        {
          "output_type": "stream",
          "name": "stdout",
          "text": [
            "25\n"
          ]
        }
      ]
    },
    {
      "cell_type": "markdown",
      "source": [
        "Create a program that removes all occurrences of a specific element from a list using a for loop:"
      ],
      "metadata": {
        "id": "EP3crmLKn32V"
      }
    },
    {
      "cell_type": "code",
      "source": [
        "def final_list(list, element_to_remove):\n",
        "  filter_list = []\n",
        "  for i in list:\n",
        "    if i != element_to_remove:\n",
        "      filter_list.append(i)\n",
        "\n",
        "  return filter_list\n",
        "\n",
        "# Test Case\n",
        "original_list = [1, 2, 3, 4, 2, 5, 6, 2]\n",
        "\n",
        "print(final_list(original_list, 2))"
      ],
      "metadata": {
        "colab": {
          "base_uri": "https://localhost:8080/"
        },
        "id": "4bZ9f7PKtNMQ",
        "outputId": "953bad4f-66ab-4f1c-f702-d9b46bc61dad"
      },
      "execution_count": null,
      "outputs": [
        {
          "output_type": "stream",
          "name": "stdout",
          "text": [
            "[1, 3, 4, 5, 6]\n"
          ]
        }
      ]
    },
    {
      "cell_type": "markdown",
      "source": [
        "Alternate"
      ],
      "metadata": {
        "id": "esu8rMEoun5E"
      }
    },
    {
      "cell_type": "code",
      "source": [
        "def remove_element(list, element):\n",
        "    for i in range(len(list)-1, -1, -1):  ## range(start, stop, step)\n",
        "        if list[i] == element:\n",
        "            list.pop(i)\n",
        "\n",
        "list = [1, 2, 3, 4, 5, 3, 6]\n",
        "remove_element(list, 3)\n",
        "print(list)\n"
      ],
      "metadata": {
        "colab": {
          "base_uri": "https://localhost:8080/"
        },
        "id": "hHqq7LMhn40I",
        "outputId": "6f531999-e899-43fa-ff32-dc495e99c3b4"
      },
      "execution_count": null,
      "outputs": [
        {
          "output_type": "stream",
          "name": "stdout",
          "text": [
            "[1, 2, 4, 5, 6]\n"
          ]
        }
      ]
    },
    {
      "cell_type": "markdown",
      "source": [
        "Develop a program that generates a multiplication table for numbers from 1 to 5 using a nested for loop:"
      ],
      "metadata": {
        "id": "zXMf4RZkrDcK"
      }
    },
    {
      "cell_type": "code",
      "source": [
        "def generate_multiplication_table(start, end):\n",
        "    for i in range(start, end + 1):\n",
        "        print(\"\")\n",
        "        print(\"Table of\", i)\n",
        "\n",
        "        for j in range(start, end + 1):\n",
        "            print(f\"{i} x {j} = {i * j}\")\n",
        "\n",
        "\n",
        "generate_multiplication_table(1, 5)\n"
      ],
      "metadata": {
        "colab": {
          "base_uri": "https://localhost:8080/"
        },
        "id": "YWM4GGAWuqrg",
        "outputId": "e0fa4545-13f8-4145-bbe5-94cb8b7a0ca1"
      },
      "execution_count": null,
      "outputs": [
        {
          "output_type": "stream",
          "name": "stdout",
          "text": [
            "\n",
            "Table of 1\n",
            "1 x 1 = 1\n",
            "1 x 2 = 2\n",
            "1 x 3 = 3\n",
            "1 x 4 = 4\n",
            "1 x 5 = 5\n",
            "\n",
            "Table of 2\n",
            "2 x 1 = 2\n",
            "2 x 2 = 4\n",
            "2 x 3 = 6\n",
            "2 x 4 = 8\n",
            "2 x 5 = 10\n",
            "\n",
            "Table of 3\n",
            "3 x 1 = 3\n",
            "3 x 2 = 6\n",
            "3 x 3 = 9\n",
            "3 x 4 = 12\n",
            "3 x 5 = 15\n",
            "\n",
            "Table of 4\n",
            "4 x 1 = 4\n",
            "4 x 2 = 8\n",
            "4 x 3 = 12\n",
            "4 x 4 = 16\n",
            "4 x 5 = 20\n",
            "\n",
            "Table of 5\n",
            "5 x 1 = 5\n",
            "5 x 2 = 10\n",
            "5 x 3 = 15\n",
            "5 x 4 = 20\n",
            "5 x 5 = 25\n"
          ]
        }
      ]
    },
    {
      "cell_type": "markdown",
      "source": [
        "Write a program that converts a list of Fahrenheit temperatures to Celsius using a for loop:"
      ],
      "metadata": {
        "id": "v6ufdoaovs0o"
      }
    },
    {
      "cell_type": "code",
      "source": [
        "def convert_to_celsius(temperatures):\n",
        "    celsius_temperatures = []\n",
        "    for temperature in temperatures:\n",
        "        celsius_temperature = (temperature - 32) * 5 / 9\n",
        "        celsius_temperatures.append(celsius_temperature)\n",
        "    return celsius_temperatures\n",
        "\n",
        "temperatures = [212, 100, 32]\n",
        "celsius_temperatures = convert_to_celsius(temperatures)\n",
        "print(celsius_temperatures)\n"
      ],
      "metadata": {
        "colab": {
          "base_uri": "https://localhost:8080/"
        },
        "id": "l3uQyPuQvyBD",
        "outputId": "42729f4d-e7f8-441c-821d-a717b8cdf5c1"
      },
      "execution_count": null,
      "outputs": [
        {
          "output_type": "stream",
          "name": "stdout",
          "text": [
            "[100.0, 37.77777777777778, 0.0]\n"
          ]
        }
      ]
    },
    {
      "cell_type": "markdown",
      "source": [
        "Create a program to print the common elements from two lists using a for loop:"
      ],
      "metadata": {
        "id": "oNNqCBK9v65S"
      }
    },
    {
      "cell_type": "code",
      "source": [
        "def find_common_elements(list1, list2):\n",
        "    common_elements = []\n",
        "    for i in list1:\n",
        "        if i in list2:\n",
        "            common_elements.append(i)\n",
        "    return common_elements\n",
        "\n",
        "list1 = [1, 2, 3, 4, 5]\n",
        "list2 = [2, 3, 5, 6, 7]\n",
        "common_elements = find_common_elements(list1, list2)\n",
        "print(common_elements)\n"
      ],
      "metadata": {
        "colab": {
          "base_uri": "https://localhost:8080/"
        },
        "id": "seVmesrEwB7J",
        "outputId": "9f272e97-7ccb-4a35-cb55-4ad3836ec77c"
      },
      "execution_count": null,
      "outputs": [
        {
          "output_type": "stream",
          "name": "stdout",
          "text": [
            "[2, 3, 5]\n"
          ]
        }
      ]
    },
    {
      "cell_type": "markdown",
      "source": [
        "Develop a program that prints the pattern of right-angled triangles using a for loop. Use ‘*’ to draw the pattern"
      ],
      "metadata": {
        "id": "gzlN2-uRxtpa"
      }
    },
    {
      "cell_type": "code",
      "source": [
        "def right_angled_triangle(n):\n",
        "    for i in range(n):\n",
        "        for j in range(i + 1):\n",
        "            print(\"*\", end=\" \")\n",
        "        print()\n",
        "\n",
        "right_angled_triangle(5)\n"
      ],
      "metadata": {
        "colab": {
          "base_uri": "https://localhost:8080/"
        },
        "id": "GTLx153Qxur2",
        "outputId": "597b2e1c-eb0b-4a2f-c806-b1180954665f"
      },
      "execution_count": null,
      "outputs": [
        {
          "output_type": "stream",
          "name": "stdout",
          "text": [
            "* \n",
            "* * \n",
            "* * * \n",
            "* * * * \n",
            "* * * * * \n"
          ]
        }
      ]
    },
    {
      "cell_type": "markdown",
      "source": [
        "Write a program to find the greatest common divisor (GCD) of two numbers using a for loop."
      ],
      "metadata": {
        "id": "CQftwbijxz7Z"
      }
    },
    {
      "cell_type": "code",
      "source": [
        "def gcd(a, b):\n",
        "    gcd = 1\n",
        "    for i in range(min(a, b), 0, -1):\n",
        "        if a % i == 0 and b % i == 0:\n",
        "            gcd = i\n",
        "            break\n",
        "    return gcd\n",
        "\n",
        "print(gcd(12, 18))\n"
      ],
      "metadata": {
        "colab": {
          "base_uri": "https://localhost:8080/"
        },
        "id": "R93nVpFSx2mk",
        "outputId": "5497d903-2b8c-45e6-e5c9-2e38380c2230"
      },
      "execution_count": null,
      "outputs": [
        {
          "output_type": "stream",
          "name": "stdout",
          "text": [
            "6\n"
          ]
        }
      ]
    },
    {
      "cell_type": "markdown",
      "source": [
        "#Advanced Level:"
      ],
      "metadata": {
        "id": "K2lhpiLy1Clr"
      }
    },
    {
      "cell_type": "markdown",
      "source": [
        "**Question 21: Calculate the sum of the digits of numbers in a list using list comprehension.**"
      ],
      "metadata": {
        "id": "rxqGdcpk1CuI"
      }
    },
    {
      "cell_type": "code",
      "source": [
        "# Input list of numbers\n",
        "numbers = [123, 45, 678]\n",
        "\n",
        "# Use list comprehension to get the sum of digits for each number\n",
        "sum_of_digits = [sum(int(digit) for digit in str(num)) for num in numbers]\n",
        "\n",
        "print(\"Sum of digits for each number:\", sum_of_digits)\n"
      ],
      "metadata": {
        "colab": {
          "base_uri": "https://localhost:8080/"
        },
        "id": "uU9EhhNFVne-",
        "outputId": "9f999f23-0d56-4464-81c8-53dd877e323a"
      },
      "execution_count": null,
      "outputs": [
        {
          "output_type": "stream",
          "name": "stdout",
          "text": [
            "Sum of digits for each number: [6, 9, 21]\n"
          ]
        }
      ]
    },
    {
      "cell_type": "markdown",
      "source": [
        "Question 22: Find the prime factors of a given number using a for loop and list comprehension."
      ],
      "metadata": {
        "id": "biNIXRyLC3Pp"
      }
    },
    {
      "cell_type": "code",
      "source": [
        "# Input number\n",
        "number = 240\n",
        "\n",
        "# Find prime factors using a for loop and list comprehension\n",
        "prime_fact = [i for i in range(2, int(number/2) + 1) if number % i == 0 and all(i % j != 0 for j in range(2, i))]\n",
        "\n",
        "print(f'Prime factors of {number} are {prime_fact}')\n"
      ],
      "metadata": {
        "colab": {
          "base_uri": "https://localhost:8080/"
        },
        "id": "e2k2kSAcVUMv",
        "outputId": "a4ddc5f4-494e-4927-a089-892873ca3392"
      },
      "execution_count": null,
      "outputs": [
        {
          "output_type": "stream",
          "name": "stdout",
          "text": [
            "Prime factors of 240 are [2, 3, 5]\n"
          ]
        }
      ]
    },
    {
      "cell_type": "markdown",
      "source": [
        "Question 23: Extract unique elements from a list and store them in a new list using list comprehension."
      ],
      "metadata": {
        "id": "BlLBagO_FEHO"
      }
    },
    {
      "cell_type": "code",
      "source": [
        "# Input list with duplicates\n",
        "list23 = [1, 2, 2, 3, 4, 4, 5]\n",
        "\n",
        "# Use list comprehension to extract unique elements\n",
        "unique_elements = []\n",
        "[unique_elements.append(n) for n in list23 if n not in unique_elements]\n",
        "\n",
        "print(\"Unique elements:\", unique_elements)\n",
        "\n"
      ],
      "metadata": {
        "colab": {
          "base_uri": "https://localhost:8080/"
        },
        "id": "olgrtfUSFF9x",
        "outputId": "1ce9afbd-1101-4470-ea1f-2d79fa28d273"
      },
      "execution_count": null,
      "outputs": [
        {
          "output_type": "stream",
          "name": "stdout",
          "text": [
            "Unique elements: [1, 2, 3, 4, 5]\n"
          ]
        }
      ]
    },
    {
      "cell_type": "markdown",
      "source": [
        "Question 24: Create a list of all palindromic numbers up to a specified limit using list comprehension."
      ],
      "metadata": {
        "id": "PpXuSOrZE-Eh"
      }
    },
    {
      "cell_type": "code",
      "source": [
        "# Input limit\n",
        "limit = 100\n",
        "\n",
        "# Generate palindromic numbers using list comprehension\n",
        "palindromic_numbers = [num for num in range(0, limit + 1) if str(num) == str(num)[::-1]]\n",
        "\n",
        "print(\"Palindromic numbers up to\", limit, \"are:\", palindromic_numbers)\n"
      ],
      "metadata": {
        "colab": {
          "base_uri": "https://localhost:8080/"
        },
        "id": "n76rwbFYGPf7",
        "outputId": "9ebeacb0-f784-4d57-9cf9-7298ce1cf95f"
      },
      "execution_count": null,
      "outputs": [
        {
          "output_type": "stream",
          "name": "stdout",
          "text": [
            "Palindromic numbers up to 100 are: [0, 1, 2, 3, 4, 5, 6, 7, 8, 9, 11, 22, 33, 44, 55, 66, 77, 88, 99]\n"
          ]
        }
      ]
    },
    {
      "cell_type": "markdown",
      "source": [
        "25. Write a program to flatten a nested list using list comprehension."
      ],
      "metadata": {
        "id": "s25v-mwlG_Fj"
      }
    },
    {
      "cell_type": "code",
      "source": [
        "# Input nested list\n",
        "nested_list = [[1, 2], [3, 4], [5, 6]]\n",
        "\n",
        "# Flatten the list using list comprehension\n",
        "flatten_list = [j for i in nested_list for j in i]\n",
        "\n",
        "print(\"Flattened list:\", flatten_list)\n"
      ],
      "metadata": {
        "colab": {
          "base_uri": "https://localhost:8080/"
        },
        "id": "BtaIm7A8HGmZ",
        "outputId": "6253bf23-66ee-4029-823a-2f46d9be4524"
      },
      "execution_count": null,
      "outputs": [
        {
          "output_type": "stream",
          "name": "stdout",
          "text": [
            "Flattened list: [1, 2, 3, 4, 5, 6]\n"
          ]
        }
      ]
    },
    {
      "cell_type": "markdown",
      "source": [
        "26. Develop a program that computes the sum of even and odd numbers in a list separately using list  comprehension."
      ],
      "metadata": {
        "id": "oaB8uMBbKLOf"
      }
    },
    {
      "cell_type": "code",
      "source": [
        "# Input list of numbers\n",
        "numbers = [1, 2, 3, 4, 5, 6, 7, 8]\n",
        "\n",
        "# Compute sums of even and odd numbers using list comprehension\n",
        "even_list = [i for i in numbers if i%2==0]\n",
        "odd_list = [i for i in numbers if i%2!=0]\n",
        "even_sum = sum([i for i in numbers if i%2==0])\n",
        "odd_sum = sum([i for i in numbers if i%2!=0])\n",
        "\n",
        "print(f'Sum of even numbers {even_list} : ', even_sum)\n",
        "print(f'Sum of odd numbers {odd_list} : ', odd_sum)\n"
      ],
      "metadata": {
        "colab": {
          "base_uri": "https://localhost:8080/"
        },
        "id": "J6aQHyeyKO9X",
        "outputId": "26d95937-7eb3-4547-c848-79d72ce8eec8"
      },
      "execution_count": null,
      "outputs": [
        {
          "output_type": "stream",
          "name": "stdout",
          "text": [
            "Sum of even numbers [2, 4, 6, 8] :  20\n",
            "Sum of odd numbers [1, 3, 5, 7] :  16\n"
          ]
        }
      ]
    },
    {
      "cell_type": "markdown",
      "source": [
        "27. Create a program that generates a list of squares of odd numbers between 1 and 10 using list  comprehension."
      ],
      "metadata": {
        "id": "4zmUaPf4LhMo"
      }
    },
    {
      "cell_type": "code",
      "source": [
        "# Generate squares of odd numbers using list comprehension\n",
        "num_range = 20\n",
        "squares_odd_numbers = [i**2 for i in range(0, num_range + 1) if i%2 != 0]\n",
        "\n",
        "print(\"Squares of odd numbers:\", squares_odd_numbers)\n"
      ],
      "metadata": {
        "colab": {
          "base_uri": "https://localhost:8080/"
        },
        "id": "3CbQlK6fLj9E",
        "outputId": "8a7c224c-d2c3-4e38-f605-b263bcd5548d"
      },
      "execution_count": null,
      "outputs": [
        {
          "output_type": "stream",
          "name": "stdout",
          "text": [
            "Squares of odd numbers: [1, 9, 25, 49, 81, 121, 169, 225, 289, 361]\n"
          ]
        }
      ]
    },
    {
      "cell_type": "markdown",
      "source": [
        "28. Write a program that combines two lists into a dictionary using list comprehension."
      ],
      "metadata": {
        "id": "70ufTqnLNo1s"
      }
    },
    {
      "cell_type": "code",
      "source": [
        "# Input lists\n",
        "keys = ['a', 'b', 'c']\n",
        "values = [1, 2, 3]\n",
        "\n",
        "# Combine lists into a dictionary using list comprehension\n",
        "combined_dict = {key: value for key, value in zip(keys, values)}\n",
        "\n",
        "print(\"Combined dictionary:\", combined_dict)\n"
      ],
      "metadata": {
        "colab": {
          "base_uri": "https://localhost:8080/"
        },
        "id": "OlF4APjQNsG6",
        "outputId": "c918f53d-f6b2-44c0-ef2d-31d96ba1dbaa"
      },
      "execution_count": null,
      "outputs": [
        {
          "output_type": "stream",
          "name": "stdout",
          "text": [
            "Combined dictionary: {'a': 1, 'b': 2, 'c': 3}\n"
          ]
        }
      ]
    },
    {
      "cell_type": "markdown",
      "source": [
        "29. Develop a program that extracts the vowels from a string and stores them in a list using list comprehension."
      ],
      "metadata": {
        "id": "ppHMa9jCOfRX"
      }
    },
    {
      "cell_type": "code",
      "source": [
        "# Input string\n",
        "text = \"Hello, World!\"\n",
        "\n",
        "# Extract vowels using list comprehension\n",
        "vowels = [i for i in text if i.lower() in 'aeiou']\n",
        "\n",
        "print(\"Vowels in the string:\", vowels)\n"
      ],
      "metadata": {
        "colab": {
          "base_uri": "https://localhost:8080/"
        },
        "id": "-Y6wCRhuO3EN",
        "outputId": "f97544ef-f624-4baf-a459-e4019a236ac4"
      },
      "execution_count": null,
      "outputs": [
        {
          "output_type": "stream",
          "name": "stdout",
          "text": [
            "Vowels in the string: ['e', 'o', 'o']\n"
          ]
        }
      ]
    },
    {
      "cell_type": "markdown",
      "source": [
        "30. Create a program that removes all non-numeric characters from a list of strings using list comprehension.  "
      ],
      "metadata": {
        "id": "GceqLzvjPHtk"
      }
    },
    {
      "cell_type": "code",
      "source": [
        "# Input list of strings\n",
        "strings = [\"apple\", \"123\", \"banana45\", \"cherry!\"]\n",
        "\n",
        "# Remove non-numeric characters using list comprehension\n",
        "numeric_strings = [''.join(i for i in s if i.isnumeric()) for s in strings]\n",
        "\n",
        "print(\"Numeric strings:\", numeric_strings)\n"
      ],
      "metadata": {
        "colab": {
          "base_uri": "https://localhost:8080/"
        },
        "id": "N_FrlRCQPMZw",
        "outputId": "23b8f8eb-7e92-4d9e-ae4f-606e89e12547"
      },
      "execution_count": null,
      "outputs": [
        {
          "output_type": "stream",
          "name": "stdout",
          "text": [
            "Numeric strings: ['', '123', '45', '']\n"
          ]
        }
      ]
    },
    {
      "cell_type": "markdown",
      "source": [
        "# Challenge Level:"
      ],
      "metadata": {
        "id": "-BhQLv-9PvNL"
      }
    },
    {
      "cell_type": "markdown",
      "source": [
        "31. Write a program to generate a list of prime numbers using the Sieve of Eratosthenes algorithm and list  comprehension."
      ],
      "metadata": {
        "id": "6S-Km9XKPoP4"
      }
    },
    {
      "cell_type": "markdown",
      "source": [
        "**I do not understand the Sieve of Eratosthenes algorithm. Took google help to write the below code.**\n",
        "\n",
        "\n",
        "\n"
      ],
      "metadata": {
        "id": "tL6GfCE-QqoR"
      }
    },
    {
      "cell_type": "code",
      "source": [
        "def sieve_of_eratosthenes(limit):\n",
        "    sieve = [True] * (limit + 1)\n",
        "    sieve[0:2] = [False, False]\n",
        "\n",
        "    for m in range(2, int(limit ** 0.5) + 1):\n",
        "        if sieve[m]:\n",
        "            for n in range(m * m, limit + 1, m):\n",
        "                sieve[n] = False\n",
        "\n",
        "    prime_numbers = [num for num, is_prime in enumerate(sieve) if is_prime]\n",
        "\n",
        "    return prime_numbers\n",
        "\n",
        "\n",
        "prime_numbers = sieve_of_eratosthenes(50)\n",
        "\n",
        "print(\"Prime numbers up to\", 50, \"are:\", prime_numbers)\n"
      ],
      "metadata": {
        "colab": {
          "base_uri": "https://localhost:8080/"
        },
        "id": "tbTrhOfrPr93",
        "outputId": "255a2c29-9031-4943-ed93-fba63b9eafe8"
      },
      "execution_count": null,
      "outputs": [
        {
          "output_type": "stream",
          "name": "stdout",
          "text": [
            "Prime numbers up to 50 are: [2, 3, 5, 7, 11, 13, 17, 19, 23, 29, 31, 37, 41, 43, 47]\n"
          ]
        }
      ]
    },
    {
      "cell_type": "markdown",
      "source": [
        "32. Create a program that generates a list of all Pythagorean triplets up to a specified limit using list  comprehension."
      ],
      "metadata": {
        "id": "U-5VCkxzQ_Lh"
      }
    },
    {
      "cell_type": "code",
      "source": [
        "# Input limit\n",
        "limit32 = 20\n",
        "\n",
        "# Generate Pythagorean triplets using list comprehension\n",
        "\n",
        "pythagorean_triplets = [(i, j, k)\n",
        "                        for i in range(1, limit32 + 1)\n",
        "                        for j in range(i, limit32 + 1)\n",
        "                        for k in range(j, limit32 + 1)\n",
        "                        if i**2 + j**2 == k**2]\n",
        "\n",
        "print(f'Pythagorean Triplets up to {limit32} are:', pythagorean_triplets)\n"
      ],
      "metadata": {
        "colab": {
          "base_uri": "https://localhost:8080/"
        },
        "id": "5zmZ5nCgRMsy",
        "outputId": "3f9fd19b-edcf-4c9a-a8df-a52489225e50"
      },
      "execution_count": null,
      "outputs": [
        {
          "output_type": "stream",
          "name": "stdout",
          "text": [
            "Pythagorean triplets up to 20 are: [(3, 4, 5), (5, 12, 13), (6, 8, 10), (8, 15, 17), (9, 12, 15), (12, 16, 20)]\n"
          ]
        }
      ]
    },
    {
      "cell_type": "markdown",
      "source": [
        "#Assignment Questions"
      ],
      "metadata": {
        "id": "JcNqS3ZuS0KJ"
      }
    },
    {
      "cell_type": "markdown",
      "source": [
        "33. Develop a program that generates a list of all possible combinations of two lists using list comprehension."
      ],
      "metadata": {
        "id": "gxo2wI6LS0RI"
      }
    },
    {
      "cell_type": "code",
      "source": [
        "# Input lists\n",
        "list1 = [1, 2, 3]\n",
        "list2 = ['a', 'b']\n",
        "\n",
        "# Generate all possible combinations\n",
        "combinations = [(i, j) for i in list1 for j in list2]\n",
        "\n",
        "print(f'All possible combinations: {combinations}')\n"
      ],
      "metadata": {
        "colab": {
          "base_uri": "https://localhost:8080/"
        },
        "id": "iJyQFcNtS7fu",
        "outputId": "c18d3e31-2e36-4036-e4c7-dae71bd64d91"
      },
      "execution_count": null,
      "outputs": [
        {
          "output_type": "stream",
          "name": "stdout",
          "text": [
            "All possible combinations: [(1, 'a'), (1, 'b'), (2, 'a'), (2, 'b'), (3, 'a'), (3, 'b')]\n"
          ]
        }
      ]
    },
    {
      "cell_type": "markdown",
      "source": [
        "34. Write a program that calculates the mean, median, and mode of a list of numbers using list  comprehension."
      ],
      "metadata": {
        "id": "ZNZZGqZTTcli"
      }
    },
    {
      "cell_type": "code",
      "source": [
        "# Input list of numbers\n",
        "numbers = [1, 2, 3, 4, 4, 5, 5, 6, 6]\n",
        "\n",
        "# Calculate mean using list comprehension\n",
        "mean = sum(numbers) / len(numbers)\n",
        "\n",
        "# Calculate median using list comprehension\n",
        "sorted_numbers = sorted(numbers)\n",
        "median = (sorted_numbers[len(numbers) // 2] + sorted_numbers[(len(numbers) - 1) // 2]) / 2\n",
        "\n",
        "# Calculate mode using list comprehension\n",
        "mode = max(((x, numbers.count(x)) for x in set(numbers)), key=lambda x: x[1])[0]\n",
        "\n",
        "print(\"Mean:\", mean)\n",
        "print(\"Median:\", median)\n",
        "print(\"Mode:\", mode)\n"
      ],
      "metadata": {
        "colab": {
          "base_uri": "https://localhost:8080/"
        },
        "id": "On0xvHCpThn3",
        "outputId": "9ea5f0aa-24c2-4c93-8cc9-0cb642fed4f1"
      },
      "execution_count": null,
      "outputs": [
        {
          "output_type": "stream",
          "name": "stdout",
          "text": [
            "Mean: 4.0\n",
            "Median: 4.0\n",
            "Mode: 4\n"
          ]
        }
      ]
    },
    {
      "cell_type": "markdown",
      "source": [
        "35. Create a program that generates Pascal's triangle up to a specified number of rows using list  comprehension."
      ],
      "metadata": {
        "id": "zR26BMApWLg3"
      }
    },
    {
      "cell_type": "markdown",
      "source": [
        "**I didn't underrstood this code. Took help from Google**"
      ],
      "metadata": {
        "id": "_2DH5Z5fad0f"
      }
    },
    {
      "cell_type": "code",
      "source": [
        "# Input number of rows\n",
        "num_rows = 5\n",
        "\n",
        "# Initialize Pascal's triangle with the first row\n",
        "pascals_triangle = [[1]]\n",
        "\n",
        "# Generate Pascal's triangle\n",
        "for i in range(1, num_rows):\n",
        "    row = [1]  # First element in each row is always 1\n",
        "    for j in range(1, i):\n",
        "        # Calculate each element based on the previous row\n",
        "        element = pascals_triangle[i - 1][j - 1] + pascals_triangle[i - 1][j]\n",
        "        row.append(element)\n",
        "    row.append(1)  # Last element in each row is always 1\n",
        "    pascals_triangle.append(row)\n",
        "\n",
        "print(\"Pascal's triangle:\")\n",
        "for row in pascals_triangle:\n",
        "    print(row)\n",
        "\n"
      ],
      "metadata": {
        "colab": {
          "base_uri": "https://localhost:8080/"
        },
        "id": "YseArqzcWPyL",
        "outputId": "2e339f24-4b46-4c44-938d-75697f1175d3"
      },
      "execution_count": null,
      "outputs": [
        {
          "output_type": "stream",
          "name": "stdout",
          "text": [
            "Pascal's triangle:\n",
            "[1]\n",
            "[1, 1]\n",
            "[1, 2, 1]\n",
            "[1, 3, 3, 1]\n",
            "[1, 4, 6, 4, 1]\n"
          ]
        }
      ]
    },
    {
      "cell_type": "markdown",
      "source": [
        "36. Develop a program that calculates the sum of the digits of a factorial of numbers from 1 to 5 using list  comprehension."
      ],
      "metadata": {
        "id": "AVHPsKuraovo"
      }
    },
    {
      "cell_type": "code",
      "source": [
        "import math\n",
        "# Input numbers\n",
        "input_num = [1, 2, 3, 4, 5, 6, 7, 8]\n",
        "\n",
        "# Calculate the sum of digits of factorial\n",
        "fact_sums = [sum(int(i) for i in str(math.factorial(num))) for num in input_num]\n",
        "\n",
        "print(\"Sum of digits of factorials:\", fact_sums)\n",
        "\n"
      ],
      "metadata": {
        "colab": {
          "base_uri": "https://localhost:8080/"
        },
        "id": "ex3-1o5GgDcT",
        "outputId": "1faa42ae-53fa-4bed-9918-540c1fc1d1e1"
      },
      "execution_count": null,
      "outputs": [
        {
          "output_type": "stream",
          "name": "stdout",
          "text": [
            "Sum of digits of factorials: [1, 2, 6, 6, 3, 9, 9, 9]\n"
          ]
        }
      ]
    },
    {
      "cell_type": "markdown",
      "source": [
        "37. Write a program that finds the longest word in a sentence using list comprehension."
      ],
      "metadata": {
        "id": "YU7Rq5mefoW2"
      }
    },
    {
      "cell_type": "code",
      "source": [
        "input_str = \"Write a program that finds the longest word in a sentence using list comprehension\"\n",
        "\n",
        "# Split the input string into words and find the longest word using list comprehension\n",
        "long_word = input_str.split()\n",
        "length = [len(i) for i in long_word]\n",
        "longest_word = long_word[length.index(max(length))]\n",
        "print(\"Longest word:\", longest_word)"
      ],
      "metadata": {
        "colab": {
          "base_uri": "https://localhost:8080/"
        },
        "id": "TSA4oQlqju5g",
        "outputId": "9e2ec2db-fe10-4d72-a13c-49a7b30d500e"
      },
      "execution_count": null,
      "outputs": [
        {
          "output_type": "stream",
          "name": "stdout",
          "text": [
            "Longest word: comprehension\n"
          ]
        }
      ]
    },
    {
      "cell_type": "markdown",
      "source": [
        "37. Aternate"
      ],
      "metadata": {
        "id": "an07gV9rpUdc"
      }
    },
    {
      "cell_type": "code",
      "source": [
        "input_str = \"Write a program that finds the longest word in a sentence using list comprehension\"\n",
        "\n",
        "# Split the input string into words and find the longest word using list comprehension\n",
        "long_word = max((word for word in input_str.split()), key=lambda x: len(x))\n",
        "\n",
        "print(\"Longest word:\", long_word)\n"
      ],
      "metadata": {
        "colab": {
          "base_uri": "https://localhost:8080/"
        },
        "id": "vBuk_ERCidEa",
        "outputId": "ecd9b0c9-52fe-466f-c28c-bc9412d012b3"
      },
      "execution_count": null,
      "outputs": [
        {
          "output_type": "stream",
          "name": "stdout",
          "text": [
            "Longest word: comprehension\n"
          ]
        }
      ]
    },
    {
      "cell_type": "markdown",
      "source": [
        "38. Create a program that filters a list of strings to include only those with more than three vowels using list  comprehension."
      ],
      "metadata": {
        "id": "4AwdcYeCpQTO"
      }
    },
    {
      "cell_type": "code",
      "source": [
        "# Input list of strings\n",
        "strings = [\"hello\", \"world\", \"programming\", \"is\", \"fun\", \"with\", \"List\", \"comprehension\"]\n",
        "\n",
        "# Filter strings with more than three vowels using list comprehension\n",
        "filtered_strings = [string for string in strings if sum(1 for char in string if char in 'aeiouAEIOU') > 3]\n",
        "\n",
        "print(\"Filtered strings:\", filtered_strings)\n"
      ],
      "metadata": {
        "colab": {
          "base_uri": "https://localhost:8080/"
        },
        "id": "Es38Etg1JBhV",
        "outputId": "71804396-cf6e-47ec-c4af-47e028054781"
      },
      "execution_count": 39,
      "outputs": [
        {
          "output_type": "stream",
          "name": "stdout",
          "text": [
            "Filtered strings: ['comprehension']\n"
          ]
        }
      ]
    },
    {
      "cell_type": "markdown",
      "source": [
        "39. Develop a program that calculates the sum of the digits of numbers from 1 to 1000 using list  comprehension."
      ],
      "metadata": {
        "id": "mOJ1LEdpO20L"
      }
    },
    {
      "cell_type": "code",
      "source": [
        "# Calculate the sum of digits of numbers from 1 to 1000 using list comprehension\n",
        "digit_sums = [sum(map(int, str(num))) for num in range(1, 1001)]\n",
        "\n",
        "print(\"Sum of digits for numbers from 1 to 1000:\", digit_sums)\n"
      ],
      "metadata": {
        "colab": {
          "base_uri": "https://localhost:8080/"
        },
        "id": "MyZyE4xuQWxC",
        "outputId": "4dae9874-6f20-49f3-d2d5-f5b56e6dd6c1"
      },
      "execution_count": 1,
      "outputs": [
        {
          "output_type": "stream",
          "name": "stdout",
          "text": [
            "Sum of digits for numbers from 1 to 1000: [1, 2, 3, 4, 5, 6, 7, 8, 9, 1, 2, 3, 4, 5, 6, 7, 8, 9, 10, 2, 3, 4, 5, 6, 7, 8, 9, 10, 11, 3, 4, 5, 6, 7, 8, 9, 10, 11, 12, 4, 5, 6, 7, 8, 9, 10, 11, 12, 13, 5, 6, 7, 8, 9, 10, 11, 12, 13, 14, 6, 7, 8, 9, 10, 11, 12, 13, 14, 15, 7, 8, 9, 10, 11, 12, 13, 14, 15, 16, 8, 9, 10, 11, 12, 13, 14, 15, 16, 17, 9, 10, 11, 12, 13, 14, 15, 16, 17, 18, 1, 2, 3, 4, 5, 6, 7, 8, 9, 10, 2, 3, 4, 5, 6, 7, 8, 9, 10, 11, 3, 4, 5, 6, 7, 8, 9, 10, 11, 12, 4, 5, 6, 7, 8, 9, 10, 11, 12, 13, 5, 6, 7, 8, 9, 10, 11, 12, 13, 14, 6, 7, 8, 9, 10, 11, 12, 13, 14, 15, 7, 8, 9, 10, 11, 12, 13, 14, 15, 16, 8, 9, 10, 11, 12, 13, 14, 15, 16, 17, 9, 10, 11, 12, 13, 14, 15, 16, 17, 18, 10, 11, 12, 13, 14, 15, 16, 17, 18, 19, 2, 3, 4, 5, 6, 7, 8, 9, 10, 11, 3, 4, 5, 6, 7, 8, 9, 10, 11, 12, 4, 5, 6, 7, 8, 9, 10, 11, 12, 13, 5, 6, 7, 8, 9, 10, 11, 12, 13, 14, 6, 7, 8, 9, 10, 11, 12, 13, 14, 15, 7, 8, 9, 10, 11, 12, 13, 14, 15, 16, 8, 9, 10, 11, 12, 13, 14, 15, 16, 17, 9, 10, 11, 12, 13, 14, 15, 16, 17, 18, 10, 11, 12, 13, 14, 15, 16, 17, 18, 19, 11, 12, 13, 14, 15, 16, 17, 18, 19, 20, 3, 4, 5, 6, 7, 8, 9, 10, 11, 12, 4, 5, 6, 7, 8, 9, 10, 11, 12, 13, 5, 6, 7, 8, 9, 10, 11, 12, 13, 14, 6, 7, 8, 9, 10, 11, 12, 13, 14, 15, 7, 8, 9, 10, 11, 12, 13, 14, 15, 16, 8, 9, 10, 11, 12, 13, 14, 15, 16, 17, 9, 10, 11, 12, 13, 14, 15, 16, 17, 18, 10, 11, 12, 13, 14, 15, 16, 17, 18, 19, 11, 12, 13, 14, 15, 16, 17, 18, 19, 20, 12, 13, 14, 15, 16, 17, 18, 19, 20, 21, 4, 5, 6, 7, 8, 9, 10, 11, 12, 13, 5, 6, 7, 8, 9, 10, 11, 12, 13, 14, 6, 7, 8, 9, 10, 11, 12, 13, 14, 15, 7, 8, 9, 10, 11, 12, 13, 14, 15, 16, 8, 9, 10, 11, 12, 13, 14, 15, 16, 17, 9, 10, 11, 12, 13, 14, 15, 16, 17, 18, 10, 11, 12, 13, 14, 15, 16, 17, 18, 19, 11, 12, 13, 14, 15, 16, 17, 18, 19, 20, 12, 13, 14, 15, 16, 17, 18, 19, 20, 21, 13, 14, 15, 16, 17, 18, 19, 20, 21, 22, 5, 6, 7, 8, 9, 10, 11, 12, 13, 14, 6, 7, 8, 9, 10, 11, 12, 13, 14, 15, 7, 8, 9, 10, 11, 12, 13, 14, 15, 16, 8, 9, 10, 11, 12, 13, 14, 15, 16, 17, 9, 10, 11, 12, 13, 14, 15, 16, 17, 18, 10, 11, 12, 13, 14, 15, 16, 17, 18, 19, 11, 12, 13, 14, 15, 16, 17, 18, 19, 20, 12, 13, 14, 15, 16, 17, 18, 19, 20, 21, 13, 14, 15, 16, 17, 18, 19, 20, 21, 22, 14, 15, 16, 17, 18, 19, 20, 21, 22, 23, 6, 7, 8, 9, 10, 11, 12, 13, 14, 15, 7, 8, 9, 10, 11, 12, 13, 14, 15, 16, 8, 9, 10, 11, 12, 13, 14, 15, 16, 17, 9, 10, 11, 12, 13, 14, 15, 16, 17, 18, 10, 11, 12, 13, 14, 15, 16, 17, 18, 19, 11, 12, 13, 14, 15, 16, 17, 18, 19, 20, 12, 13, 14, 15, 16, 17, 18, 19, 20, 21, 13, 14, 15, 16, 17, 18, 19, 20, 21, 22, 14, 15, 16, 17, 18, 19, 20, 21, 22, 23, 15, 16, 17, 18, 19, 20, 21, 22, 23, 24, 7, 8, 9, 10, 11, 12, 13, 14, 15, 16, 8, 9, 10, 11, 12, 13, 14, 15, 16, 17, 9, 10, 11, 12, 13, 14, 15, 16, 17, 18, 10, 11, 12, 13, 14, 15, 16, 17, 18, 19, 11, 12, 13, 14, 15, 16, 17, 18, 19, 20, 12, 13, 14, 15, 16, 17, 18, 19, 20, 21, 13, 14, 15, 16, 17, 18, 19, 20, 21, 22, 14, 15, 16, 17, 18, 19, 20, 21, 22, 23, 15, 16, 17, 18, 19, 20, 21, 22, 23, 24, 16, 17, 18, 19, 20, 21, 22, 23, 24, 25, 8, 9, 10, 11, 12, 13, 14, 15, 16, 17, 9, 10, 11, 12, 13, 14, 15, 16, 17, 18, 10, 11, 12, 13, 14, 15, 16, 17, 18, 19, 11, 12, 13, 14, 15, 16, 17, 18, 19, 20, 12, 13, 14, 15, 16, 17, 18, 19, 20, 21, 13, 14, 15, 16, 17, 18, 19, 20, 21, 22, 14, 15, 16, 17, 18, 19, 20, 21, 22, 23, 15, 16, 17, 18, 19, 20, 21, 22, 23, 24, 16, 17, 18, 19, 20, 21, 22, 23, 24, 25, 17, 18, 19, 20, 21, 22, 23, 24, 25, 26, 9, 10, 11, 12, 13, 14, 15, 16, 17, 18, 10, 11, 12, 13, 14, 15, 16, 17, 18, 19, 11, 12, 13, 14, 15, 16, 17, 18, 19, 20, 12, 13, 14, 15, 16, 17, 18, 19, 20, 21, 13, 14, 15, 16, 17, 18, 19, 20, 21, 22, 14, 15, 16, 17, 18, 19, 20, 21, 22, 23, 15, 16, 17, 18, 19, 20, 21, 22, 23, 24, 16, 17, 18, 19, 20, 21, 22, 23, 24, 25, 17, 18, 19, 20, 21, 22, 23, 24, 25, 26, 18, 19, 20, 21, 22, 23, 24, 25, 26, 27, 1]\n"
          ]
        }
      ]
    },
    {
      "cell_type": "markdown",
      "source": [
        "40. Write a program that generates a list of prime palindromic numbers using list comprehension."
      ],
      "metadata": {
        "id": "kpUZXTDvRjQV"
      }
    },
    {
      "cell_type": "code",
      "source": [
        "# Function to check if a number is prime\n",
        "def is_prime(num):\n",
        "    if num < 2:\n",
        "        return False\n",
        "    for i in range(2, int(num ** 0.5) + 1):\n",
        "        if num % i == 0:\n",
        "            return False\n",
        "    return True\n",
        "\n",
        "# Generate a list of prime palindromic numbers using list comprehension\n",
        "prime_palindromes = [num for num in range(1, 1001) if num == int(str(num)[::-1]) and is_prime(num)]\n",
        "\n",
        "print(\"Prime palindromic numbers:\", prime_palindromes)\n"
      ],
      "metadata": {
        "id": "WvoLpEi_QW8z",
        "colab": {
          "base_uri": "https://localhost:8080/"
        },
        "outputId": "604ed10d-7b26-48ff-b688-a13f3f5cbea2"
      },
      "execution_count": 2,
      "outputs": [
        {
          "output_type": "stream",
          "name": "stdout",
          "text": [
            "Prime palindromic numbers: [2, 3, 5, 7, 11, 101, 131, 151, 181, 191, 313, 353, 373, 383, 727, 757, 787, 797, 919, 929]\n"
          ]
        }
      ]
    }
  ]
}