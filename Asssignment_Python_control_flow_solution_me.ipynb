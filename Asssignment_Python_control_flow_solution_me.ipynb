{
  "nbformat": 4,
  "nbformat_minor": 0,
  "metadata": {
    "colab": {
      "provenance": [],
      "authorship_tag": "ABX9TyMW5rSk6QoWngk0y/DlD4ug",
      "include_colab_link": true
    },
    "kernelspec": {
      "name": "python3",
      "display_name": "Python 3"
    },
    "language_info": {
      "name": "python"
    }
  },
  "cells": [
    {
      "cell_type": "markdown",
      "metadata": {
        "id": "view-in-github",
        "colab_type": "text"
      },
      "source": [
        "<a href=\"https://colab.research.google.com/github/mobassir-salim/Data_Science/blob/main/Asssignment_Python_control_flow_solution_me.ipynb\" target=\"_parent\"><img src=\"https://colab.research.google.com/assets/colab-badge.svg\" alt=\"Open In Colab\"/></a>"
      ]
    },
    {
      "cell_type": "markdown",
      "source": [
        "##Basic If-Else Statements:"
      ],
      "metadata": {
        "id": "yfXcoUa0R36l"
      }
    },
    {
      "cell_type": "markdown",
      "source": [
        "1. Write a Python program to check if a given number is positive or negative."
      ],
      "metadata": {
        "id": "IJ4OoZU0R7U4"
      }
    },
    {
      "cell_type": "code",
      "source": [
        "num = float(input(\"Enter a number: \"))\n",
        "\n",
        "if num > 0:\n",
        "    print(\"The number is positive.\")\n",
        "elif num < 0:\n",
        "    print(\"The number is negative.\")\n",
        "else:\n",
        "    print(\"The number is zero.\")\n"
      ],
      "metadata": {
        "colab": {
          "base_uri": "https://localhost:8080/"
        },
        "id": "nL6lLZvESmBq",
        "outputId": "27cd052b-2729-4a83-91c3-99ae0a8f0d21"
      },
      "execution_count": null,
      "outputs": [
        {
          "output_type": "stream",
          "name": "stdout",
          "text": [
            "Enter a number: 18\n",
            "The number is positive.\n"
          ]
        }
      ]
    },
    {
      "cell_type": "markdown",
      "source": [
        "2. Create a program that determines if a person is eligible to vote based on their age."
      ],
      "metadata": {
        "id": "_6jNbHlESOeJ"
      }
    },
    {
      "cell_type": "code",
      "source": [
        "age = int(input(\"Enter your age: \"))\n",
        "\n",
        "if age >= 18:\n",
        "    print(\"You are eligible to vote.\")\n",
        "else:\n",
        "    print(\"You are not eligible to vote.\")\n"
      ],
      "metadata": {
        "colab": {
          "base_uri": "https://localhost:8080/"
        },
        "id": "4eZ6y2ybSpmu",
        "outputId": "bbe415fd-e2a8-462a-c3aa-8e0e945a92be"
      },
      "execution_count": null,
      "outputs": [
        {
          "output_type": "stream",
          "name": "stdout",
          "text": [
            "Enter your age: 18\n",
            "You are eligible to vote.\n"
          ]
        }
      ]
    },
    {
      "cell_type": "markdown",
      "source": [
        "3. Develop a program to find the maximum of two numbers using if-else statements."
      ],
      "metadata": {
        "id": "QwBNVQnpST_k"
      }
    },
    {
      "cell_type": "code",
      "source": [
        "num1 = float(input(\"Enter the first number: \"))\n",
        "num2 = float(input(\"Enter the second number: \"))\n",
        "\n",
        "if num1 > num2:\n",
        "    print(\"The maximum is:\", num1)\n",
        "else:\n",
        "    print(\"The maximum is:\", num2)\n"
      ],
      "metadata": {
        "colab": {
          "base_uri": "https://localhost:8080/"
        },
        "id": "nJlH4B7sS2fk",
        "outputId": "5d92b8cf-28af-4418-a06c-697be5942488"
      },
      "execution_count": null,
      "outputs": [
        {
          "output_type": "stream",
          "name": "stdout",
          "text": [
            "Enter the first number: 12\n",
            "Enter the second number: 34\n",
            "The maximum is: 34.0\n"
          ]
        }
      ]
    },
    {
      "cell_type": "markdown",
      "source": [
        "4. Write a Python script to classify a given year as a leap year or not."
      ],
      "metadata": {
        "id": "NNNg2CdpSWLB"
      }
    },
    {
      "cell_type": "code",
      "source": [
        "year = int(input(\"Enter a year: \"))\n",
        "\n",
        "if (year % 4 == 0 and year % 100 != 0) or (year % 400 == 0):\n",
        "    print(\"It's a leap year.\")\n",
        "else:\n",
        "    print(\"It's not a leap year.\")\n"
      ],
      "metadata": {
        "colab": {
          "base_uri": "https://localhost:8080/"
        },
        "id": "Fe6cZBujS9FM",
        "outputId": "9584d7d1-dff9-46e0-f066-f912177493f8"
      },
      "execution_count": null,
      "outputs": [
        {
          "output_type": "stream",
          "name": "stdout",
          "text": [
            "Enter a year: 1223\n",
            "It's not a leap year.\n"
          ]
        }
      ]
    },
    {
      "cell_type": "markdown",
      "source": [
        "5. Create a program that checks whether a character is a vowel or a consonant."
      ],
      "metadata": {
        "id": "YV-hFR39SYa_"
      }
    },
    {
      "cell_type": "code",
      "source": [
        "char = input(\"Enter a character: \")\n",
        "\n",
        "if char.lower() in ['a', 'e', 'i', 'o', 'u']:\n",
        "    print(\"It's a vowel.\")\n",
        "else:\n",
        "    print(\"It's a consonant.\")\n"
      ],
      "metadata": {
        "colab": {
          "base_uri": "https://localhost:8080/"
        },
        "id": "cYnSamMXTBYH",
        "outputId": "8946a08c-b5a2-44f4-aff5-7d318c0d8d95"
      },
      "execution_count": null,
      "outputs": [
        {
          "output_type": "stream",
          "name": "stdout",
          "text": [
            "Enter a character: a\n",
            "It's a vowel.\n"
          ]
        }
      ]
    },
    {
      "cell_type": "markdown",
      "source": [
        "6. Implement a program to determine whether a given number is even or odd."
      ],
      "metadata": {
        "id": "utQ7p2ZlSbSI"
      }
    },
    {
      "cell_type": "code",
      "source": [
        "num = int(input(\"Enter a number: \"))\n",
        "\n",
        "if num % 2 == 0:\n",
        "    print(\"The number is even.\")\n",
        "else:\n",
        "    print(\"The number is odd.\")\n"
      ],
      "metadata": {
        "colab": {
          "base_uri": "https://localhost:8080/"
        },
        "id": "10PGU_OsTJF5",
        "outputId": "1e3a01fc-6127-454d-f5c2-a31ce7a6ad02"
      },
      "execution_count": null,
      "outputs": [
        {
          "output_type": "stream",
          "name": "stdout",
          "text": [
            "Enter a number: 121324\n",
            "The number is even.\n"
          ]
        }
      ]
    },
    {
      "cell_type": "markdown",
      "source": [
        "7. Write a Python function to calculate the absolute value of a number without using the `abs()` function."
      ],
      "metadata": {
        "id": "nmGNz1slSeL4"
      }
    },
    {
      "cell_type": "code",
      "source": [
        "num = float(input(\"Enter a number: \"))\n",
        "\n",
        "if num < 0:\n",
        "    abs_value = -num\n",
        "else:\n",
        "    abs_value = num\n",
        "\n",
        "print(\"The absolute value is:\", abs_value)\n"
      ],
      "metadata": {
        "colab": {
          "base_uri": "https://localhost:8080/"
        },
        "id": "97XhXMYJTOyj",
        "outputId": "8732efd0-88c8-4c40-d0fe-1e838077a9b0"
      },
      "execution_count": null,
      "outputs": [
        {
          "output_type": "stream",
          "name": "stdout",
          "text": [
            "Enter a number: 25.6\n",
            "The absolute value is: 25.6\n"
          ]
        }
      ]
    },
    {
      "cell_type": "markdown",
      "source": [
        "8. Develop a program that determines the largest of three given numbers using if-else statements."
      ],
      "metadata": {
        "id": "ajrNpUyBSf8j"
      }
    },
    {
      "cell_type": "code",
      "source": [
        "num1 = float(input(\"Enter the first number: \"))\n",
        "num2 = float(input(\"Enter the second number: \"))\n",
        "num3 = float(input(\"Enter the third number: \"))\n",
        "\n",
        "if num1 >= num2 and num1 >= num3:\n",
        "    print(\"The largest number is:\", num1)\n",
        "elif num2 >= num1 and num2 >= num3:\n",
        "    print(\"The largest number is:\", num2)\n",
        "else:\n",
        "    print(\"The largest number is:\", num3)\n"
      ],
      "metadata": {
        "colab": {
          "base_uri": "https://localhost:8080/"
        },
        "id": "hknKWmKITU0b",
        "outputId": "fd25e7a8-8c71-4532-ee32-6350cee7cdec"
      },
      "execution_count": null,
      "outputs": [
        {
          "output_type": "stream",
          "name": "stdout",
          "text": [
            "Enter the first number: 100\n",
            "Enter the second number: 1\n",
            "Enter the third number: 3\n",
            "The largest number is: 100.0\n"
          ]
        }
      ]
    },
    {
      "cell_type": "markdown",
      "source": [
        "9. Create a program that checks if a given string is a palindrome."
      ],
      "metadata": {
        "id": "DNgbsoGBSh1E"
      }
    },
    {
      "cell_type": "code",
      "source": [
        "string = input(\"Enter a string: \")\n",
        "\n",
        "if string == string[::-1]:\n",
        "    print(\"It's a palindrome.\")\n",
        "else:\n",
        "    print(\"It's not a palindrome.\")\n"
      ],
      "metadata": {
        "colab": {
          "base_uri": "https://localhost:8080/"
        },
        "id": "47DIrFNtTmCR",
        "outputId": "7243e5df-d9ee-47d1-b11a-4b3a416b63bd"
      },
      "execution_count": null,
      "outputs": [
        {
          "output_type": "stream",
          "name": "stdout",
          "text": [
            "Enter a string: nun\n",
            "It's a palindrome.\n"
          ]
        }
      ]
    },
    {
      "cell_type": "markdown",
      "source": [
        "10. Write a Python program to calculate the grade based on a student's score."
      ],
      "metadata": {
        "id": "P9NgRA0oSj3s"
      }
    },
    {
      "cell_type": "code",
      "execution_count": null,
      "metadata": {
        "colab": {
          "base_uri": "https://localhost:8080/"
        },
        "id": "jimGPl0lRW5L",
        "outputId": "b563d550-c080-4cf8-b48b-582f397938b4"
      },
      "outputs": [
        {
          "output_type": "stream",
          "name": "stdout",
          "text": [
            "Enter the student's score: 40\n",
            "The student's grade is: F\n"
          ]
        }
      ],
      "source": [
        "score = float(input(\"Enter the student's score: \"))\n",
        "\n",
        "if 90 <= score <= 100:\n",
        "    grade = 'A'\n",
        "elif 80 <= score < 90:\n",
        "    grade = 'B'\n",
        "elif 70 <= score < 80:\n",
        "    grade = 'C'\n",
        "elif 60 <= score < 70:\n",
        "    grade = 'D'\n",
        "\n",
        "else:\n",
        "    grade = 'F'\n",
        "\n",
        "\n",
        "print(\"The student's grade is:\", grade)\n"
      ]
    },
    {
      "cell_type": "markdown",
      "source": [
        "##Nested If-Else Statements:"
      ],
      "metadata": {
        "id": "-sk5UHcRhftU"
      }
    },
    {
      "cell_type": "markdown",
      "source": [
        "11. Write a program to find the largest among three numbers using nested if-else statements."
      ],
      "metadata": {
        "id": "rJNDjurmWfPq"
      }
    },
    {
      "cell_type": "code",
      "source": [
        "num1 = float(input(\"Enter the first number: \"))\n",
        "num2 = float(input(\"Enter the second number: \"))\n",
        "num3 = float(input(\"Enter the third number: \"))\n",
        "\n",
        "largest = None\n",
        "\n",
        "if num1 >= num2:\n",
        "    if num1 >= num3:\n",
        "        largest = num1\n",
        "if num2 >= num1:\n",
        "    if num2 >= num3:\n",
        "        largest = num2\n",
        "if num3 >= num1:\n",
        "    if num3 >= num2:\n",
        "        largest = num3\n",
        "\n",
        "if largest is not None:\n",
        "    print(\"The largest number is:\", largest)\n",
        "else:\n",
        "    print(\"All numbers are equal.\")\n"
      ],
      "metadata": {
        "colab": {
          "base_uri": "https://localhost:8080/"
        },
        "id": "CVNhNfzDgvLl",
        "outputId": "3f64f406-c4eb-4e20-a5a9-13e54a630533"
      },
      "execution_count": null,
      "outputs": [
        {
          "output_type": "stream",
          "name": "stdout",
          "text": [
            "Enter the first number: 6\n",
            "Enter the second number: 0\n",
            "Enter the third number: 44\n",
            "The largest number is: 44.0\n"
          ]
        }
      ]
    },
    {
      "cell_type": "markdown",
      "source": [
        "12. Implement a program to determine if a triangle is equilateral, isosceles, or scalene."
      ],
      "metadata": {
        "id": "6xl3LY5mWjuG"
      }
    },
    {
      "cell_type": "code",
      "source": [
        "side1 = float(input(\"Enter the length of the first side: \"))\n",
        "side2 = float(input(\"Enter the length of the second side: \"))\n",
        "side3 = float(input(\"Enter the length of the third side: \"))\n",
        "\n",
        "if side1 == side2 and side2 == side3:\n",
        "    triangle_type = \"equilateral\"\n",
        "else:\n",
        "    if side1 == side2 or side1 == side3 or side2 == side3:\n",
        "        triangle_type = \"isosceles\"\n",
        "    else:\n",
        "        triangle_type = \"scalene\"\n",
        "\n",
        "print(\"The triangle is\", triangle_type)\n"
      ],
      "metadata": {
        "id": "cq05W1pKg4gP"
      },
      "execution_count": null,
      "outputs": []
    },
    {
      "cell_type": "markdown",
      "source": [
        "13. Develop a program that checks if a year is a leap year and also if it is a century year."
      ],
      "metadata": {
        "id": "kl0odeitWmal"
      }
    },
    {
      "cell_type": "code",
      "source": [
        "year = int(input(\"Enter a year: \"))\n",
        "\n",
        "is_leap_year = False\n",
        "is_century_year = False\n",
        "\n",
        "if year % 4 == 0:\n",
        "    is_leap_year = True\n",
        "    if year % 100 == 0:\n",
        "        is_century_year = True\n",
        "        if year % 400 != 0:\n",
        "            is_leap_year = False\n",
        "\n",
        "if is_leap_year:\n",
        "    print(\"It's a leap year.\")\n",
        "    if is_century_year:\n",
        "        print(\"It's also a century year.\")\n",
        "else:\n",
        "    print(\"It's not a leap year.\")\n"
      ],
      "metadata": {
        "id": "t1AOcCoOg7TO"
      },
      "execution_count": null,
      "outputs": []
    },
    {
      "cell_type": "markdown",
      "source": [
        "14. Write a Python script to determine if a number is positive, negative, or zero."
      ],
      "metadata": {
        "id": "t8Jo-9x8Wo8N"
      }
    },
    {
      "cell_type": "code",
      "source": [
        "num = float(input(\"Enter a number: \"))\n",
        "\n",
        "if num > 0:\n",
        "    print(\"The number is positive.\")\n",
        "else:\n",
        "    if num < 0:\n",
        "        print(\"The number is negative.\")\n",
        "    else:\n",
        "        print(\"The number is zero.\")\n"
      ],
      "metadata": {
        "id": "f5jOa2alg-YX"
      },
      "execution_count": null,
      "outputs": []
    },
    {
      "cell_type": "markdown",
      "source": [
        "15. Create a program to check if a person is a teenager (between 13 and 19 years old)."
      ],
      "metadata": {
        "id": "ddiEDRvFWr7b"
      }
    },
    {
      "cell_type": "code",
      "source": [
        "age = int(input(\"Enter your age: \"))\n",
        "\n",
        "is_teenager = False\n",
        "\n",
        "if age >= 13:\n",
        "    if age <= 19:\n",
        "        is_teenager = True\n",
        "\n",
        "if is_teenager:\n",
        "    print(\"You are a teenager.\")\n",
        "else:\n",
        "    print(\"You are not a teenager.\")\n"
      ],
      "metadata": {
        "id": "xe7UCFI0hBPk"
      },
      "execution_count": null,
      "outputs": []
    },
    {
      "cell_type": "markdown",
      "source": [
        "16. Develop a program that determines the type of angle based on its measure (acute, obtuse, or right)."
      ],
      "metadata": {
        "id": "5nmBnbRTWuNf"
      }
    },
    {
      "cell_type": "code",
      "source": [
        "angle = float(input(\"Enter the angle measure in degrees: \"))\n",
        "\n",
        "angle_type = None\n",
        "\n",
        "if angle < 90:\n",
        "    angle_type = \"acute\"\n",
        "else:\n",
        "    if angle == 90:\n",
        "        angle_type = \"right\"\n",
        "    else:\n",
        "        angle_type = \"obtuse\"\n",
        "\n",
        "print(\"The angle is\", angle_type)\n"
      ],
      "metadata": {
        "id": "0T4sDMXkhHbC"
      },
      "execution_count": null,
      "outputs": []
    },
    {
      "cell_type": "markdown",
      "source": [
        "17. Write a Python program to calculate the roots of a quadratic equation."
      ],
      "metadata": {
        "id": "xnYkBxBfWwY8"
      }
    },
    {
      "cell_type": "code",
      "source": [
        "import math\n",
        "\n",
        "a = float(input(\"Enter the coefficient a: \"))\n",
        "b = float(input(\"Enter the coefficient b: \"))\n",
        "c = float(input(\"Enter the coefficient c: \"))\n",
        "\n",
        "discriminant = b**2 - 4*a*c\n",
        "\n",
        "root1 = None\n",
        "root2 = None\n",
        "\n",
        "if discriminant > 0:\n",
        "    root1 = (-b + math.sqrt(discriminant)) / (2*a)\n",
        "    root2 = (-b - math.sqrt(discriminant)) / (2*a)\n",
        "else:\n",
        "    if discriminant == 0:\n",
        "        root1 = -b / (2*a)\n",
        "\n",
        "if root1 is not None:\n",
        "    if root2 is not None:\n",
        "        print(\"Two distinct real roots: root1 =\", root1, \"and root2 =\", root2)\n",
        "    else:\n",
        "        print(\"One real root: root =\", root1)\n",
        "else:\n",
        "    print(\"Complex roots.\")\n"
      ],
      "metadata": {
        "id": "oAwP24JXhKSj"
      },
      "execution_count": null,
      "outputs": []
    },
    {
      "cell_type": "markdown",
      "source": [
        "18. Implement a program to determine the day of the week based on a user-provided number (1 for Monday, 2\n",
        "for Tuesday, etc.)."
      ],
      "metadata": {
        "id": "lUMgs-D1WzMA"
      }
    },
    {
      "cell_type": "code",
      "source": [
        "day_number = int(input(\"Enter a day number (1 for Monday, 2 for Tuesday, etc.): \"))\n",
        "\n",
        "day_name = None\n",
        "\n",
        "if day_number == 1:\n",
        "    day_name = \"Monday\"\n",
        "else:\n",
        "    if day_number == 2:\n",
        "        day_name = \"Tuesday\"\n",
        "    else:\n",
        "        if day_number == 3:\n",
        "            day_name = \"Wednesday\"\n",
        "        else:\n",
        "            if day_number == 4:\n",
        "                day_name = \"Thursday\"\n",
        "            else:\n",
        "                if day_number == 5:\n",
        "                    day_name = \"Friday\"\n",
        "                else:\n",
        "                    if day_number == 6:\n",
        "                        day_name = \"Saturday\"\n",
        "                    else:\n",
        "                        if day_number == 7:\n",
        "                            day_name = \"Sunday\"\n",
        "\n",
        "if day_name is not None:\n",
        "    print(\"The day is\", day_name)\n",
        "else:\n",
        "    print(\"Invalid day number.\")\n"
      ],
      "metadata": {
        "id": "2RIjuGADhL5O"
      },
      "execution_count": null,
      "outputs": []
    },
    {
      "cell_type": "markdown",
      "source": [
        "19. Create a program that determines if a year is a leap year and also if it is evenly divisible by 400."
      ],
      "metadata": {
        "id": "rPc0DzF5W2jt"
      }
    },
    {
      "cell_type": "code",
      "source": [
        "num = int(input(\"Enter a number: \"))\n",
        "\n",
        "is_prime = True\n",
        "\n",
        "if num <= 1:\n",
        "    is_prime = False\n",
        "else:\n",
        "    for i in range(2, int(num**0.5) + 1):\n",
        "        if num % i == 0:\n",
        "            is_prime = False\n",
        "            break\n",
        "\n",
        "if is_prime:\n",
        "    print(\"It's a prime number.\")\n",
        "else:\n",
        "    print(\"It's not a prime number.\")\n"
      ],
      "metadata": {
        "id": "fKrETDmVhPJt"
      },
      "execution_count": null,
      "outputs": []
    },
    {
      "cell_type": "markdown",
      "source": [
        "20. Develop a program that checks if a given number is prime or not using nested if-else statements."
      ],
      "metadata": {
        "id": "JaXMSRq2W5Te"
      }
    },
    {
      "cell_type": "code",
      "source": [
        "num = int(input(\"Enter a number: \"))\n",
        "\n",
        "is_prime = True\n",
        "\n",
        "if num <= 1:\n",
        "    is_prime = False\n",
        "else:\n",
        "    for i in range(2, int(num**0.5) + 1):\n",
        "        if num % i == 0:\n",
        "            is_prime = False\n",
        "            break\n",
        "\n",
        "if is_prime:\n",
        "    print(\"It's a prime number.\")\n",
        "else:\n",
        "    print(\"It's not a prime number.\")\n"
      ],
      "metadata": {
        "id": "o8Veo6P9hR-Q"
      },
      "execution_count": null,
      "outputs": []
    },
    {
      "cell_type": "markdown",
      "source": [
        "##Elif Statements:\n"
      ],
      "metadata": {
        "id": "EsDg3wXLhmP1"
      }
    },
    {
      "cell_type": "markdown",
      "source": [
        "21. Write a Python program to assign grades based on different ranges of scores using elif statements."
      ],
      "metadata": {
        "id": "MFcQstHEDOSk"
      }
    },
    {
      "cell_type": "code",
      "source": [
        "score = int(input(\"Enter the student's score: \"))\n",
        "\n",
        "if score >= 90:\n",
        "    grade = 'A'\n",
        "elif score >= 80:\n",
        "    grade = 'B'\n",
        "elif score >= 70:\n",
        "    grade = 'C'\n",
        "elif score >= 60:\n",
        "    grade = 'D'\n",
        "else:\n",
        "    grade = 'F'\n",
        "\n",
        "print(f\"The student's grade is {grade}\")\n"
      ],
      "metadata": {
        "colab": {
          "base_uri": "https://localhost:8080/"
        },
        "id": "xEAXlApBDRPH",
        "outputId": "5d1120fc-103a-4980-e75c-580078f97e67"
      },
      "execution_count": 1,
      "outputs": [
        {
          "output_type": "stream",
          "name": "stdout",
          "text": [
            "Enter the student's score: 79\n",
            "The student's grade is C\n"
          ]
        }
      ]
    },
    {
      "cell_type": "markdown",
      "source": [
        "22. Implement a program to determine the type of a triangle based on its angles."
      ],
      "metadata": {
        "id": "VMm9Q98FDSrF"
      }
    },
    {
      "cell_type": "code",
      "source": [
        "angle1 = int(input(\"Enter the first angle: \"))\n",
        "angle2 = int(input(\"Enter the second angle: \"))\n",
        "angle3 = int(input(\"Enter the third angle: \"))\n",
        "\n",
        "if angle1 + angle2 + angle3 == 180:\n",
        "    if angle1 == angle2 == angle3:\n",
        "        triangle_type = 'equilateral'\n",
        "    elif angle1 == angle2 or angle2 == angle3 or angle1 == angle3:\n",
        "        triangle_type = 'isosceles'\n",
        "    else:\n",
        "        triangle_type = 'scalene'\n",
        "else:\n",
        "    triangle_type = 'not a valid triangle'\n",
        "\n",
        "print(f\"The triangle is {triangle_type}.\")\n"
      ],
      "metadata": {
        "colab": {
          "base_uri": "https://localhost:8080/"
        },
        "id": "VmaxKnaFDWvA",
        "outputId": "00e6527d-bb0c-4b39-a43e-a5b4810e353a"
      },
      "execution_count": 3,
      "outputs": [
        {
          "output_type": "stream",
          "name": "stdout",
          "text": [
            "Enter the first angle: 12\n",
            "Enter the second angle: 12\n",
            "Enter the third angle: 12\n",
            "The triangle is not a valid triangle.\n"
          ]
        }
      ]
    },
    {
      "cell_type": "markdown",
      "source": [
        "23. Develop a program to categorize a given person's BMI into underweight, normal, overweight, or obese using\n",
        "elif statements."
      ],
      "metadata": {
        "id": "p_7Bb_iADZfX"
      }
    },
    {
      "cell_type": "code",
      "source": [
        "weight = float(input(\"Enter weight in kilograms: \"))\n",
        "height = float(input(\"Enter height in meters: \"))\n",
        "\n",
        "bmi = weight / (height ** 2)\n",
        "\n",
        "if bmi < 18.5:\n",
        "    category = 'underweight'\n",
        "elif 18.5 <= bmi < 24.9:\n",
        "    category = 'normal'\n",
        "elif 24.9 <= bmi < 29.9:\n",
        "    category = 'overweight'\n",
        "else:\n",
        "    category = 'obese'\n",
        "\n",
        "print(f\"The person's BMI category is {category}.\")\n"
      ],
      "metadata": {
        "id": "81i-TTD4hteq"
      },
      "execution_count": null,
      "outputs": []
    },
    {
      "cell_type": "markdown",
      "source": [
        "24. Create a program that determines whether a given number is positive, negative, or zero using elif\n",
        "statements."
      ],
      "metadata": {
        "id": "wtm4ZuG0DxBG"
      }
    },
    {
      "cell_type": "code",
      "source": [
        "number = float(input(\"Enter a number: \"))\n",
        "\n",
        "if number > 0:\n",
        "    print(\"The number is positive.\")\n",
        "elif number < 0:\n",
        "    print(\"The number is negative.\")\n",
        "else:\n",
        "    print(\"The number is zero.\")\n"
      ],
      "metadata": {
        "id": "aI8gA7GaD2-x"
      },
      "execution_count": null,
      "outputs": []
    },
    {
      "cell_type": "markdown",
      "source": [
        "25. Write a Python script to determine the type of a character (uppercase, lowercase, or special) using elif\n",
        "statements."
      ],
      "metadata": {
        "id": "8Rh81npJD4QO"
      }
    },
    {
      "cell_type": "code",
      "source": [
        "character = input(\"Enter a character: \")\n",
        "\n",
        "if character.isalpha():\n",
        "    if character.islower():\n",
        "        print(\"The character is lowercase.\")\n",
        "    else:\n",
        "        print(\"The character is uppercase.\")\n",
        "elif character.isdigit():\n",
        "    print(\"The character is a digit.\")\n",
        "else:\n",
        "    print(\"The character is special.\")\n"
      ],
      "metadata": {
        "id": "XsKIcZMND72N"
      },
      "execution_count": null,
      "outputs": []
    },
    {
      "cell_type": "markdown",
      "source": [
        "26. Implement a program to calculate the discounted price based on different purchase amounts using elif\n",
        "statements."
      ],
      "metadata": {
        "id": "nDbmVaaFD-Fz"
      }
    },
    {
      "cell_type": "code",
      "source": [
        "purchase_amount = float(input(\"Enter the purchase amount: \"))\n",
        "\n",
        "if purchase_amount >= 1000:\n",
        "    discount = 0.1 * purchase_amount\n",
        "elif purchase_amount >= 500:\n",
        "    discount = 0.05 * purchase_amount\n",
        "else:\n",
        "    discount = 0\n",
        "\n",
        "discounted_price = purchase_amount - discount\n",
        "\n",
        "print(f\"The discounted price is ${discounted_price:.2f}\")\n"
      ],
      "metadata": {
        "id": "sgDH3sbfECXN"
      },
      "execution_count": null,
      "outputs": []
    },
    {
      "cell_type": "markdown",
      "source": [
        "27. Develop a program to calculate the electricity bill based on different consumption slabs using elif\n",
        "statements."
      ],
      "metadata": {
        "id": "7roJALSIEEws"
      }
    },
    {
      "cell_type": "code",
      "source": [
        "units_consumed = int(input(\"Enter the number of units consumed: \"))\n",
        "\n",
        "if units_consumed <= 100:\n",
        "    bill = 0.20 * units_consumed\n",
        "elif units_consumed <= 200:\n",
        "    bill = 0.20 * 100 + 0.50 * (units_consumed - 100)\n",
        "else:\n",
        "    bill = 0.20 * 100 + 0.50 * 100 + 0.75 * (units_consumed - 200)\n",
        "\n",
        "print(f\"The electricity bill is ${bill:.2f}\")\n"
      ],
      "metadata": {
        "id": "sgqo4H72EIg3"
      },
      "execution_count": null,
      "outputs": []
    },
    {
      "cell_type": "markdown",
      "source": [
        "28. Create a program to determine the type of quadrilateral based on its angles and sides using elif\n",
        "statements."
      ],
      "metadata": {
        "id": "iLQaXFiMELSm"
      }
    },
    {
      "cell_type": "code",
      "source": [
        "angle1 = int(input(\"Enter the first angle: \"))\n",
        "angle2 = int(input(\"Enter the second angle: \"))\n",
        "angle3 = int(input(\"Enter the third angle: \"))\n",
        "angle4 = int(input(\"Enter the fourth angle: \"))\n",
        "\n",
        "if angle1 == angle2 == angle3 == angle4 == 90:\n",
        "    quadrilateral_type = 'square'\n",
        "elif angle1 == angle2 and angle3 == angle4 and angle1 + angle3 == 180:\n",
        "    quadrilateral_type = 'rectangle'\n",
        "else:\n",
        "    quadrilateral_type = 'other'\n",
        "\n",
        "print(f\"The quadrilateral is a {quadrilateral_type}.\")\n"
      ],
      "metadata": {
        "id": "0VCYy3FwEOUX"
      },
      "execution_count": null,
      "outputs": []
    },
    {
      "cell_type": "markdown",
      "source": [
        "29. Write a Python script to determine the season based on a user-provided month using elif statements."
      ],
      "metadata": {
        "id": "P7DDkrG7EQb5"
      }
    },
    {
      "cell_type": "code",
      "source": [
        "month = int(input(\"Enter a month (1-12): \"))\n",
        "\n",
        "if 3 <= month <= 5:\n",
        "    season = 'spring'\n",
        "elif 6 <= month <= 8:\n",
        "    season = 'summer'\n",
        "elif 9 <= month <= 11:\n",
        "    season = 'autumn'\n",
        "else:\n",
        "    season = 'winter'\n",
        "\n",
        "print(f\"The season is {season}.\")\n"
      ],
      "metadata": {
        "id": "Bj7Kj_YKEUTk"
      },
      "execution_count": null,
      "outputs": []
    },
    {
      "cell_type": "markdown",
      "source": [
        "30. Implement a program to determine the type of a year (leap or common) and month (30 or 31 days) using\n",
        "elif statements."
      ],
      "metadata": {
        "id": "uTLmG4xHEW8_"
      }
    },
    {
      "cell_type": "code",
      "source": [
        "year = int(input(\"Enter a year: \"))\n",
        "month = int(input(\"Enter a month (1-12): \"))\n",
        "\n",
        "if (year % 4 == 0 and year % 100 != 0) or (year % 400 == 0):\n",
        "    year_type = 'leap'\n",
        "else:\n",
        "    year_type = 'common'\n",
        "\n",
        "if month in [1, 3, 5, 7, 8, 10, 12]:\n",
        "    month_days = 31\n",
        "elif month == 2:\n",
        "    month_days = 29 if year_type == 'leap' else 28\n",
        "else:\n",
        "    month_days = 30\n",
        "\n",
        "print(f\"The year is {year_type} and the month has {month_days} days.\")"
      ],
      "metadata": {
        "colab": {
          "base_uri": "https://localhost:8080/"
        },
        "id": "jJag7uWiEgXu",
        "outputId": "66d65ace-6f42-4f46-e009-cbfc1b6f073b"
      },
      "execution_count": 4,
      "outputs": [
        {
          "output_type": "stream",
          "name": "stdout",
          "text": [
            "Enter a year: 1992\n",
            "Enter a month (1-12): 2\n",
            "The year is leap and the month has 29 days.\n"
          ]
        }
      ]
    },
    {
      "cell_type": "markdown",
      "source": [
        "##Basic Level:"
      ],
      "metadata": {
        "id": "3YrKazN5Ep-t"
      }
    },
    {
      "cell_type": "markdown",
      "source": [
        "1. Write a Python program that checks if a given number is positive, negative, or zero."
      ],
      "metadata": {
        "id": "680WfISUFDjw"
      }
    },
    {
      "cell_type": "code",
      "source": [
        "number = float(input(\"Enter a number: \"))\n",
        "\n",
        "if number > 0:\n",
        "    print(\"Positive number\")\n",
        "elif number < 0:\n",
        "    print(\"Negative number\")\n",
        "else:\n",
        "    print(\"Zero\")\n"
      ],
      "metadata": {
        "id": "8z34KvP7EuMS"
      },
      "execution_count": null,
      "outputs": []
    },
    {
      "cell_type": "markdown",
      "source": [
        "2. Create a program to determine if a person is eligible to vote based on their age."
      ],
      "metadata": {
        "id": "a55T30--FJ4O"
      }
    },
    {
      "cell_type": "code",
      "source": [
        "age = int(input(\"Enter your age: \"))\n",
        "\n",
        "if age >= 18:\n",
        "    print(\"You are eligible to vote.\")\n",
        "else:\n",
        "    print(\"You are not eligible to vote.\")\n",
        "\n"
      ],
      "metadata": {
        "id": "ahIjHaAIFMVz"
      },
      "execution_count": null,
      "outputs": []
    },
    {
      "cell_type": "markdown",
      "source": [
        "3. Write a program to find the maximum of two given numbers using conditional statements."
      ],
      "metadata": {
        "id": "eLMzlxX6FQAx"
      }
    },
    {
      "cell_type": "code",
      "source": [
        "num1 = float(input(\"Enter the first number: \"))\n",
        "num2 = float(input(\"Enter the second number: \"))\n",
        "\n",
        "if num1 > num2:\n",
        "    print(\"The maximum is\", num1)\n",
        "elif num1 < num2:\n",
        "    print(\"The maximum is\", num2)\n",
        "else:\n",
        "    print(\"Both numbers are equal.\")\n"
      ],
      "metadata": {
        "id": "WBd-D9vBFQ7f"
      },
      "execution_count": null,
      "outputs": []
    },
    {
      "cell_type": "markdown",
      "source": [
        "4. Develop a program that calculates the grade of a student based on their exam score."
      ],
      "metadata": {
        "id": "m4N_pZTcFZfK"
      }
    },
    {
      "cell_type": "code",
      "source": [
        "score = float(input(\"Enter the student's score: \"))\n",
        "\n",
        "if 90 <= score <= 100:\n",
        "    print(\"Grade: A\")\n",
        "elif 80 <= score < 90:\n",
        "    print(\"Grade: B\")\n",
        "elif 70 <= score < 80:\n",
        "    print(\"Grade: C\")\n",
        "elif 60 <= score < 70:\n",
        "    print(\"Grade: D\")\n",
        "else:\n",
        "    print(\"Grade: F\")\n"
      ],
      "metadata": {
        "id": "kFNMlL40FaK9"
      },
      "execution_count": null,
      "outputs": []
    },
    {
      "cell_type": "markdown",
      "source": [
        "5. Create a program that checks if a year is a leap year or not."
      ],
      "metadata": {
        "id": "KxhOZrnnFgZr"
      }
    },
    {
      "cell_type": "code",
      "source": [
        "year = int(input(\"Enter a year: \"))\n",
        "\n",
        "if (year % 4 == 0 and year % 100 != 0) or (year % 400 == 0):\n",
        "    print(\"Leap year\")\n",
        "else:\n",
        "    print(\"Not a leap year\")\n"
      ],
      "metadata": {
        "id": "m-Q115t9Fi0i"
      },
      "execution_count": null,
      "outputs": []
    },
    {
      "cell_type": "markdown",
      "source": [
        "6. Write a program to classify a triangle based on its sides' lengths."
      ],
      "metadata": {
        "id": "5v_gCSIYFlGp"
      }
    },
    {
      "cell_type": "code",
      "source": [
        "side1 = float(input(\"Enter the length of the first side: \"))\n",
        "side2 = float(input(\"Enter the length of the second side: \"))\n",
        "side3 = float(input(\"Enter the length of the third side: \"))\n",
        "\n",
        "if side1 == side2 == side3:\n",
        "    print(\"Equilateral triangle\")\n",
        "elif side1 == side2 or side2 == side3 or side1 == side3:\n",
        "    print(\"Isosceles triangle\")\n",
        "else:\n",
        "    print(\"Scalene triangle\")\n"
      ],
      "metadata": {
        "id": "Qv8E3LydFnjG"
      },
      "execution_count": null,
      "outputs": []
    },
    {
      "cell_type": "markdown",
      "source": [
        "7. Build a program that determines the largest of three given numbers."
      ],
      "metadata": {
        "id": "SQcat4urFp1T"
      }
    },
    {
      "cell_type": "code",
      "source": [
        "num1 = float(input(\"Enter the first number: \"))\n",
        "num2 = float(input(\"Enter the second number: \"))\n",
        "num3 = float(input(\"Enter the third number: \"))\n",
        "\n",
        "if num1 >= num2 and num1 >= num3:\n",
        "    print(\"The largest number is\", num1)\n",
        "elif num2 >= num1 and num2 >= num3:\n",
        "    print(\"The largest number is\", num2)\n",
        "else:\n",
        "    print(\"The largest number is\", num3)\n"
      ],
      "metadata": {
        "id": "cbD1BuDJFvSz"
      },
      "execution_count": null,
      "outputs": []
    },
    {
      "cell_type": "markdown",
      "source": [
        "8. Develop a program that checks whether a character is a vowel or a consonant."
      ],
      "metadata": {
        "id": "yGXJU6UzFwx9"
      }
    },
    {
      "cell_type": "code",
      "source": [
        "character = input(\"Enter a character: \")\n",
        "\n",
        "if character.lower() in ['a', 'e', 'i', 'o', 'u']:\n",
        "    print(\"Vowel\")\n",
        "else:\n",
        "    print(\"Consonant\")\n"
      ],
      "metadata": {
        "id": "fJyC9bncFyr9"
      },
      "execution_count": null,
      "outputs": []
    },
    {
      "cell_type": "markdown",
      "source": [
        "9. Create a program to calculate the total cost of a shopping cart based on discounts."
      ],
      "metadata": {
        "id": "n_8QZQICF1YO"
      }
    },
    {
      "cell_type": "code",
      "source": [
        "cart_total = float(input(\"Enter the total cost of the shopping cart: \"))\n",
        "\n",
        "if cart_total >= 100:\n",
        "    discount = 0.1 * cart_total\n",
        "else:\n",
        "    discount = 0\n",
        "\n",
        "total_cost = cart_total - discount\n",
        "print(f\"Total cost after discount: ${total_cost:.2f}\")\n"
      ],
      "metadata": {
        "id": "CnXy07DHF5Ka"
      },
      "execution_count": null,
      "outputs": []
    },
    {
      "cell_type": "markdown",
      "source": [
        "10. Write a program that checks if a given number is even or odd."
      ],
      "metadata": {
        "id": "G9gYZrmoF7rt"
      }
    },
    {
      "cell_type": "code",
      "source": [
        "number = int(input(\"Enter a number: \"))\n",
        "\n",
        "if number % 2 == 0:\n",
        "    print(\"Even number\")\n",
        "else:\n",
        "    print(\"Odd number\")\n"
      ],
      "metadata": {
        "colab": {
          "base_uri": "https://localhost:8080/"
        },
        "id": "Xyhk4eZ_F9sS",
        "outputId": "4aca9fed-e044-417e-d068-46329ebbced1"
      },
      "execution_count": 5,
      "outputs": [
        {
          "output_type": "stream",
          "name": "stdout",
          "text": [
            "Enter a number: 111111111111111111111\n",
            "Odd number\n"
          ]
        }
      ]
    },
    {
      "cell_type": "markdown",
      "source": [
        "##Intermediate Level:"
      ],
      "metadata": {
        "id": "n93MpJQYF_-U"
      }
    },
    {
      "cell_type": "markdown",
      "source": [
        "11. Write a program that calculates the roots of a quadratic equation ."
      ],
      "metadata": {
        "id": "HGXMnxsjGFtU"
      }
    },
    {
      "cell_type": "code",
      "source": [
        "import math\n",
        "\n",
        "a = float(input(\"Enter the coefficient 'a': \"))\n",
        "b = float(input(\"Enter the coefficient 'b': \"))\n",
        "c = float(input(\"Enter the coefficient 'c': \"))\n",
        "\n",
        "# Calculate the discriminant\n",
        "discriminant = b**2 - 4*a*c\n",
        "\n",
        "if discriminant > 0:\n",
        "    root1 = (-b + math.sqrt(discriminant)) / (2*a)\n",
        "    root2 = (-b - math.sqrt(discriminant)) / (2*a)\n",
        "    print(f\"Root 1: {root1}, Root 2: {root2}\")\n",
        "elif discriminant == 0:\n",
        "    root = -b / (2*a)\n",
        "    print(f\"Repeated root: {root}\")\n",
        "else:\n",
        "    real_part = -b / (2*a)\n",
        "    imaginary_part = math.sqrt(abs(discriminant)) / (2*a)\n",
        "    print(f\"Complex roots: {real_part} + {imaginary_part}i and {real_part} - {imaginary_part}i\")\n"
      ],
      "metadata": {
        "id": "arCs34ZgGlQ3"
      },
      "execution_count": null,
      "outputs": []
    },
    {
      "cell_type": "markdown",
      "source": [
        "12. Create a program that determines the day of the week based on the day number (1-7)."
      ],
      "metadata": {
        "id": "CRhKcVA9GoUa"
      }
    },
    {
      "cell_type": "code",
      "source": [
        "day_number = int(input(\"Enter a day number (1-7): \"))\n",
        "\n",
        "if 1 <= day_number <= 7:\n",
        "    days_of_week = [\"Monday\", \"Tuesday\", \"Wednesday\", \"Thursday\", \"Friday\", \"Saturday\", \"Sunday\"]\n",
        "    print(f\"Day of the week: {days_of_week[day_number-1]}\")\n",
        "else:\n",
        "    print(\"Invalid day number.\")\n"
      ],
      "metadata": {
        "id": "aC9N1ZZOGq90"
      },
      "execution_count": null,
      "outputs": []
    },
    {
      "cell_type": "markdown",
      "source": [
        "13. Develop a program that calculates the factorial of a given number using recursion."
      ],
      "metadata": {
        "id": "nnaTzaiPGxls"
      }
    },
    {
      "cell_type": "code",
      "source": [
        "def factorial(n):\n",
        "    if n == 0:\n",
        "        return 1\n",
        "    else:\n",
        "        return n * factorial(n - 1)\n",
        "\n",
        "number = int(input(\"Enter a number: \"))\n",
        "if number < 0:\n",
        "    print(\"Factorial is not defined for negative numbers.\")\n",
        "else:\n",
        "    result = factorial(number)\n",
        "    print(f\"Factorial of {number} is {result}\")\n"
      ],
      "metadata": {
        "id": "37OMQTdjG0jy"
      },
      "execution_count": null,
      "outputs": []
    },
    {
      "cell_type": "markdown",
      "source": [
        "14. Write a program to find the largest among three numbers without using the `max()` function."
      ],
      "metadata": {
        "id": "38RlmX7ZG4bF"
      }
    },
    {
      "cell_type": "code",
      "source": [
        "num1 = float(input(\"Enter the first number: \"))\n",
        "num2 = float(input(\"Enter the second number: \"))\n",
        "num3 = float(input(\"Enter the third number: \"))\n",
        "\n",
        "largest = num1\n",
        "\n",
        "if num2 > largest:\n",
        "    largest = num2\n",
        "if num3 > largest:\n",
        "    largest = num3\n",
        "\n",
        "print(f\"The largest number is: {largest}\")\n"
      ],
      "metadata": {
        "id": "MuZm5Kv7G7Xo"
      },
      "execution_count": null,
      "outputs": []
    },
    {
      "cell_type": "markdown",
      "source": [
        "15. Create a program that simulates a basic ATM transaction menu."
      ],
      "metadata": {
        "id": "5nJypNsgG9hx"
      }
    },
    {
      "cell_type": "code",
      "source": [
        "balance = 1000  # Initial balance\n",
        "\n",
        "while True:\n",
        "    print(\"ATM Menu:\")\n",
        "    print(\"1. Check Balance\")\n",
        "    print(\"2. Deposit\")\n",
        "    print(\"3. Withdraw\")\n",
        "    print(\"4. Exit\")\n",
        "\n",
        "    choice = int(input(\"Enter your choice: \"))\n",
        "\n",
        "    if choice == 1:\n",
        "        print(f\"Your balance: ${balance}\")\n",
        "    elif choice == 2:\n",
        "        deposit_amount = float(input(\"Enter deposit amount: \"))\n",
        "        balance += deposit_amount\n",
        "        print(f\"Deposited: ${deposit_amount}\")\n",
        "    elif choice == 3:\n",
        "        withdraw_amount = float(input(\"Enter withdrawal amount: \"))\n",
        "        if withdraw_amount <= balance:\n",
        "            balance -= withdraw_amount\n",
        "            print(f\"Withdrawn: ${withdraw_amount}\")\n",
        "        else:\n",
        "            print(\"Insufficient balance.\")\n",
        "    elif choice == 4:\n",
        "        break\n",
        "    else:\n",
        "        print(\"Invalid choice. Please select a valid option.\")\n"
      ],
      "metadata": {
        "id": "lzwwumlhG_vk"
      },
      "execution_count": null,
      "outputs": []
    },
    {
      "cell_type": "markdown",
      "source": [
        "16. Build a program that checks if a given string is a palindrome or not."
      ],
      "metadata": {
        "id": "P3On-ZHLHDCS"
      }
    },
    {
      "cell_type": "code",
      "source": [
        "def is_palindrome(text):\n",
        "    cleaned_text = ''.join(text.split()).lower()\n",
        "    return cleaned_text == cleaned_text[::-1]\n",
        "\n",
        "text = input(\"Enter a string: \")\n",
        "if is_palindrome(text):\n",
        "    print(\"It's a palindrome.\")\n",
        "else:\n",
        "    print(\"It's not a palindrome.\")\n"
      ],
      "metadata": {
        "id": "waFDOfrRHCN4"
      },
      "execution_count": null,
      "outputs": []
    },
    {
      "cell_type": "markdown",
      "source": [
        "17. Write a program that calculates the average of a list of numbers, excluding the smallest and largest values."
      ],
      "metadata": {
        "id": "UuBxtYKXHLMb"
      }
    },
    {
      "cell_type": "code",
      "source": [
        "numbers = [float(x) for x in input(\"Enter a list of numbers separated by spaces: \").split()]\n",
        "\n",
        "if len(numbers) < 3:\n",
        "    print(\"You need at least 3 numbers.\")\n",
        "else:\n",
        "    min_value = min(numbers)\n",
        "    max_value = max(numbers)\n",
        "    numbers.remove(min_value)\n",
        "    numbers.remove(max_value)\n",
        "    average = sum(numbers) / len(numbers)\n",
        "    print(f\"Average (excluding min and max): {average}\")\n"
      ],
      "metadata": {
        "id": "Z5G9XO2dHN1m"
      },
      "execution_count": null,
      "outputs": []
    },
    {
      "cell_type": "markdown",
      "source": [
        "18. Develop a program that converts a given temperature from Celsius to Fahrenheit."
      ],
      "metadata": {
        "id": "BvgXncMFHRW9"
      }
    },
    {
      "cell_type": "code",
      "source": [
        "celsius = float(input(\"Enter temperature in Celsius: \"))\n",
        "fahrenheit = (celsius * 9/5) + 32\n",
        "print(f\"Temperature in Fahrenheit: {fahrenheit}°F\")\n"
      ],
      "metadata": {
        "id": "Hk9Im_KSHVHs"
      },
      "execution_count": null,
      "outputs": []
    },
    {
      "cell_type": "markdown",
      "source": [
        "19. Create a program that simulates a basic calculator for addition, subtraction, multiplication, and division."
      ],
      "metadata": {
        "id": "iR20WrQuHV8i"
      }
    },
    {
      "cell_type": "code",
      "source": [
        "num1 = float(input(\"Enter the first number: \"))\n",
        "operator = input(\"Enter an operator (+, -, *, /): \")\n",
        "num2 = float(input(\"Enter the second number: \"))\n",
        "\n",
        "if operator == '+':\n",
        "    result = num1 + num2\n",
        "elif operator == '-':\n",
        "    result = num1 - num2\n",
        "elif operator == '*':\n",
        "    result = num1 * num2\n",
        "elif operator == '/':\n",
        "    if num2 == 0:\n",
        "        print(\"Division by zero is not allowed.\")\n",
        "        result = None\n",
        "    else:\n",
        "        result = num1 / num2\n",
        "else:\n",
        "    print(\"Invalid operator.\")\n",
        "    result = None\n",
        "\n",
        "if result is not None:\n",
        "    print(f\"Result: {result}\")\n"
      ],
      "metadata": {
        "id": "7EJzupuMHY0e"
      },
      "execution_count": null,
      "outputs": []
    },
    {
      "cell_type": "markdown",
      "source": [
        "20. Write a program that determines the roots of a cubic equation using the Cardano formula."
      ],
      "metadata": {
        "id": "jbwsdO1kHeXS"
      }
    },
    {
      "cell_type": "markdown",
      "source": [
        "##Advanced Level:"
      ],
      "metadata": {
        "id": "_YErjT0pHi_l"
      }
    },
    {
      "cell_type": "markdown",
      "source": [
        "21. Create a program that calculates the income tax based on the user's income and tax brackets."
      ],
      "metadata": {
        "id": "tYr3kvP8HmAn"
      }
    },
    {
      "cell_type": "code",
      "source": [
        "def calculate_income_tax(income):\n",
        "    # Tax slabs and rates for individuals below 60 years of age\n",
        "    tax_slabs = [(250000, 0.05), (500000, 0.1), (1000000, 0.2)]\n",
        "\n",
        "    # Additional cess rates\n",
        "    health_cess = 0.04\n",
        "    education_cess = 0.02\n",
        "\n",
        "    # Standard deduction\n",
        "    standard_deduction = 50000  # For simplicity, considering a fixed standard deduction\n",
        "\n",
        "    # Calculate taxable income after deducting standard deduction\n",
        "    taxable_income = income - standard_deduction\n",
        "\n",
        "    # Initialize total tax\n",
        "    total_tax = 0\n",
        "\n",
        "    # Calculate tax for each slab\n",
        "    for slab, rate in tax_slabs:\n",
        "        if taxable_income <= 0:\n",
        "            break\n",
        "        slab_amount, slab_rate = min(taxable_income, slab), rate\n",
        "        slab_tax = slab_amount * slab_rate\n",
        "        total_tax += slab_tax\n",
        "        taxable_income -= slab_amount\n",
        "\n",
        "    # Calculate health and education cess on total tax\n",
        "    cess = (health_cess + education_cess) * total_tax\n",
        "\n",
        "    # Calculate total income tax\n",
        "    total_income_tax = total_tax + cess\n",
        "\n",
        "    return total_income_tax\n",
        "\n",
        "# Input user's income\n",
        "income = float(input(\"Enter your annual income in rupees: \"))\n",
        "\n",
        "# Calculate income tax\n",
        "income_tax = calculate_income_tax(income)\n",
        "\n",
        "print(f\"Your income tax liability is: ₹{income_tax:.2f}\")\n"
      ],
      "metadata": {
        "colab": {
          "base_uri": "https://localhost:8080/"
        },
        "id": "KjEpwgZuJvEN",
        "outputId": "e8983d5f-7e8e-47e8-bb1e-dee092a6c3b3"
      },
      "execution_count": 7,
      "outputs": [
        {
          "output_type": "stream",
          "name": "stdout",
          "text": [
            "Enter your annual income in rupees: 430000\n",
            "Your income tax liability is: ₹27030.00\n"
          ]
        }
      ]
    },
    {
      "cell_type": "markdown",
      "source": [
        "22. Write a program that simulates a rock-paper-scissors game against the computer."
      ],
      "metadata": {
        "id": "mxzHlMZMKjQd"
      }
    },
    {
      "cell_type": "code",
      "source": [
        "import random\n",
        "\n",
        "choices = [\"rock\", \"paper\", \"scissors\"]\n",
        "\n",
        "user_choice = input(\"Choose rock, paper, or scissors: \").lower()\n",
        "computer_choice = random.choice(choices)\n",
        "\n",
        "print(f\"Computer chose: {computer_choice}\")\n",
        "\n",
        "if user_choice not in choices:\n",
        "    print(\"Invalid choice. Please choose rock, paper, or scissors.\")\n",
        "elif user_choice == computer_choice:\n",
        "    print(\"It's a tie!\")\n",
        "elif (user_choice == \"rock\" and computer_choice == \"scissors\") or \\\n",
        "     (user_choice == \"paper\" and computer_choice == \"rock\") or \\\n",
        "     (user_choice == \"scissors\" and computer_choice == \"paper\"):\n",
        "    print(\"You win!\")\n",
        "else:\n",
        "    print(\"Computer wins!\")\n"
      ],
      "metadata": {
        "colab": {
          "base_uri": "https://localhost:8080/"
        },
        "id": "rsXuYRnoKmvy",
        "outputId": "e379a2f9-dc3e-4ad6-866e-b40aa891aff8"
      },
      "execution_count": 11,
      "outputs": [
        {
          "output_type": "stream",
          "name": "stdout",
          "text": [
            "Choose rock, paper, or scissors: Scissors\n",
            "Computer chose: rock\n",
            "Computer wins!\n"
          ]
        }
      ]
    },
    {
      "cell_type": "markdown",
      "source": [
        "23. Develop a program that generates a random password based on user preferences (length, complexity)."
      ],
      "metadata": {
        "id": "SM74AAisLEz-"
      }
    },
    {
      "cell_type": "code",
      "source": [
        "import random\n",
        "import string\n",
        "\n",
        "def generate_password(length, use_digits=True, use_special_chars=True):\n",
        "    chars = string.ascii_letters\n",
        "    if use_digits:\n",
        "        chars += string.digits\n",
        "    if use_special_chars:\n",
        "        chars += string.punctuation\n",
        "\n",
        "    password = ''.join(random.choice(chars) for _ in range(length))\n",
        "    return password\n",
        "\n",
        "length = int(input(\"Enter the length of the password: \"))\n",
        "use_digits = input(\"Include digits? (yes/no): \").lower() == \"yes\"\n",
        "use_special_chars = input(\"Include special characters? (yes/no): \").lower() == \"yes\"\n",
        "\n",
        "password = generate_password(length, use_digits, use_special_chars)\n",
        "print(f\"Generated password: {password}\")\n"
      ],
      "metadata": {
        "colab": {
          "base_uri": "https://localhost:8080/"
        },
        "id": "SwngxvM0LHqb",
        "outputId": "f24862db-dc93-48d9-e8f4-6ebebdcdb9bd"
      },
      "execution_count": 12,
      "outputs": [
        {
          "output_type": "stream",
          "name": "stdout",
          "text": [
            "Enter the length of the password: 10\n",
            "Include digits? (yes/no): yes\n",
            "Include special characters? (yes/no): yes\n",
            "Generated password: jk2p#_Dn`,\n"
          ]
        }
      ]
    },
    {
      "cell_type": "markdown",
      "source": [
        "24. Create a program that implements a simple text-based adventure game with branching scenarios."
      ],
      "metadata": {
        "id": "kxcEfdbxLY6m"
      }
    },
    {
      "cell_type": "code",
      "source": [
        "print(\"Welcome to the Adventure Game!\")\n",
        "\n",
        "print(\"You are in a dark forest. You can go 'left' or 'right'.\")\n",
        "\n",
        "choice1 = input(\"Which way do you want to go? \").lower()\n",
        "\n",
        "if choice1 == \"left\":\n",
        "    print(\"You find a treasure chest!\")\n",
        "    print(\"Do you want to 'open' it or 'leave' it?\")\n",
        "\n",
        "    choice2 = input(\"Your choice: \").lower()\n",
        "\n",
        "    if choice2 == \"open\":\n",
        "        print(\"Congratulations! You found the treasure!\")\n",
        "    elif choice2 == \"leave\":\n",
        "        print(\"You left the treasure chest behind.\")\n",
        "    else:\n",
        "        print(\"Invalid choice.\")\n",
        "\n",
        "elif choice1 == \"right\":\n",
        "    print(\"You encounter a hungry bear!\")\n",
        "    print(\"Do you want to 'fight' it or 'run' away?\")\n",
        "\n",
        "    choice2 = input(\"Your choice: \").lower()\n",
        "\n",
        "    if choice2 == \"fight\":\n",
        "        print(\"You fought bravely, but the bear was too strong. Game over!\")\n",
        "    elif choice2 == \"run\":\n",
        "        print(\"You ran away and escaped from the bear.\")\n",
        "    else:\n",
        "        print(\"Invalid choice.\")\n",
        "\n",
        "else:\n",
        "    print(\"Invalid choice.\")\n"
      ],
      "metadata": {
        "colab": {
          "base_uri": "https://localhost:8080/"
        },
        "id": "mR_BaeqlLb-W",
        "outputId": "50a0cc20-dcb0-4bae-9188-d2dbe0b08e54"
      },
      "execution_count": 14,
      "outputs": [
        {
          "output_type": "stream",
          "name": "stdout",
          "text": [
            "Welcome to the Adventure Game!\n",
            "You are in a dark forest. You can go 'left' or 'right'.\n",
            "Which way do you want to go? left\n",
            "You find a treasure chest!\n",
            "Do you want to 'open' it or 'leave' it?\n",
            "Your choice: open\n",
            "Congratulations! You found the treasure!\n"
          ]
        }
      ]
    },
    {
      "cell_type": "markdown",
      "source": [
        "25. Build a program that solves a linear equation for x, considering different cases."
      ],
      "metadata": {
        "id": "vB8KFDRTLtyZ"
      }
    },
    {
      "cell_type": "code",
      "source": [
        "equation = input(\"Enter a linear equation in the form 'ax + b = 0': \")\n",
        "\n",
        "try:\n",
        "    a, b = map(float, equation.split('x + '))\n",
        "    if a == 0:\n",
        "        if b == 0:\n",
        "            print(\"Infinite solutions.\")\n",
        "        else:\n",
        "            print(\"No solution.\")\n",
        "    else:\n",
        "        x = -b / a\n",
        "        print(f\"The solution for x is: {x}\")\n",
        "except ValueError:\n",
        "    print(\"Invalid equation format.\")\n",
        "\n"
      ],
      "metadata": {
        "id": "VT5hYOy7Hg-7"
      },
      "execution_count": null,
      "outputs": []
    },
    {
      "cell_type": "markdown",
      "source": [
        "26. Write a program that simulates a basic quiz game with multiple-choice questions and scoring."
      ],
      "metadata": {
        "id": "QpanPgrnNEAK"
      }
    },
    {
      "cell_type": "code",
      "source": [
        "questions = [\n",
        "    {\n",
        "        \"question\": \"What is the capital of France?\",\n",
        "        \"options\": [\"Berlin\", \"Madrid\", \"Paris\", \"Rome\"],\n",
        "        \"correct_option\": 2\n",
        "    },\n",
        "    {\n",
        "        \"question\": \"Which planet is known as the Red Planet?\",\n",
        "        \"options\": [\"Mars\", \"Jupiter\", \"Venus\", \"Saturn\"],\n",
        "        \"correct_option\": 0\n",
        "    },\n",
        "    {\n",
        "        \"question\": \"What is the largest mammal in the world?\",\n",
        "        \"options\": [\"Elephant\", \"Blue Whale\", \"Giraffe\", \"Hippopotamus\"],\n",
        "        \"correct_option\": 1\n",
        "    }\n",
        "]\n",
        "\n",
        "score = 0\n",
        "\n",
        "for i, question in enumerate(questions, 1):\n",
        "    print(f\"Question {i}: {question['question']}\")\n",
        "    for j, option in enumerate(question['options'], 1):\n",
        "        print(f\"{j}. {option}\")\n",
        "\n",
        "    user_answer = int(input(\"Your answer (enter the number): \")) - 1\n",
        "\n",
        "    if user_answer == question['correct_option']:\n",
        "        print(\"Correct!\\n\")\n",
        "        score += 1\n",
        "    else:\n",
        "        print(f\"Wrong! The correct answer is: {question['options'][question['correct_option']]}\\n\")\n",
        "\n",
        "print(f\"Your score: {score}/{len(questions)}\")\n"
      ],
      "metadata": {
        "colab": {
          "base_uri": "https://localhost:8080/"
        },
        "id": "MZrzzzDcNJxm",
        "outputId": "86d09b84-c1cf-466f-9cad-e5ba08e3132b"
      },
      "execution_count": 21,
      "outputs": [
        {
          "output_type": "stream",
          "name": "stdout",
          "text": [
            "Question 1: What is the capital of France?\n",
            "1. Berlin\n",
            "2. Madrid\n",
            "3. Paris\n",
            "4. Rome\n",
            "Your answer (enter the number): 3\n",
            "Correct!\n",
            "\n",
            "Question 2: Which planet is known as the Red Planet?\n",
            "1. Mars\n",
            "2. Jupiter\n",
            "3. Venus\n",
            "4. Saturn\n",
            "Your answer (enter the number): 1\n",
            "Correct!\n",
            "\n",
            "Question 3: What is the largest mammal in the world?\n",
            "1. Elephant\n",
            "2. Blue Whale\n",
            "3. Giraffe\n",
            "4. Hippopotamus\n",
            "Your answer (enter the number): 2\n",
            "Correct!\n",
            "\n",
            "Your score: 3/3\n"
          ]
        }
      ]
    },
    {
      "cell_type": "markdown",
      "source": [
        "27. Develop a program that determines whether a given year is a prime number or not."
      ],
      "metadata": {
        "id": "log7Oev3Nb67"
      }
    },
    {
      "cell_type": "code",
      "source": [
        "def is_prime(year):\n",
        "    if year < 2:\n",
        "        return False\n",
        "    for i in range(2, int(year**0.5) + 1):\n",
        "        if year % i == 0:\n",
        "            return False\n",
        "    return True\n",
        "\n",
        "year = int(input(\"Enter a year: \"))\n",
        "\n",
        "if is_prime(year):\n",
        "    print(f\"{year} is a prime number.\")\n",
        "else:\n",
        "    print(f\"{year} is not a prime number.\")\n"
      ],
      "metadata": {
        "colab": {
          "base_uri": "https://localhost:8080/"
        },
        "id": "ZeR6cAivNe2Z",
        "outputId": "d3b05259-def4-4216-bd18-868796c38e1a"
      },
      "execution_count": 22,
      "outputs": [
        {
          "output_type": "stream",
          "name": "stdout",
          "text": [
            "Enter a year: 1993\n",
            "1993 is a prime number.\n"
          ]
        }
      ]
    },
    {
      "cell_type": "markdown",
      "source": [
        "28. Create a program that sorts three numbers in ascending order using conditional statements."
      ],
      "metadata": {
        "id": "bYr9kV-yNnE_"
      }
    },
    {
      "cell_type": "code",
      "source": [
        "num1 = float(input(\"Enter the first number: \"))\n",
        "num2 = float(input(\"Enter the second number: \"))\n",
        "num3 = float(input(\"Enter the third number: \"))\n",
        "\n",
        "if num1 <= num2 <= num3:\n",
        "    sorted_numbers = [num1, num2, num3]\n",
        "elif num1 <= num3 <= num2:\n",
        "    sorted_numbers = [num1, num3, num2]\n",
        "elif num2 <= num1 <= num3:\n",
        "    sorted_numbers = [num2, num1, num3]\n",
        "elif num2 <= num3 <= num1:\n",
        "    sorted_numbers = [num2, num3, num1]\n",
        "elif num3 <= num1 <= num2:\n",
        "    sorted_numbers = [num3, num1, num2]\n",
        "else:\n",
        "    sorted_numbers = [num3, num2, num1]\n",
        "\n",
        "print(\"Numbers in ascending order:\", sorted_numbers)\n"
      ],
      "metadata": {
        "colab": {
          "base_uri": "https://localhost:8080/"
        },
        "id": "TZ10XOyBNpe1",
        "outputId": "79809adc-626d-4c1e-f480-4b9aacb8c929"
      },
      "execution_count": 24,
      "outputs": [
        {
          "output_type": "stream",
          "name": "stdout",
          "text": [
            "Enter the first number: 12\n",
            "Enter the second number: 1000000000000\n",
            "Enter the third number: 1\n",
            "Numbers in ascending order: [1.0, 12.0, 1000000000000.0]\n"
          ]
        }
      ]
    },
    {
      "cell_type": "markdown",
      "source": [
        "29. Build a program that determines the roots of a quartic equation using numerical methods."
      ],
      "metadata": {
        "id": "6QBM6jBFN60i"
      }
    },
    {
      "cell_type": "code",
      "source": [
        "from sympy import symbols, Eq, solve\n",
        "\n",
        "x = symbols('x')\n",
        "equation = input(\"Enter a quartic equation in the form 'ax^4 + bx^3 + cx^2 + dx + e = 0': \")\n",
        "\n",
        "try:\n",
        "    parts = equation.split('=')\n",
        "    left_side = parts[0]\n",
        "    right_side = parts[1]\n",
        "\n",
        "    equation = Eq(eval(left_side), eval(right_side))\n",
        "\n",
        "    roots = solve(equation, x)\n",
        "\n",
        "    print(f\"The roots of the equation are: {roots}\")\n",
        "except Exception as e:\n",
        "    print(\"Invalid equation format or unable to find roots:\", str(e))\n"
      ],
      "metadata": {
        "colab": {
          "base_uri": "https://localhost:8080/"
        },
        "id": "Ozo98wrDN86k",
        "outputId": "2a1dc228-27b5-4390-db71-05084e18311a"
      },
      "execution_count": 25,
      "outputs": [
        {
          "output_type": "stream",
          "name": "stdout",
          "text": [
            "Enter a quartic equation in the form 'ax^4 + bx^3 + cx^2 + dx + e = 0': 4x^4 + 3x^3 + 2x^2 + 1x +20 = 0\n",
            "Invalid equation format or unable to find roots: invalid decimal literal (<string>, line 1)\n"
          ]
        }
      ]
    },
    {
      "cell_type": "markdown",
      "source": [
        "30. Write a program that calculates the BMI (Body Mass Index) and provides health recommendations based\n",
        "on the user's input."
      ],
      "metadata": {
        "id": "wgSa5Uk1ORpv"
      }
    },
    {
      "cell_type": "code",
      "source": [
        "height = float(input(\"Enter your height in meters: \"))\n",
        "weight = float(input(\"Enter your weight in kilograms: \"))\n",
        "\n",
        "bmi = weight / (height ** 2)\n",
        "\n",
        "print(f\"Your BMI is: {bmi:.2f}\")\n",
        "\n",
        "if bmi < 18.5:\n",
        "    print(\"You are underweight. Consult a doctor for a balanced diet.\")\n",
        "elif 18.5 <= bmi < 24.9:\n",
        "    print(\"Your weight is normal. Keep up the good work!\")\n",
        "elif 24.9 <= bmi < 29.9:\n",
        "    print(\"You are overweight. Consider a diet and exercise plan.\")\n",
        "else:\n",
        "    print(\"You are obese. Seek medical advice for weight management.\")\n"
      ],
      "metadata": {
        "colab": {
          "base_uri": "https://localhost:8080/"
        },
        "id": "O0IZqQXpOTzs",
        "outputId": "374f7e18-13ed-4240-bfd4-130790750cbb"
      },
      "execution_count": 30,
      "outputs": [
        {
          "output_type": "stream",
          "name": "stdout",
          "text": [
            "Enter your height in meters: 1.65\n",
            "Enter your weight in kilograms: 70\n",
            "Your BMI is: 25.71\n",
            "You are overweight. Consider a diet and exercise plan.\n"
          ]
        }
      ]
    },
    {
      "cell_type": "markdown",
      "source": [
        "##Challenge Level:"
      ],
      "metadata": {
        "id": "jynIo8gHXLkQ"
      }
    },
    {
      "cell_type": "markdown",
      "source": [
        "31. Create a program that validates a password based on complexity rules (length, characters, etc.)."
      ],
      "metadata": {
        "id": "LnCwELL7XSlT"
      }
    },
    {
      "cell_type": "code",
      "source": [
        "import re\n",
        "\n",
        "def is_valid_password(password):\n",
        "    # Check if the password has at least 8 characters\n",
        "    if len(password) < 8:\n",
        "        return False\n",
        "\n",
        "    # Check if the password contains at least one uppercase letter\n",
        "    if not re.search(r'[A-Z]', password):\n",
        "        return False\n",
        "\n",
        "    # Check if the password contains at least one lowercase letter\n",
        "    if not re.search(r'[a-z]', password):\n",
        "        return False\n",
        "\n",
        "    # Check if the password contains at least one digit\n",
        "    if not re.search(r'[0-9]', password):\n",
        "        return False\n",
        "\n",
        "    # Check if the password contains at least one special character\n",
        "    if not re.search(r'[!@#$%^&*()-_=+]', password):\n",
        "        return False\n",
        "\n",
        "    return True\n",
        "\n",
        "password = input(\"Enter a password: \")\n",
        "\n",
        "if is_valid_password(password):\n",
        "    print(\"Valid password.\")\n",
        "else:\n",
        "    print(\"Invalid password.\")\n"
      ],
      "metadata": {
        "colab": {
          "base_uri": "https://localhost:8080/"
        },
        "id": "u-gPjxyLXW5u",
        "outputId": "cc05e8d9-ac45-412f-d89f-c4da51195d29"
      },
      "execution_count": 31,
      "outputs": [
        {
          "output_type": "stream",
          "name": "stdout",
          "text": [
            "Enter a password: Password@2023\n",
            "Valid password.\n"
          ]
        }
      ]
    },
    {
      "cell_type": "markdown",
      "source": [
        "32. Develop a program that performs matrix addition and subtraction based on user input."
      ],
      "metadata": {
        "id": "4YBIUuVQXfqv"
      }
    },
    {
      "cell_type": "code",
      "source": [
        "def matrix_addition(A, B):\n",
        "    result = [[A[i][j] + B[i][j] for j in range(len(A[0]))] for i in range(len(A))]\n",
        "    return result\n",
        "\n",
        "def matrix_subtraction(A, B):\n",
        "    result = [[A[i][j] - B[i][j] for j in range(len(A[0]))] for i in range(len(A))]\n",
        "    return result\n",
        "\n",
        "# Example matrices\n",
        "matrix1 = [[1, 2], [3, 4]]\n",
        "matrix2 = [[5, 6], [7, 8]]\n",
        "\n",
        "add_result = matrix_addition(matrix1, matrix2)\n",
        "sub_result = matrix_subtraction(matrix1, matrix2)\n",
        "\n",
        "print(\"Matrix Addition Result:\")\n",
        "for row in add_result:\n",
        "    print(row)\n",
        "\n",
        "print(\"Matrix Subtraction Result:\")\n",
        "for row in sub_result:\n",
        "    print(row)\n"
      ],
      "metadata": {
        "colab": {
          "base_uri": "https://localhost:8080/"
        },
        "id": "WZ13KBXNXpid",
        "outputId": "5d41703b-18cf-41e0-863f-ab35b11b0113"
      },
      "execution_count": 32,
      "outputs": [
        {
          "output_type": "stream",
          "name": "stdout",
          "text": [
            "Matrix Addition Result:\n",
            "[6, 8]\n",
            "[10, 12]\n",
            "Matrix Subtraction Result:\n",
            "[-4, -4]\n",
            "[-4, -4]\n"
          ]
        }
      ]
    },
    {
      "cell_type": "markdown",
      "source": [
        "33. Write a program that calculates the greatest common divisor (GCD) of two numbers using the Euclidean\n",
        "algorithm."
      ],
      "metadata": {
        "id": "DccNbtmrXuPB"
      }
    },
    {
      "cell_type": "code",
      "source": [
        "def gcd(a, b):\n",
        "    while b:\n",
        "        a, b = b, a % b\n",
        "    return a\n",
        "\n",
        "num1 = int(input(\"Enter the first number: \"))\n",
        "num2 = int(input(\"Enter the second number: \"))\n",
        "\n",
        "result = gcd(num1, num2)\n",
        "print(f\"The GCD of {num1} and {num2} is {result}\")\n"
      ],
      "metadata": {
        "colab": {
          "base_uri": "https://localhost:8080/"
        },
        "id": "miDD6E4OXwSv",
        "outputId": "1c4bd9b0-38ff-4376-e648-0f69dcf1eaa2"
      },
      "execution_count": 34,
      "outputs": [
        {
          "output_type": "stream",
          "name": "stdout",
          "text": [
            "Enter the first number: 525\n",
            "Enter the second number: 25\n",
            "The GCD of 525 and 25 is 25\n"
          ]
        }
      ]
    },
    {
      "cell_type": "markdown",
      "source": [
        "34. Build a program that performs matrix multiplication using nested loops and conditional statements."
      ],
      "metadata": {
        "id": "6XAjn9y2XnNB"
      }
    },
    {
      "cell_type": "code",
      "source": [
        "def matrix_multiplication(A, B):\n",
        "    result = []\n",
        "    for i in range(len(A)):\n",
        "        row = []\n",
        "        for j in range(len(B[0])):\n",
        "            sum = 0\n",
        "            for k in range(len(B)):\n",
        "                sum += A[i][k] * B[k][j]\n",
        "            row.append(sum)\n",
        "        result.append(row)\n",
        "    return result\n",
        "\n",
        "# Example matrices\n",
        "matrix1 = [[1, 2], [3, 4]]\n",
        "matrix2 = [[5, 6], [7, 8]]\n",
        "\n",
        "multiply_result = matrix_multiplication(matrix1, matrix2)\n",
        "\n",
        "print(\"Matrix Multiplication Result:\")\n",
        "for row in multiply_result:\n",
        "    print(row)\n"
      ],
      "metadata": {
        "colab": {
          "base_uri": "https://localhost:8080/"
        },
        "id": "1i68EjuIYBCA",
        "outputId": "36511e40-04d4-4835-8edd-6d25d34bc327"
      },
      "execution_count": 35,
      "outputs": [
        {
          "output_type": "stream",
          "name": "stdout",
          "text": [
            "Matrix Multiplication Result:\n",
            "[19, 22]\n",
            "[43, 50]\n"
          ]
        }
      ]
    },
    {
      "cell_type": "markdown",
      "source": [
        "35. Create a program that simulates a basic text-based tic-tac-toe game against the computer."
      ],
      "metadata": {
        "id": "XIySdUqEYKfG"
      }
    },
    {
      "cell_type": "code",
      "source": [
        "def print_board(board):\n",
        "    for row in board:\n",
        "        print(\" | \".join(row))\n",
        "        print(\"-\" * 9)\n",
        "\n",
        "def check_win(board, player):\n",
        "    for row in board:\n",
        "        if all(cell == player for cell in row):\n",
        "            return True\n",
        "\n",
        "    for col in range(3):\n",
        "        if all(board[row][col] == player for row in range(3)):\n",
        "            return True\n",
        "\n",
        "    if all(board[i][i] == player for i in range(3)) or all(board[i][2 - i] == player for i in range(3)):\n",
        "        return True\n",
        "\n",
        "    return False\n",
        "\n",
        "def is_full(board):\n",
        "    return all(cell != \" \" for row in board for cell in row)\n",
        "\n",
        "def tic_tac_toe():\n",
        "    board = [[\" \" for _ in range(3)] for _ in range(3)]\n",
        "    player = \"X\"\n",
        "\n",
        "    while True:\n",
        "        print_board(board)\n",
        "        row = int(input(f\"Player {player}, enter row (0-2): \"))\n",
        "        col = int(input(f\"Player {player}, enter column (0-2): \"))\n",
        "\n",
        "        if board[row][col] == \" \":\n",
        "            board[row][col] = player\n",
        "\n",
        "            if check_win(board, player):\n",
        "                print_board(board)\n",
        "                print(f\"Player {player} wins!\")\n",
        "                break\n",
        "\n",
        "            if is_full(board):\n",
        "                print_board(board)\n",
        "                print(\"It's a tie!\")\n",
        "                break\n",
        "\n",
        "            player = \"O\" if player == \"X\" else \"X\"\n",
        "        else:\n",
        "            print(\"That cell is already occupied. Try again.\")\n",
        "\n",
        "tic_tac_toe()\n"
      ],
      "metadata": {
        "colab": {
          "base_uri": "https://localhost:8080/"
        },
        "id": "3bOJLmpsYNOy",
        "outputId": "5b64e641-2cdf-452c-db07-dc525c683297"
      },
      "execution_count": 36,
      "outputs": [
        {
          "output_type": "stream",
          "name": "stdout",
          "text": [
            "  |   |  \n",
            "---------\n",
            "  |   |  \n",
            "---------\n",
            "  |   |  \n",
            "---------\n",
            "Player X, enter row (0-2): 1\n",
            "Player X, enter column (0-2): 1\n",
            "  |   |  \n",
            "---------\n",
            "  | X |  \n",
            "---------\n",
            "  |   |  \n",
            "---------\n",
            "Player O, enter row (0-2): 1\n",
            "Player O, enter column (0-2): 2\n",
            "  |   |  \n",
            "---------\n",
            "  | X | O\n",
            "---------\n",
            "  |   |  \n",
            "---------\n",
            "Player X, enter row (0-2): 2\n",
            "Player X, enter column (0-2): 1\n",
            "  |   |  \n",
            "---------\n",
            "  | X | O\n",
            "---------\n",
            "  | X |  \n",
            "---------\n",
            "Player O, enter row (0-2): 0\n",
            "Player O, enter column (0-2): 1\n",
            "  | O |  \n",
            "---------\n",
            "  | X | O\n",
            "---------\n",
            "  | X |  \n",
            "---------\n",
            "Player X, enter row (0-2): 0\n",
            "Player X, enter column (0-2): 0\n",
            "X | O |  \n",
            "---------\n",
            "  | X | O\n",
            "---------\n",
            "  | X |  \n",
            "---------\n",
            "Player O, enter row (0-2): 0\n",
            "Player O, enter column (0-2): 2\n",
            "X | O | O\n",
            "---------\n",
            "  | X | O\n",
            "---------\n",
            "  | X |  \n",
            "---------\n",
            "Player X, enter row (0-2): 2\n",
            "Player X, enter column (0-2): 2\n",
            "X | O | O\n",
            "---------\n",
            "  | X | O\n",
            "---------\n",
            "  | X | X\n",
            "---------\n",
            "Player X wins!\n"
          ]
        }
      ]
    },
    {
      "cell_type": "markdown",
      "source": [
        "36. Write a program that generates Fibonacci numbers up to a specified term using iterative methods."
      ],
      "metadata": {
        "id": "9CdtpSyiY6U6"
      }
    },
    {
      "cell_type": "code",
      "source": [
        "def generate_fibonacci(n):\n",
        "    fibonacci_sequence = [0, 1]\n",
        "    while len(fibonacci_sequence) < n:\n",
        "        next_fibonacci = fibonacci_sequence[-1] + fibonacci_sequence[-2]\n",
        "        fibonacci_sequence.append(next_fibonacci)\n",
        "    return fibonacci_sequence\n",
        "\n",
        "n = int(input(\"Enter the number of Fibonacci terms to generate: \"))\n",
        "\n",
        "if n <= 0:\n",
        "    print(\"Invalid input.\")\n",
        "else:\n",
        "    fibonacci_terms = generate_fibonacci(n)\n",
        "    print(f\"Fibonacci sequence of {n} terms:\")\n",
        "    print(fibonacci_terms)\n"
      ],
      "metadata": {
        "colab": {
          "base_uri": "https://localhost:8080/"
        },
        "id": "ajbKuSDNY9KT",
        "outputId": "3dda02f5-41de-483b-f606-59cb1a0bf2e7"
      },
      "execution_count": 37,
      "outputs": [
        {
          "output_type": "stream",
          "name": "stdout",
          "text": [
            "Enter the number of Fibonacci terms to generate: 10\n",
            "Fibonacci sequence of 10 terms:\n",
            "[0, 1, 1, 2, 3, 5, 8, 13, 21, 34]\n"
          ]
        }
      ]
    },
    {
      "cell_type": "markdown",
      "source": [
        "37. Develop a program that calculates the nth term of the Fibonacci sequence using memoization."
      ],
      "metadata": {
        "id": "hB6ggL3DZD-E"
      }
    },
    {
      "cell_type": "code",
      "source": [
        "def fibonacci_with_memoization(n, memo={}):\n",
        "    if n in memo:\n",
        "        return memo[n]\n",
        "    if n <= 1:\n",
        "        return n\n",
        "    result = fibonacci_with_memoization(n - 1, memo) + fibonacci_with_memoization(n - 2, memo)\n",
        "    memo[n] = result\n",
        "    return result\n",
        "\n",
        "n = int(input(\"Enter the term of the Fibonacci sequence to calculate: \"))\n",
        "\n",
        "if n < 0:\n",
        "    print(\"Invalid input.\")\n",
        "else:\n",
        "    result = fibonacci_with_memoization(n)\n",
        "    print(f\"The {n}th Fibonacci term is {result}\")\n"
      ],
      "metadata": {
        "colab": {
          "base_uri": "https://localhost:8080/"
        },
        "id": "fpCEpEQAZGgC",
        "outputId": "6096fc23-8afa-4d51-c88a-3e39893cde25"
      },
      "execution_count": 38,
      "outputs": [
        {
          "output_type": "stream",
          "name": "stdout",
          "text": [
            "Enter the term of the Fibonacci sequence to calculate: 10\n",
            "The 10th Fibonacci term is 55\n"
          ]
        }
      ]
    },
    {
      "cell_type": "markdown",
      "source": [
        "38. Create a program that generates a calendar for a given month and year using conditional statements."
      ],
      "metadata": {
        "id": "T1CqLlTFZS1E"
      }
    },
    {
      "cell_type": "code",
      "source": [
        "import calendar\n",
        "\n",
        "year = int(input(\"Enter the year: \"))\n",
        "month = int(input(\"Enter the month (1-12): \"))\n",
        "\n",
        "cal = calendar.month(year, month)\n",
        "print(\"Calendar:\")\n",
        "print(cal)\n"
      ],
      "metadata": {
        "colab": {
          "base_uri": "https://localhost:8080/"
        },
        "id": "pW98ngMKZU4S",
        "outputId": "30474884-5ce8-463b-81e9-fa9620179050"
      },
      "execution_count": 39,
      "outputs": [
        {
          "output_type": "stream",
          "name": "stdout",
          "text": [
            "Enter the year: 1992\n",
            "Enter the month (1-12): 2\n",
            "Calendar:\n",
            "   February 1992\n",
            "Mo Tu We Th Fr Sa Su\n",
            "                1  2\n",
            " 3  4  5  6  7  8  9\n",
            "10 11 12 13 14 15 16\n",
            "17 18 19 20 21 22 23\n",
            "24 25 26 27 28 29\n",
            "\n"
          ]
        }
      ]
    },
    {
      "cell_type": "markdown",
      "source": [
        "39. Build a program that simulates a basic text-based blackjack game against the computer."
      ],
      "metadata": {
        "id": "3Lk3IvYVZfyi"
      }
    },
    {
      "cell_type": "code",
      "source": [
        "import random\n",
        "\n",
        "# Function to deal a card\n",
        "def deal_card():\n",
        "    cards = [2, 3, 4, 5, 6, 7, 8, 9, 10, 10, 10, 10, 11]  # Card values (2-10, 10, 10, 10, Ace)\n",
        "    return random.choice(cards)\n",
        "\n",
        "# Function to calculate the total value of a hand\n",
        "def calculate_hand_value(hand):\n",
        "    if sum(hand) > 21 and 11 in hand:\n",
        "        hand.remove(11)\n",
        "        hand.append(1)\n",
        "    return sum(hand)\n",
        "\n",
        "# Initialize player and dealer hands\n",
        "player_hand = [deal_card(), deal_card()]\n",
        "dealer_hand = [deal_card(), deal_card()]\n",
        "\n",
        "while True:\n",
        "    print(\"\\nPlayer's Hand:\", player_hand, \"Total:\", calculate_hand_value(player_hand))\n",
        "    print(\"Dealer's Hand:\", [dealer_hand[0], '?'])\n",
        "\n",
        "    # Check for blackjack (21)\n",
        "    if calculate_hand_value(player_hand) == 21:\n",
        "        print(\"Player has a Blackjack! You win!\")\n",
        "        break\n",
        "\n",
        "    action = input(\"Do you want to 'hit' or 'stand'? \").lower()\n",
        "\n",
        "    if action == 'hit':\n",
        "        player_hand.append(deal_card())\n",
        "        if calculate_hand_value(player_hand) > 21:\n",
        "            print(\"Player busts! Dealer wins.\")\n",
        "            break\n",
        "    elif action == 'stand':\n",
        "        while calculate_hand_value(dealer_hand) < 17:\n",
        "            dealer_hand.append(deal_card())\n",
        "\n",
        "        print(\"Dealer's Hand:\", dealer_hand, \"Total:\", calculate_hand_value(dealer_hand))\n",
        "\n",
        "        if calculate_hand_value(dealer_hand) > 21:\n",
        "            print(\"Dealer busts! You win!\")\n",
        "        elif calculate_hand_value(player_hand) > calculate_hand_value(dealer_hand):\n",
        "            print(\"Player wins!\")\n",
        "        elif calculate_hand_value(player_hand) < calculate_hand_value(dealer_hand):\n",
        "            print(\"Dealer wins.\")\n",
        "        else:\n",
        "            print(\"It's a tie!\")\n",
        "\n",
        "        break\n",
        "    else:\n",
        "        print(\"Invalid input. Please enter 'hit' or 'stand'.\")\n"
      ],
      "metadata": {
        "colab": {
          "base_uri": "https://localhost:8080/"
        },
        "id": "-pvYlCDEXOso",
        "outputId": "9a4f333b-f130-44a6-84db-1e1994b0ed5f"
      },
      "execution_count": 40,
      "outputs": [
        {
          "output_type": "stream",
          "name": "stdout",
          "text": [
            "\n",
            "Player's Hand: [11, 1] Total: 12\n",
            "Dealer's Hand: [10, '?']\n",
            "Do you want to 'hit' or 'stand'? hit\n",
            "\n",
            "Player's Hand: [1, 10, 1] Total: 12\n",
            "Dealer's Hand: [10, '?']\n",
            "Do you want to 'hit' or 'stand'? stand\n",
            "Dealer's Hand: [10, 6, 10] Total: 26\n",
            "Dealer busts! You win!\n"
          ]
        }
      ]
    },
    {
      "cell_type": "markdown",
      "source": [
        "40. Write a program that generates the prime factors of a given number using trial division.\n"
      ],
      "metadata": {
        "id": "F-lhkXiHEawV"
      }
    },
    {
      "cell_type": "code",
      "source": [
        "def prime_factors(n):\n",
        "    factors = []\n",
        "    divisor = 2\n",
        "    while n > 1:\n",
        "        while n % divisor == 0:\n",
        "            factors.append(divisor)\n",
        "            n //= divisor\n",
        "        divisor += 1\n",
        "    return factors\n",
        "\n",
        "num = int(input(\"Enter a number to find its prime factors: \"))\n",
        "factors = prime_factors(num)\n",
        "print(f\"Prime factors of {num}: {factors}\")\n"
      ],
      "metadata": {
        "colab": {
          "base_uri": "https://localhost:8080/"
        },
        "id": "Upz5thAWZ8Fb",
        "outputId": "c9175aef-9b68-45d3-d54b-bd34af4697e1"
      },
      "execution_count": 43,
      "outputs": [
        {
          "output_type": "stream",
          "name": "stdout",
          "text": [
            "Enter a number to find its prime factors: 12\n",
            "Prime factors of 12: [2, 2, 3]\n"
          ]
        }
      ]
    },
    {
      "cell_type": "markdown",
      "source": [],
      "metadata": {
        "id": "PuXGry-hDgbC"
      }
    }
  ]
}