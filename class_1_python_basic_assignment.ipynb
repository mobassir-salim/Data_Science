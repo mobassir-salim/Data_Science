{
  "nbformat": 4,
  "nbformat_minor": 0,
  "metadata": {
    "colab": {
      "provenance": [],
      "authorship_tag": "ABX9TyNAKJe6uu5VkxeZXKli61ak",
      "include_colab_link": true
    },
    "kernelspec": {
      "name": "python3",
      "display_name": "Python 3"
    },
    "language_info": {
      "name": "python"
    }
  },
  "cells": [
    {
      "cell_type": "markdown",
      "metadata": {
        "id": "view-in-github",
        "colab_type": "text"
      },
      "source": [
        "<a href=\"https://colab.research.google.com/github/mobassir-salim/Data_Science/blob/main/class_1_python_basic_assignment.ipynb\" target=\"_parent\"><img src=\"https://colab.research.google.com/assets/colab-badge.svg\" alt=\"Open In Colab\"/></a>"
      ]
    },
    {
      "cell_type": "markdown",
      "source": [
        "#Basic variable based questions"
      ],
      "metadata": {
        "id": "TgtJ-IVJwDKz"
      }
    },
    {
      "cell_type": "markdown",
      "source": [
        "1. Declare two variables, `x` and `y`, and assign them integer values. Swap the values of these variables without using any temporary variable."
      ],
      "metadata": {
        "id": "nCp6Lrquq0Hh"
      }
    },
    {
      "cell_type": "code",
      "execution_count": 8,
      "metadata": {
        "colab": {
          "base_uri": "https://localhost:8080/"
        },
        "id": "pIRzHsKgnpKP",
        "outputId": "b2b727b6-2c2a-4d3f-94fa-175e52fab319"
      },
      "outputs": [
        {
          "output_type": "stream",
          "name": "stdout",
          "text": [
            "After Swapping\n",
            "5 3\n"
          ]
        }
      ],
      "source": [
        "x = 3\n",
        "y = 5\n",
        "\n",
        "x = x + y\n",
        "y = x - y\n",
        "x = x - y\n",
        "\n",
        "print(\"After Swapping\")\n",
        "print(x,y)\n",
        "\n"
      ]
    },
    {
      "cell_type": "markdown",
      "source": [
        "2. Create a program that calculates the area of a rectangle. Take the length and width as inputs from the user and store them in variables. Calculate and display the area."
      ],
      "metadata": {
        "id": "UykiQXRys2eR"
      }
    },
    {
      "cell_type": "code",
      "source": [
        "l = float(input(\"Enter the length of the Rectangle \"))\n",
        "w = float(input(\"Enter the width of the Rectangle \"))\n",
        "\n",
        "area = l*w\n",
        "\n",
        "print(\"Area of the rectangle is : \", area)"
      ],
      "metadata": {
        "colab": {
          "base_uri": "https://localhost:8080/"
        },
        "id": "iSTPTpxZn4f8",
        "outputId": "428bdca0-87ee-4924-a705-b482b8b46c07"
      },
      "execution_count": 16,
      "outputs": [
        {
          "output_type": "stream",
          "name": "stdout",
          "text": [
            "Enter the length of the Rectangle 10.5\n",
            "Enter the width of the Rectangle 20.3\n",
            "Area of the rectangle is :  213.15\n"
          ]
        }
      ]
    },
    {
      "cell_type": "markdown",
      "source": [
        "3. Write a Python program that converts temperatures from Celsius to Fahrenheit. Take the temperature in Celsius as input, store it in a variable, convert it to Fahrenheit, and display the result."
      ],
      "metadata": {
        "id": "TP2Q33Tvt66k"
      }
    },
    {
      "cell_type": "code",
      "source": [
        "## Taking input from the user\n",
        "\n",
        "c = float(input(\"Enter the temperature in Celsius \"))\n",
        "\n",
        "## This is the formula to convert the temp from celcius to fahrenheit.\n",
        "\n",
        "f = (c * 9.0/5.0) + 32.0\n",
        "\n",
        "## Displaying the result\n",
        "\n",
        "print(\"The Temperature in Fahrenheit : \", f)"
      ],
      "metadata": {
        "colab": {
          "base_uri": "https://localhost:8080/"
        },
        "id": "Cm45SAzPn4je",
        "outputId": "ce29de5c-da9d-46d2-ea75-a6f0cb1b5542"
      },
      "execution_count": 17,
      "outputs": [
        {
          "output_type": "stream",
          "name": "stdout",
          "text": [
            "Enter the temperature in Celsius 40.5\n",
            "The temperature in Fahrenheit :  104.9\n"
          ]
        }
      ]
    },
    {
      "cell_type": "markdown",
      "source": [
        "#String based questions"
      ],
      "metadata": {
        "id": "oQxWCGGwvGjt"
      }
    },
    {
      "cell_type": "markdown",
      "source": [
        "1. Write a Python program that takes a string as input and prints the length of the string.\n"
      ],
      "metadata": {
        "id": "dwmqugRQwNlW"
      }
    },
    {
      "cell_type": "code",
      "source": [
        "## Taking input from the user\n",
        "\n",
        "str = input(\"Enter the String \")\n",
        "\n",
        "## using len() to display the length of the string\n",
        "\n",
        "str_len = len(str)\n",
        "\n",
        "## Displaying the result\n",
        "print(\"The length of the string is : \", str_len)\n"
      ],
      "metadata": {
        "colab": {
          "base_uri": "https://localhost:8080/"
        },
        "id": "EDd8PH_On4pa",
        "outputId": "2dd6c069-ab66-48d1-d955-13587aab4dc1"
      },
      "execution_count": 21,
      "outputs": [
        {
          "output_type": "stream",
          "name": "stdout",
          "text": [
            "Enter the String qwerfasdxc\n",
            "The length of the string is :  10\n"
          ]
        }
      ]
    },
    {
      "cell_type": "markdown",
      "source": [
        "2. Create a program that takes a sentence from the user and counts the number of vowels (a, e, i, o, u) in the string.\n"
      ],
      "metadata": {
        "id": "AdJpOeirxS-m"
      }
    },
    {
      "cell_type": "code",
      "source": [
        " ## Taking input from the user\n",
        "\n",
        "str1 = input(\"Enter the Sentence \")\n",
        "\n",
        "str1 = str1.lower()\n",
        "\n",
        "vowel = ['a', 'e', 'i', 'o', 'u']\n",
        "\n",
        "vowel_count = 0\n",
        "\n",
        "for i in str1:\n",
        "  if i in vowel:\n",
        "    vowel_count += 1\n",
        "\n",
        "print(\"Number of vowels (a, e, i, o, u) in the string: \",vowel_count)"
      ],
      "metadata": {
        "colab": {
          "base_uri": "https://localhost:8080/"
        },
        "id": "kv0BEVkVn4t0",
        "outputId": "215b777a-e9a7-4264-aeca-f636943d6a98"
      },
      "execution_count": 4,
      "outputs": [
        {
          "output_type": "stream",
          "name": "stdout",
          "text": [
            "Enter the Sentence number of vowels (a, e, i, o, u) in the string\n",
            "Number of vowels (a, e, i, o, u) in the string:  13\n"
          ]
        }
      ]
    },
    {
      "cell_type": "markdown",
      "source": [
        "3. Given a string, reverse the order of characters using string slicing and print the reversed string."
      ],
      "metadata": {
        "id": "_2BemWR2Wg38"
      }
    },
    {
      "cell_type": "code",
      "source": [
        " ## Taking input from the user\n",
        "\n",
        "str2 = input(\"Enter the string \")\n",
        "\n",
        "## reversing the string using string slicing\n",
        "\n",
        "str_rev = str2[::-1]\n",
        "\n",
        "## Displaying the result\n",
        "\n",
        "print(\"String after the reversing: \",str_rev)"
      ],
      "metadata": {
        "colab": {
          "base_uri": "https://localhost:8080/"
        },
        "id": "Uqm53-HAn419",
        "outputId": "d903974a-64f3-476c-ddea-4ed094dc268d"
      },
      "execution_count": 5,
      "outputs": [
        {
          "output_type": "stream",
          "name": "stdout",
          "text": [
            "Enter the string abcdef\n",
            "String after the reversing:  fedcba\n"
          ]
        }
      ]
    },
    {
      "cell_type": "markdown",
      "source": [
        "4. Write a program that takes a string as input and checks if it is a palindrome (reads the same forwards and backwards)."
      ],
      "metadata": {
        "id": "qU2wK_CZXlRh"
      }
    },
    {
      "cell_type": "code",
      "source": [
        " ## Taking input from the user\n",
        "\n",
        "User_string = input(\"Enter the string \")\n",
        "\n",
        "## Reversing the string\n",
        "\n",
        "rev_str = User_string[::-1]\n",
        "\n",
        "## Lower case\n",
        "\n",
        "User_string_lower = User_string.lower()\n",
        "rev_str_lower = rev_str.lower()\n",
        "\n",
        "## checking if it is a palindrome\n",
        "\n",
        "if rev_str_lower == User_string_lower:\n",
        "  print(rev_str)\n",
        "  print(\"The string is a palindrome.\")\n",
        "\n",
        "else:\n",
        "  print(\"The string is not a palindrome.\")\n",
        "\n",
        "\n",
        "\n"
      ],
      "metadata": {
        "colab": {
          "base_uri": "https://localhost:8080/"
        },
        "id": "ujMiBk6Mn46S",
        "outputId": "3905266d-2d23-43f2-9099-9cc187477d30"
      },
      "execution_count": 14,
      "outputs": [
        {
          "output_type": "stream",
          "name": "stdout",
          "text": [
            "Enter the string lskhdj\n",
            "The string is not a palindrome.\n"
          ]
        }
      ]
    },
    {
      "cell_type": "markdown",
      "source": [
        "5. Create a program that takes a string as input and removes all the spaces from it. Print the modified string without spaces.\n"
      ],
      "metadata": {
        "id": "DgCFFGWvcSyX"
      }
    },
    {
      "cell_type": "code",
      "source": [
        " ## Taking input from the user\n",
        "\n",
        "user_string = input(\"Enter the string \")\n",
        "\n",
        "## Removing the spaces\n",
        "\n",
        "user_string = user_string.replace(\" \", \"\")\n",
        "\n",
        "## Displaying the result\n",
        "\n",
        "print(user_string)"
      ],
      "metadata": {
        "colab": {
          "base_uri": "https://localhost:8080/"
        },
        "id": "KzLoPSEAn4-8",
        "outputId": "1eb2607d-c1bd-47c0-db76-1bca178d5f33"
      },
      "execution_count": 17,
      "outputs": [
        {
          "output_type": "stream",
          "name": "stdout",
          "text": [
            "Enter the string kfuy fktiy                       j\n",
            "kfuyfktiyj\n"
          ]
        }
      ]
    },
    {
      "cell_type": "code",
      "source": [],
      "metadata": {
        "id": "foLAFpn6YLTV"
      },
      "execution_count": null,
      "outputs": []
    },
    {
      "cell_type": "code",
      "source": [],
      "metadata": {
        "id": "SGn2FKPDYLX2"
      },
      "execution_count": null,
      "outputs": []
    },
    {
      "cell_type": "code",
      "source": [],
      "metadata": {
        "id": "PwQMA9HkYLgK"
      },
      "execution_count": null,
      "outputs": []
    },
    {
      "cell_type": "code",
      "source": [],
      "metadata": {
        "id": "pUYRfqTqYLmU"
      },
      "execution_count": null,
      "outputs": []
    },
    {
      "cell_type": "code",
      "source": [],
      "metadata": {
        "id": "aAvqh-A-YLqW"
      },
      "execution_count": null,
      "outputs": []
    },
    {
      "cell_type": "code",
      "source": [],
      "metadata": {
        "id": "rFYtdy2xYLwJ"
      },
      "execution_count": null,
      "outputs": []
    },
    {
      "cell_type": "code",
      "source": [],
      "metadata": {
        "id": "CGZU5lOkYL0c"
      },
      "execution_count": null,
      "outputs": []
    },
    {
      "cell_type": "code",
      "source": [],
      "metadata": {
        "id": "dcz_BZWoYL5V"
      },
      "execution_count": null,
      "outputs": []
    },
    {
      "cell_type": "code",
      "source": [],
      "metadata": {
        "id": "8lSYVpDKYL9j"
      },
      "execution_count": null,
      "outputs": []
    },
    {
      "cell_type": "code",
      "source": [],
      "metadata": {
        "id": "DgmMAJXtYMCj"
      },
      "execution_count": null,
      "outputs": []
    },
    {
      "cell_type": "code",
      "source": [],
      "metadata": {
        "id": "g-fAbEy4YMG1"
      },
      "execution_count": null,
      "outputs": []
    },
    {
      "cell_type": "code",
      "source": [],
      "metadata": {
        "id": "Gbfg1hHmYMLb"
      },
      "execution_count": null,
      "outputs": []
    },
    {
      "cell_type": "code",
      "source": [],
      "metadata": {
        "id": "5Wi8DdSuYMPs"
      },
      "execution_count": null,
      "outputs": []
    },
    {
      "cell_type": "code",
      "source": [],
      "metadata": {
        "id": "cQ6ytpZ5YMUn"
      },
      "execution_count": null,
      "outputs": []
    },
    {
      "cell_type": "code",
      "source": [],
      "metadata": {
        "id": "ovSp6dzGYMYz"
      },
      "execution_count": null,
      "outputs": []
    },
    {
      "cell_type": "code",
      "source": [],
      "metadata": {
        "id": "mAD0kcSHYMe5"
      },
      "execution_count": null,
      "outputs": []
    },
    {
      "cell_type": "code",
      "source": [],
      "metadata": {
        "id": "HUQUmNUcYMje"
      },
      "execution_count": null,
      "outputs": []
    },
    {
      "cell_type": "code",
      "source": [],
      "metadata": {
        "id": "UeGzxCvmYMnu"
      },
      "execution_count": null,
      "outputs": []
    }
  ]
}