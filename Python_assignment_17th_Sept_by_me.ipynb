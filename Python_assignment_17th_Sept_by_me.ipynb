{
  "nbformat": 4,
  "nbformat_minor": 0,
  "metadata": {
    "colab": {
      "provenance": [],
      "authorship_tag": "ABX9TyP68yhGlVqIs7hTU7dItbKb",
      "include_colab_link": true
    },
    "kernelspec": {
      "name": "python3",
      "display_name": "Python 3"
    },
    "language_info": {
      "name": "python"
    }
  },
  "cells": [
    {
      "cell_type": "markdown",
      "metadata": {
        "id": "view-in-github",
        "colab_type": "text"
      },
      "source": [
        "<a href=\"https://colab.research.google.com/github/mobassir-salim/Data_Science/blob/main/Python_assignment_17th_Sept_by_me.ipynb\" target=\"_parent\"><img src=\"https://colab.research.google.com/assets/colab-badge.svg\" alt=\"Open In Colab\"/></a>"
      ]
    },
    {
      "cell_type": "markdown",
      "source": [
        "##For Loop :-"
      ],
      "metadata": {
        "id": "LlupGlFNSeec"
      }
    },
    {
      "cell_type": "markdown",
      "source": [
        "Write a Python program to print numbers from 1 to 10\n",
        "using a for loop."
      ],
      "metadata": {
        "id": "gTRN2F1jSe1w"
      }
    },
    {
      "cell_type": "code",
      "execution_count": 1,
      "metadata": {
        "colab": {
          "base_uri": "https://localhost:8080/"
        },
        "id": "mqFzNOhoRpQG",
        "outputId": "108e3a9f-35fb-4154-fee5-2bd08e9777aa"
      },
      "outputs": [
        {
          "output_type": "stream",
          "name": "stdout",
          "text": [
            "1\n",
            "2\n",
            "3\n",
            "4\n",
            "5\n",
            "6\n",
            "7\n",
            "8\n",
            "9\n",
            "10\n"
          ]
        }
      ],
      "source": [
        "for i in range(1, 11):\n",
        "    print(i)\n"
      ]
    },
    {
      "cell_type": "markdown",
      "source": [
        "**Explain the difference between a for loop and a while loop in Python.**"
      ],
      "metadata": {
        "id": "lY_sWKdyTAwE"
      }
    },
    {
      "cell_type": "markdown",
      "source": [
        "**A for loop** is used to iterate over a sequence (such as a list, tuple, or string) or other iterable objects. It executes a block of code a specific number of times, which is determined by the length of the sequence or iterable. A for loop is typically used when you know how many times you want to repeat a certain action.\n",
        "\n",
        "**A while loop,** on the other hand, repeatedly executes a block of code as long as a specified condition is true. It doesn't rely on a sequence or iterable and can continue indefinitely until the condition becomes false. While loops are used when you want to perform a task until a certain condition is met."
      ],
      "metadata": {
        "id": "AVgW0gktTJ8U"
      }
    },
    {
      "cell_type": "markdown",
      "source": [
        "Write a Python program to calculate the sum of all numbers from 1 to 100 using a for loop."
      ],
      "metadata": {
        "id": "5K0yAfJbTWPL"
      }
    },
    {
      "cell_type": "code",
      "source": [
        "sum = 0\n",
        "for i in range(1, 101):\n",
        "    sum += i\n",
        "print(\"Sum:\", sum)\n"
      ],
      "metadata": {
        "colab": {
          "base_uri": "https://localhost:8080/"
        },
        "id": "00qxZKFETFFN",
        "outputId": "49336b69-c91f-4a8b-f4dd-d27e6485f40d"
      },
      "execution_count": 3,
      "outputs": [
        {
          "output_type": "stream",
          "name": "stdout",
          "text": [
            "Sum: 5050\n"
          ]
        }
      ]
    },
    {
      "cell_type": "markdown",
      "source": [
        "How do you iterate through a list using a for loop in Python?"
      ],
      "metadata": {
        "id": "h088jIxZTpPw"
      }
    },
    {
      "cell_type": "code",
      "source": [
        "my_list = [1, 2, 3, 4, 5]\n",
        "for item in my_list:\n",
        "    print(item)\n"
      ],
      "metadata": {
        "colab": {
          "base_uri": "https://localhost:8080/"
        },
        "id": "Xx1GHTgJTstH",
        "outputId": "af433dd5-4c17-4dcd-a7a6-d9ee13f9df30"
      },
      "execution_count": 4,
      "outputs": [
        {
          "output_type": "stream",
          "name": "stdout",
          "text": [
            "1\n",
            "2\n",
            "3\n",
            "4\n",
            "5\n"
          ]
        }
      ]
    },
    {
      "cell_type": "markdown",
      "source": [
        "Write a Python program to find the product of all elements in a list using a for loop."
      ],
      "metadata": {
        "id": "cbaci0oxTwvg"
      }
    },
    {
      "cell_type": "code",
      "source": [
        "my_list = [1, 2, 3, 4, 5]\n",
        "product = 1\n",
        "for item in my_list:\n",
        "    product *= item\n",
        "print(\"Product:\", product)\n"
      ],
      "metadata": {
        "colab": {
          "base_uri": "https://localhost:8080/"
        },
        "id": "Anj-EM8mT0kp",
        "outputId": "87fa5971-44aa-48bb-bb37-6590286f6fb2"
      },
      "execution_count": 5,
      "outputs": [
        {
          "output_type": "stream",
          "name": "stdout",
          "text": [
            "Product: 120\n"
          ]
        }
      ]
    },
    {
      "cell_type": "markdown",
      "source": [
        "Create a Python program that prints all even numbers from 1 to 20 using a for loop."
      ],
      "metadata": {
        "id": "tQM3o5qpT9Y1"
      }
    },
    {
      "cell_type": "code",
      "source": [
        "for i in range(2, 21, 2):\n",
        "    print(i)\n"
      ],
      "metadata": {
        "colab": {
          "base_uri": "https://localhost:8080/"
        },
        "id": "GMG1-mJCUCEP",
        "outputId": "827d716c-9ec2-46f3-cc49-c6fbbdf69d10"
      },
      "execution_count": 6,
      "outputs": [
        {
          "output_type": "stream",
          "name": "stdout",
          "text": [
            "2\n",
            "4\n",
            "6\n",
            "8\n",
            "10\n",
            "12\n",
            "14\n",
            "16\n",
            "18\n",
            "20\n"
          ]
        }
      ]
    },
    {
      "cell_type": "markdown",
      "source": [
        "Write a Python program that calculates the factorial of a number using a for loop."
      ],
      "metadata": {
        "id": "RZbjAqOmUIY6"
      }
    },
    {
      "cell_type": "code",
      "source": [
        "n = 5\n",
        "factorial = 1\n",
        "for i in range(1, n + 1):\n",
        "    factorial *= i\n",
        "print(\"Factorial:\", factorial)\n"
      ],
      "metadata": {
        "colab": {
          "base_uri": "https://localhost:8080/"
        },
        "id": "HS8b8hbAUL-m",
        "outputId": "2b978f34-221b-4e79-92f3-854177c98812"
      },
      "execution_count": 7,
      "outputs": [
        {
          "output_type": "stream",
          "name": "stdout",
          "text": [
            "Factorial: 120\n"
          ]
        }
      ]
    },
    {
      "cell_type": "markdown",
      "source": [
        "How can you iterate through the characters of a string using a for loop in Python?"
      ],
      "metadata": {
        "id": "wrDNnBUBURi6"
      }
    },
    {
      "cell_type": "code",
      "source": [
        "my_string = \"Python\"\n",
        "for char in my_string:\n",
        "    print(char)\n"
      ],
      "metadata": {
        "colab": {
          "base_uri": "https://localhost:8080/"
        },
        "id": "vnVRf8eGUSiL",
        "outputId": "0404d409-8a84-46ed-f60e-14f3b2251a4e"
      },
      "execution_count": 8,
      "outputs": [
        {
          "output_type": "stream",
          "name": "stdout",
          "text": [
            "P\n",
            "y\n",
            "t\n",
            "h\n",
            "o\n",
            "n\n"
          ]
        }
      ]
    },
    {
      "cell_type": "markdown",
      "source": [
        "Write a Python program to find the largest number in a list using a for loop."
      ],
      "metadata": {
        "id": "vgGLGHE1UXZE"
      }
    },
    {
      "cell_type": "code",
      "source": [
        "my_list = [12, 5, 27, 8, 19]\n",
        "max_num = my_list[0]\n",
        "for num in my_list:\n",
        "    if num > max_num:\n",
        "        max_num = num\n",
        "print(\"Largest number:\", max_num)\n"
      ],
      "metadata": {
        "id": "m5DQKWFIUaaG"
      },
      "execution_count": null,
      "outputs": []
    },
    {
      "cell_type": "markdown",
      "source": [
        "Create a Python program that prints the Fibonacci sequence up to a specified limit using a for loop."
      ],
      "metadata": {
        "id": "kafh2zWxUdUX"
      }
    },
    {
      "cell_type": "code",
      "source": [
        "n = 10\n",
        "a, b = 0, 1\n",
        "for i in range(n):\n",
        "    print(a, end=\" \")\n",
        "    a, b = b, a + b\n"
      ],
      "metadata": {
        "id": "JgmF582LUf_2"
      },
      "execution_count": null,
      "outputs": []
    },
    {
      "cell_type": "markdown",
      "source": [
        "Write a Python program to count the number of vowels in a given string using a for loop."
      ],
      "metadata": {
        "id": "d3E7J8jiUg_y"
      }
    },
    {
      "cell_type": "code",
      "source": [
        "my_string = \"Hello, World!\"\n",
        "vowels = \"aeiouAEIOU\"\n",
        "count = 0\n",
        "for char in my_string:\n",
        "    if char in vowels:\n",
        "        count += 1\n",
        "print(\"Number of vowels:\", count)\n"
      ],
      "metadata": {
        "colab": {
          "base_uri": "https://localhost:8080/"
        },
        "id": "HRFH8nzeUjtL",
        "outputId": "1a25a769-20bf-45ef-a9bb-144c230ec692"
      },
      "execution_count": 9,
      "outputs": [
        {
          "output_type": "stream",
          "name": "stdout",
          "text": [
            "Number of vowels: 3\n"
          ]
        }
      ]
    },
    {
      "cell_type": "code",
      "source": [
        "# Question: Write a Python program to count the number of vowels in a given string using a for loop.\n",
        "\n",
        "my_string = \"Hello, World!\"\n",
        "vowels = \"aeiouAEIOU\"\n",
        "count = 0\n",
        "\n",
        "for char in my_string:\n",
        "    if char in vowels:\n",
        "        count += 1\n",
        "\n",
        "print(\"Number of vowels:\", count)\n"
      ],
      "metadata": {
        "colab": {
          "base_uri": "https://localhost:8080/"
        },
        "id": "ZLK53Po6UpAf",
        "outputId": "cd7ddbc9-4aa4-4e15-da75-215e64bdf1d6"
      },
      "execution_count": 10,
      "outputs": [
        {
          "output_type": "stream",
          "name": "stdout",
          "text": [
            "Number of vowels: 3\n"
          ]
        }
      ]
    },
    {
      "cell_type": "code",
      "source": [
        "# Question: Create a Python program that generates a multiplication table for a given number using a for loop.\n",
        "\n",
        "number = 5\n",
        "\n",
        "for i in range(1, 11):\n",
        "    result = number * i\n",
        "    print(f\"{number} x {i} = {result}\")\n"
      ],
      "metadata": {
        "colab": {
          "base_uri": "https://localhost:8080/"
        },
        "id": "wJt39sBUUpEU",
        "outputId": "274ff67e-9db0-4235-8dbe-65c25f71d351"
      },
      "execution_count": 11,
      "outputs": [
        {
          "output_type": "stream",
          "name": "stdout",
          "text": [
            "5 x 1 = 5\n",
            "5 x 2 = 10\n",
            "5 x 3 = 15\n",
            "5 x 4 = 20\n",
            "5 x 5 = 25\n",
            "5 x 6 = 30\n",
            "5 x 7 = 35\n",
            "5 x 8 = 40\n",
            "5 x 9 = 45\n",
            "5 x 10 = 50\n"
          ]
        }
      ]
    },
    {
      "cell_type": "code",
      "source": [
        "# Question: Write a Python program to reverse a list using a for loop.\n",
        "\n",
        "my_list = [1, 2, 3, 4, 5]\n",
        "reversed_list = []\n",
        "\n",
        "for i in range(len(my_list) - 1, -1, -1):\n",
        "    reversed_list.append(my_list[i])\n",
        "\n",
        "print(\"Reversed List:\", reversed_list)\n"
      ],
      "metadata": {
        "colab": {
          "base_uri": "https://localhost:8080/"
        },
        "id": "qhdkaQSnUpJF",
        "outputId": "5ed1cf6c-9095-4a7a-b77f-f0351601071a"
      },
      "execution_count": 12,
      "outputs": [
        {
          "output_type": "stream",
          "name": "stdout",
          "text": [
            "Reversed List: [5, 4, 3, 2, 1]\n"
          ]
        }
      ]
    },
    {
      "cell_type": "code",
      "source": [
        "# Question: Write a Python program to find the common elements between two lists using a for loop.\n",
        "\n",
        "list1 = [1, 2, 3, 4, 5]\n",
        "list2 = [3, 4, 5, 6, 7]\n",
        "common_elements = []\n",
        "\n",
        "for item1 in list1:\n",
        "    for item2 in list2:\n",
        "        if item1 == item2:\n",
        "            common_elements.append(item1)\n",
        "\n",
        "print(\"Common Elements:\", common_elements)\n"
      ],
      "metadata": {
        "colab": {
          "base_uri": "https://localhost:8080/"
        },
        "id": "SiSblIynUpNN",
        "outputId": "d990ecdf-72a9-462d-c7b0-2879679d4c6d"
      },
      "execution_count": 13,
      "outputs": [
        {
          "output_type": "stream",
          "name": "stdout",
          "text": [
            "Common Elements: [3, 4, 5]\n"
          ]
        }
      ]
    },
    {
      "cell_type": "code",
      "source": [
        "# Question: Explain how to use a for loop to iterate through the keys and values of a dictionary in Python.\n",
        "\n",
        "my_dict = {\"a\": 1, \"b\": 2, \"c\": 3}\n",
        "\n",
        "for key, value in my_dict.items():\n",
        "    print(f\"Key: {key}, Value: {value}\")\n"
      ],
      "metadata": {
        "colab": {
          "base_uri": "https://localhost:8080/"
        },
        "id": "ehte96Y7UpTK",
        "outputId": "5577dc5d-7499-4773-c140-1b15940f919a"
      },
      "execution_count": 14,
      "outputs": [
        {
          "output_type": "stream",
          "name": "stdout",
          "text": [
            "Key: a, Value: 1\n",
            "Key: b, Value: 2\n",
            "Key: c, Value: 3\n"
          ]
        }
      ]
    },
    {
      "cell_type": "code",
      "source": [
        "# Question: Write a Python program to find the GCD (Greatest Common Divisor) of two numbers using a for loop.\n",
        "\n",
        "def calculate_gcd(a, b):\n",
        "    while b:\n",
        "        a, b = b, a % b\n",
        "    return a\n",
        "\n",
        "num1 = 48\n",
        "num2 = 60\n",
        "\n",
        "gcd = calculate_gcd(num1, num2)\n",
        "print(\"GCD:\", gcd)\n"
      ],
      "metadata": {
        "colab": {
          "base_uri": "https://localhost:8080/"
        },
        "id": "KEYalKQ_UpYQ",
        "outputId": "40acd5a5-00c9-48d4-b9f3-982a0aa2cd25"
      },
      "execution_count": 15,
      "outputs": [
        {
          "output_type": "stream",
          "name": "stdout",
          "text": [
            "GCD: 12\n"
          ]
        }
      ]
    },
    {
      "cell_type": "code",
      "source": [
        "# Question: Create a Python program that checks if a string is a palindrome using a for loop.\n",
        "\n",
        "def is_palindrome(s):\n",
        "    s = s.lower()\n",
        "    s = s.replace(\" \", \"\")\n",
        "    for i in range(len(s) // 2):\n",
        "        if s[i] != s[len(s) - 1 - i]:\n",
        "            return False\n",
        "    return True\n",
        "\n",
        "my_string = \"A man a plan a canal Panama\"\n",
        "result = is_palindrome(my_string)\n",
        "\n",
        "if result:\n",
        "    print(\"Palindrome\")\n",
        "else:\n",
        "    print(\"Not a palindrome\")\n"
      ],
      "metadata": {
        "colab": {
          "base_uri": "https://localhost:8080/"
        },
        "id": "04jExtWVUpca",
        "outputId": "60351926-337b-4561-b2ab-28e4d9b15f35"
      },
      "execution_count": 16,
      "outputs": [
        {
          "output_type": "stream",
          "name": "stdout",
          "text": [
            "Palindrome\n"
          ]
        }
      ]
    },
    {
      "cell_type": "code",
      "source": [
        "# Question: Write a Python program to remove duplicates from a list using a for loop.\n",
        "\n",
        "my_list = [1, 2, 2, 3, 4, 4, 5]\n",
        "unique_list = []\n",
        "\n",
        "for item in my_list:\n",
        "    if item not in unique_list:\n",
        "        unique_list.append(item)\n",
        "\n",
        "print(\"Unique List:\", unique_list)\n"
      ],
      "metadata": {
        "colab": {
          "base_uri": "https://localhost:8080/"
        },
        "id": "VQk-Q4QfUpgn",
        "outputId": "b88a1159-5fde-42a2-b01c-de9e2b0cd9f1"
      },
      "execution_count": 17,
      "outputs": [
        {
          "output_type": "stream",
          "name": "stdout",
          "text": [
            "Unique List: [1, 2, 3, 4, 5]\n"
          ]
        }
      ]
    },
    {
      "cell_type": "code",
      "source": [
        "# Question: Create a Python program that counts the number of words in a sentence using a for loop.\n",
        "\n",
        "sentence = \"This is a sample sentence with seven words.\"\n",
        "word_count = 0\n",
        "\n",
        "for word in sentence.split():\n",
        "    word_count += 1\n",
        "\n",
        "print(\"Number of words:\", word_count)\n"
      ],
      "metadata": {
        "colab": {
          "base_uri": "https://localhost:8080/"
        },
        "id": "dwhd34Z5UplA",
        "outputId": "ad8ce1de-f530-4875-fe76-aff4c54ec0ec"
      },
      "execution_count": 18,
      "outputs": [
        {
          "output_type": "stream",
          "name": "stdout",
          "text": [
            "Number of words: 8\n"
          ]
        }
      ]
    },
    {
      "cell_type": "code",
      "source": [
        "# Question: Write a Python program to find the sum of all odd numbers from 1 to 50 using a for loop.\n",
        "\n",
        "sum_odd = 0\n",
        "\n",
        "for number in range(1, 51):\n",
        "    if number % 2 != 0:\n",
        "        sum_odd += number\n",
        "\n",
        "print(\"Sum of odd numbers:\", sum_odd)\n"
      ],
      "metadata": {
        "colab": {
          "base_uri": "https://localhost:8080/"
        },
        "id": "gGiJA7K3UppC",
        "outputId": "0d40c3e3-42a6-4c4c-cb7a-156b07616fd7"
      },
      "execution_count": 19,
      "outputs": [
        {
          "output_type": "stream",
          "name": "stdout",
          "text": [
            "Sum of odd numbers: 625\n"
          ]
        }
      ]
    },
    {
      "cell_type": "code",
      "source": [
        "# Question: Write a Python program that checks if a given year is a leap year using a for loop.\n",
        "\n",
        "def is_leap_year(year):\n",
        "    if (year % 4 == 0 and year % 100 != 0) or (year % 400 == 0):\n",
        "        return True\n",
        "    else:\n",
        "        return False\n",
        "\n",
        "year = 2024\n",
        "if is_leap_year(year):\n",
        "    print(f\"{year} is a leap year.\")\n",
        "else:\n",
        "    print(f\"{year} is not a leap year.\")\n"
      ],
      "metadata": {
        "colab": {
          "base_uri": "https://localhost:8080/"
        },
        "id": "FzUestbaWA_z",
        "outputId": "af25f6e8-80b6-4dac-ef6d-2cd22c9072ab"
      },
      "execution_count": 20,
      "outputs": [
        {
          "output_type": "stream",
          "name": "stdout",
          "text": [
            "2024 is a leap year.\n"
          ]
        }
      ]
    },
    {
      "cell_type": "code",
      "source": [
        "# Question: Create a Python program that calculates the square root of a number using a for loop.\n",
        "\n",
        "def square_root(num):\n",
        "    guess = num / 2.0  # Initial guess\n",
        "    for _ in range(10):  # Adjust the number of iterations for accuracy\n",
        "        guess = 0.5 * (guess + num / guess)\n",
        "    return guess\n",
        "\n",
        "number = 25\n",
        "sqrt = square_root(number)\n",
        "print(\"Square root:\", sqrt)\n"
      ],
      "metadata": {
        "colab": {
          "base_uri": "https://localhost:8080/"
        },
        "id": "yCw0NhPRWA7S",
        "outputId": "9726937f-f471-48a0-ea40-c50b1f4b1ee3"
      },
      "execution_count": 21,
      "outputs": [
        {
          "output_type": "stream",
          "name": "stdout",
          "text": [
            "Square root: 5.0\n"
          ]
        }
      ]
    },
    {
      "cell_type": "code",
      "source": [
        "# Question: Write a Python program to find the LCM (Least Common Multiple) of two numbers using a for loop.\n",
        "\n",
        "def calculate_lcm(x, y):\n",
        "    if x > y:\n",
        "        greater = x\n",
        "    else:\n",
        "        greater = y\n",
        "\n",
        "    while True:\n",
        "        if greater % x == 0 and greater % y == 0:\n",
        "            lcm = greater\n",
        "            break\n",
        "        greater += 1\n",
        "\n",
        "    return lcm\n",
        "\n",
        "num1 = 12\n",
        "num2 = 18\n",
        "lcm = calculate_lcm(num1, num2)\n",
        "print(\"LCM:\", lcm)\n"
      ],
      "metadata": {
        "colab": {
          "base_uri": "https://localhost:8080/"
        },
        "id": "9q9eB5s-WA2E",
        "outputId": "eba01148-6364-41ad-9d9f-d062c3bcd492"
      },
      "execution_count": 22,
      "outputs": [
        {
          "output_type": "stream",
          "name": "stdout",
          "text": [
            "LCM: 36\n"
          ]
        }
      ]
    },
    {
      "cell_type": "markdown",
      "source": [
        "##if-else"
      ],
      "metadata": {
        "id": "EM5XCkL7WcTw"
      }
    },
    {
      "cell_type": "code",
      "source": [
        "# Question: Write a Python program to check if a number is positive, negative, or zero using an if-else statement.\n",
        "\n",
        "number = float(input(\"Enter a number: \"))\n",
        "\n",
        "if number > 0:\n",
        "    print(\"Positive\")\n",
        "elif number < 0:\n",
        "    print(\"Negative\")\n",
        "else:\n",
        "    print(\"Zero\")\n"
      ],
      "metadata": {
        "id": "gV8hCGObWAyc"
      },
      "execution_count": null,
      "outputs": []
    },
    {
      "cell_type": "code",
      "source": [
        "# Question: Create a Python program that checks if a given number is even or odd using an if-else statement.\n",
        "\n",
        "number = int(input(\"Enter a number: \"))\n",
        "\n",
        "if number % 2 == 0:\n",
        "    print(\"Even\")\n",
        "else:\n",
        "    print(\"Odd\")\n"
      ],
      "metadata": {
        "id": "u3NDr2aNXFze"
      },
      "execution_count": null,
      "outputs": []
    },
    {
      "cell_type": "code",
      "source": [
        "# Question: How can you use nested if-else statements in Python, and provide an example?\n",
        "\n",
        "# Nested if-else statements are used to include one if-else statement inside another.\n",
        "# Example:\n",
        "\n",
        "x = 10\n",
        "if x > 5:\n",
        "    if x > 7:\n",
        "        print(\"x is greater than 7\")\n",
        "    else:\n",
        "        print(\"x is not greater than 7\")\n",
        "else:\n",
        "    print(\"x is not greater than 5\")\n"
      ],
      "metadata": {
        "id": "rIqI0jTHXF5Q"
      },
      "execution_count": null,
      "outputs": []
    },
    {
      "cell_type": "code",
      "source": [
        "# Question: Write a Python program to determine the largest of three numbers using if-else.\n",
        "\n",
        "num1 = float(input(\"Enter the first number: \"))\n",
        "num2 = float(input(\"Enter the second number: \"))\n",
        "num3 = float(input(\"Enter the third number: \"))\n",
        "\n",
        "if num1 >= num2 and num1 >= num3:\n",
        "    largest = num1\n",
        "elif num2 >= num1 and num2 >= num3:\n",
        "    largest = num2\n",
        "else:\n",
        "    largest = num3\n",
        "\n",
        "print(\"Largest number:\", largest)\n"
      ],
      "metadata": {
        "id": "JI9S_chBXGA4"
      },
      "execution_count": null,
      "outputs": []
    },
    {
      "cell_type": "code",
      "source": [
        "# Question: Write a Python program that calculates the absolute value of a number using if-else.\n",
        "\n",
        "number = float(input(\"Enter a number: \"))\n",
        "\n",
        "if number < 0:\n",
        "    absolute_value = -number\n",
        "else:\n",
        "    absolute_value = number\n",
        "\n",
        "print(\"Absolute value:\", absolute_value)\n"
      ],
      "metadata": {
        "id": "4JtBbqczXGHz"
      },
      "execution_count": null,
      "outputs": []
    },
    {
      "cell_type": "code",
      "source": [
        "# Question: Create a Python program that checks if a given character is a vowel or consonant using if-else.\n",
        "\n",
        "char = input(\"Enter a character: \")\n",
        "\n",
        "if char.lower() in 'aeiou':\n",
        "    print(\"Vowel\")\n",
        "else:\n",
        "    print(\"Consonant\")\n"
      ],
      "metadata": {
        "id": "KoOKxtgwXGOH"
      },
      "execution_count": null,
      "outputs": []
    },
    {
      "cell_type": "code",
      "source": [
        "# Question: Write a Python program to determine if a user is eligible to vote based on their age using if-else.\n",
        "\n",
        "age = int(input(\"Enter your age: \"))\n",
        "\n",
        "if age >= 18:\n",
        "    print(\"You are eligible to vote.\")\n",
        "else:\n",
        "    print(\"You are not eligible to vote.\")\n"
      ],
      "metadata": {
        "id": "rzRhczmtXGVX"
      },
      "execution_count": null,
      "outputs": []
    },
    {
      "cell_type": "code",
      "source": [
        "# Question: Create a Python program that calculates the discount amount based on the purchase amount using if-else.\n",
        "\n",
        "purchase_amount = float(input(\"Enter the purchase amount: \"))\n",
        "\n",
        "if purchase_amount >= 1000:\n",
        "    discount = 0.1 * purchase_amount  # 10% discount for purchases over or equal to 1000\n",
        "else:\n",
        "    discount = 0\n",
        "\n",
        "print(\"Discount amount:\", discount)\n"
      ],
      "metadata": {
        "id": "DwWlkcj7XGih"
      },
      "execution_count": null,
      "outputs": []
    },
    {
      "cell_type": "code",
      "source": [
        "# Question: Write a Python program to check if a number is within a specified range using if-else.\n",
        "\n",
        "number = int(input(\"Enter a number: \"))\n",
        "lower_limit = 10\n",
        "upper_limit = 20\n",
        "\n",
        "if lower_limit <= number <= upper_limit:\n",
        "    print(\"Number is within the specified range.\")\n",
        "else:\n",
        "    print(\"Number is outside the specified range.\")\n"
      ],
      "metadata": {
        "id": "ADPEJDYxXGs7"
      },
      "execution_count": null,
      "outputs": []
    },
    {
      "cell_type": "code",
      "source": [
        "# Question: Create a Python program that determines the grade of a student based on their score using if-else.\n",
        "\n",
        "score = float(input(\"Enter your score: \"))\n",
        "\n",
        "if 90 <= score <= 100:\n",
        "    grade = \"A\"\n",
        "elif 80 <= score < 90:\n",
        "    grade = \"B\"\n",
        "elif 70 <= score < 80:\n",
        "    grade = \"C\"\n",
        "elif 60 <= score < 70:\n",
        "    grade = \"D\"\n",
        "else:\n",
        "    grade = \"F\"\n",
        "\n",
        "print(\"Your grade:\", grade)\n"
      ],
      "metadata": {
        "id": "7Vqs36jWXGzP"
      },
      "execution_count": null,
      "outputs": []
    },
    {
      "cell_type": "code",
      "source": [
        "# Question: Write a Python program to check if a string is empty or not using if-else.\n",
        "\n",
        "my_string = input(\"Enter a string: \")\n",
        "\n",
        "if my_string:\n",
        "    print(\"String is not empty.\")\n",
        "else:\n",
        "    print(\"String is empty.\")\n"
      ],
      "metadata": {
        "id": "uU3Zl_A3XG5C"
      },
      "execution_count": null,
      "outputs": []
    },
    {
      "cell_type": "code",
      "source": [
        "# Question: Create a Python program that identifies the type of a triangle (e.g., equilateral, isosceles, or scalene) based on input values using if-else.\n",
        "\n",
        "side1 = float(input(\"Enter the length of side 1: \"))\n",
        "side2 = float(input(\"Enter the length of side 2: \"))\n",
        "side3 = float(input(\"Enter the length of side 3: \"))\n",
        "\n",
        "if side1 == side2 == side3:\n",
        "    triangle_type = \"Equilateral\"\n",
        "elif side1 == side2 or side1 == side3 or side2 == side3:\n",
        "    triangle_type = \"Isosceles\"\n",
        "else:\n",
        "    triangle_type = \"Scalene\"\n",
        "\n",
        "print(\"Triangle is:\", triangle_type)\n"
      ],
      "metadata": {
        "id": "rSQbMa9VXG-4"
      },
      "execution_count": null,
      "outputs": []
    },
    {
      "cell_type": "code",
      "source": [
        "# Question: Write a Python program to determine the day of the week based on a user-provided number using if-else.\n",
        "\n",
        "day_number = int(input(\"Enter a number (1 for Monday, 2 for Tuesday, etc.): \"))\n",
        "\n",
        "if day_number == 1:\n",
        "    day = \"Monday\"\n",
        "elif day_number == 2:\n",
        "    day = \"Tuesday\"\n",
        "elif day_number == 3:\n",
        "    day = \"Wednesday\"\n",
        "elif day_number == 4:\n",
        "    day = \"Thursday\"\n",
        "elif day_number == 5:\n",
        "    day = \"Friday\"\n",
        "elif day_number == 6:\n",
        "    day = \"Saturday\"\n",
        "elif day_number == 7:\n",
        "    day = \"Sunday\"\n",
        "else:\n",
        "    day = \"Invalid day number\"\n",
        "\n",
        "print(\"Day:\", day)\n"
      ],
      "metadata": {
        "id": "047XKNIcXHEs"
      },
      "execution_count": null,
      "outputs": []
    },
    {
      "cell_type": "code",
      "source": [
        "# Question: Create a Python program that checks if a given year is a leap year using both if-else and a function.\n",
        "\n",
        "def is_leap_year(year):\n",
        "    if (year % 4 == 0 and year % 100 != 0) or (year % 400 == 0):\n",
        "        return True\n",
        "    else:\n",
        "        return False\n",
        "\n",
        "year = int(input(\"Enter a year: \"))\n",
        "\n",
        "if is_leap_year(year):\n",
        "    print(f\"{year} is a leap year.\")\n",
        "else:\n",
        "    print(f\"{year} is not a leap year.\")\n"
      ],
      "metadata": {
        "id": "CEksBMLyXHJz"
      },
      "execution_count": null,
      "outputs": []
    },
    {
      "cell_type": "code",
      "source": [
        "# Question: How do you use the \"assert\" statement in Python to add debugging checks within if-else blocks?\n",
        "\n",
        "# The \"assert\" statement is used to add debugging checks within code. If the assertion is false, an AssertionError is raised.\n",
        "# Example:\n",
        "\n",
        "x = 10\n",
        "assert x > 5, \"x is not greater than 5\"  # This assertion will pass\n",
        "\n",
        "y = 3\n",
        "assert y > 5, \"y is not greater than 5\"  # This assertion will raise an AssertionError\n"
      ],
      "metadata": {
        "id": "KPSOu_JgXHPw"
      },
      "execution_count": null,
      "outputs": []
    },
    {
      "cell_type": "code",
      "source": [
        "# Question: Create a Python program that determines the eligibility of a person for a senior citizen discount based on age using if-else.\n",
        "\n",
        "age = int(input(\"Enter your age: \"))\n",
        "\n",
        "if age >= 60:\n",
        "    print(\"You are eligible for a senior citizen discount.\")\n",
        "else:\n",
        "    print(\"You are not eligible for a senior citizen discount.\")\n"
      ],
      "metadata": {
        "id": "9k1niIpLXHVz"
      },
      "execution_count": null,
      "outputs": []
    },
    {
      "cell_type": "code",
      "source": [
        "# Question: Write a Python program to categorize a given character as uppercase, lowercase, or neither using if-else.\n",
        "\n",
        "char = input(\"Enter a character: \")\n",
        "\n",
        "if 'A' <= char <= 'Z':\n",
        "    category = \"Uppercase\"\n",
        "elif 'a' <= char <= 'z':\n",
        "    category = \"Lowercase\"\n",
        "else:\n",
        "    category = \"Neither\"\n",
        "\n",
        "print(f\"The character '{char}' is {category}.\")\n"
      ],
      "metadata": {
        "id": "qIpZV3_fXHb-"
      },
      "execution_count": null,
      "outputs": []
    },
    {
      "cell_type": "code",
      "source": [
        "# Question: Write a Python program to determine the roots of a quadratic equation using if-else.\n",
        "\n",
        "import math\n",
        "\n",
        "a = float(input(\"Enter coefficient a: \"))\n",
        "b = float(input(\"Enter coefficient b: \"))\n",
        "c = float(input(\"Enter coefficient c: \"))\n",
        "\n",
        "discriminant = b**2 - 4*a*c\n",
        "\n",
        "if discriminant > 0:\n",
        "    root1 = (-b + math.sqrt(discriminant)) / (2*a)\n",
        "    root2 = (-b - math.sqrt(discriminant)) / (2*a)\n",
        "    print(f\"Roots are real and different: {root1}, {root2}\")\n",
        "elif discriminant == 0:\n",
        "    root1 = -b / (2*a)\n",
        "    print(f\"Roots are real and same: {root1}\")\n",
        "else:\n",
        "    real_part = -b / (2*a)\n",
        "    imaginary_part = math.sqrt(abs(discriminant)) / (2*a)\n",
        "    print(f\"Roots are complex: {real_part} + {imaginary_part}i, {real_part} - {imaginary_part}i\")\n"
      ],
      "metadata": {
        "id": "xiXPiorJXHij"
      },
      "execution_count": null,
      "outputs": []
    },
    {
      "cell_type": "code",
      "source": [
        "# Question: Create a Python program that checks if a given year is a century year or not using if-else.\n",
        "\n",
        "year = int(input(\"Enter a year: \"))\n",
        "\n",
        "if year % 100 == 0:\n",
        "    if year % 400 == 0:\n",
        "        print(f\"{year} is a leap century year.\")\n",
        "    else:\n",
        "        print(f\"{year} is not a leap century year.\")\n",
        "else:\n",
        "    print(f\"{year} is not a century year.\")\n"
      ],
      "metadata": {
        "id": "POk03WtiXHot"
      },
      "execution_count": null,
      "outputs": []
    },
    {
      "cell_type": "code",
      "source": [
        "# Question: Write a Python program to determine if a given number is a perfect square using if-else.\n",
        "\n",
        "import math\n",
        "\n",
        "number = int(input(\"Enter a number: \"))\n",
        "\n",
        "sqrt = int(math.sqrt(number))\n",
        "\n",
        "if sqrt*sqrt == number:\n",
        "    print(f\"{number} is a perfect square.\")\n",
        "else:\n",
        "    print(f\"{number} is not a perfect square.\")\n"
      ],
      "metadata": {
        "id": "0hAizYv-XHug"
      },
      "execution_count": null,
      "outputs": []
    },
    {
      "cell_type": "code",
      "source": [
        "# Question: Explain the purpose of the \"continue\" and \"break\" statements within if-else loops.\n",
        "\n",
        "# The \"continue\" statement is used to skip the current iteration of a loop and move to the next iteration.\n",
        "# The \"break\" statement is used to exit a loop prematurely.\n",
        "\n",
        "# Example using \"continue\":\n",
        "\n",
        "for i in range(1, 6):\n",
        "    if i % 2 == 0:\n",
        "        continue  # Skip even numbers\n",
        "    print(i)\n",
        "\n",
        "# Output will be: 1, 3, 5\n",
        "\n",
        "# Example using \"break\":\n",
        "\n",
        "for i in range(1, 6):\n",
        "    if i == 3:\n",
        "        break  # Exit the loop when i is 3\n",
        "    print(i)\n",
        "\n",
        "# Output will be: 1, 2\n"
      ],
      "metadata": {
        "id": "G3ol6CqPXHz5"
      },
      "execution_count": null,
      "outputs": []
    },
    {
      "cell_type": "code",
      "source": [
        "# Question: Create a Python program that calculates the BMI (Body Mass Index) of a person based on their weight and height using if-else.\n",
        "\n",
        "weight = float(input(\"Enter your weight in kilograms: \"))\n",
        "height = float(input(\"Enter your height in meters: \"))\n",
        "\n",
        "bmi = weight / (height ** 2)\n",
        "\n",
        "if 18.5 <= bmi < 25:\n",
        "    category = \"Normal weight\"\n",
        "elif bmi < 18.5:\n",
        "    category = \"Underweight\"\n",
        "else:\n",
        "    category = \"Overweight\"\n",
        "\n",
        "print(f\"Your BMI is {bmi:.2f}, and you are categorized as {category}.\")\n"
      ],
      "metadata": {
        "id": "-uwqjcG5XH6X"
      },
      "execution_count": null,
      "outputs": []
    },
    {
      "cell_type": "code",
      "source": [
        "# Question: How can you use the \"filter()\" function with if-else statements to filter elements from a list?\n",
        "\n",
        "# The \"filter()\" function filters elements from an iterable (e.g., list) based on a function's result.\n",
        "\n",
        "# Example:\n",
        "\n",
        "def is_even(x):\n",
        "    return x % 2 == 0\n",
        "\n",
        "numbers = [1, 2, 3, 4, 5, 6, 7, 8, 9, 10]\n",
        "\n",
        "even_numbers = filter(is_even, numbers)\n",
        "even_numbers_list = list(even_numbers)\n",
        "\n",
        "print(even_numbers_list)\n"
      ],
      "metadata": {
        "id": "pX4BSyyCXIBX"
      },
      "execution_count": null,
      "outputs": []
    },
    {
      "cell_type": "code",
      "source": [
        "# Question: Write a Python program to determine if a given number is prime or not using if-else.\n",
        "\n",
        "number = int(input(\"Enter a number: \"))\n",
        "\n",
        "if number <= 1:\n",
        "    is_prime = False\n",
        "else:\n",
        "    is_prime = True\n",
        "    for i in range(2, int(number ** 0.5) + 1):\n",
        "        if number % i == 0:\n",
        "            is_prime = False\n",
        "            break\n",
        "\n",
        "if is_prime:\n",
        "    print(f\"{number} is a prime number.\")\n",
        "else:\n",
        "    print(f\"{number} is not a prime number.\")\n"
      ],
      "metadata": {
        "id": "aNTvq-e3XIIH"
      },
      "execution_count": null,
      "outputs": []
    },
    {
      "cell_type": "markdown",
      "source": [
        "##Map :-"
      ],
      "metadata": {
        "id": "SQKko7G0XyZ-"
      }
    },
    {
      "cell_type": "markdown",
      "source": [
        "**Explain the purpose of the `map()` function in Python and provide an example of how it can be used to apply a function to each element of an iterable.**"
      ],
      "metadata": {
        "id": "ZQIA7Lt7X7bU"
      }
    },
    {
      "cell_type": "markdown",
      "source": [
        "The `map()` function in Python is used to apply a specified function to each item in an iterable (such as a list, tuple, or string) and returns an iterable map object (an iterator). It essentially maps or transforms the elements of the input iterable using the provided function and produces a new iterable with the transformed values.\n",
        "\n",
        "Here's the general syntax of the `map()` function:\n",
        "\n",
        "```python\n",
        "map(function, iterable)\n",
        "```\n",
        "\n",
        "- `function`: The function that you want to apply to each element of the iterable.\n",
        "- `iterable`: The iterable (e.g., list, tuple, string) whose elements you want to transform using the given function.\n",
        "\n",
        "The `map()` function is useful when you want to perform a consistent operation on every element of an iterable and collect the results. It's a more concise and Pythonic way of achieving this compared to writing a `for` loop.\n",
        "\n",
        "Here's an example of how the `map()` function can be used:\n",
        "\n",
        "```python\n",
        "# Define a function that squares a number\n",
        "def square(x):\n",
        "    return x ** 2\n",
        "\n",
        "# Create a list of numbers\n",
        "numbers = [1, 2, 3, 4, 5]\n",
        "\n",
        "# Use the map() function to apply the square function to each element of the list\n",
        "squared_numbers = map(square, numbers)\n",
        "\n",
        "# Convert the result to a list (map returns an iterator)\n",
        "squared_numbers_list = list(squared_numbers)\n",
        "\n",
        "# Output the squared numbers\n",
        "print(squared_numbers_list)\n",
        "```\n",
        "\n",
        "In this example, the `square()` function is applied to each element of the `numbers` list using `map()`. The result is an iterable map object, which is then converted into a list to display the squared numbers.\n",
        "\n",
        "The `map()` function is particularly helpful when you want to apply a function element-wise to a large iterable without explicitly writing a `for` loop. It's a functional programming concept that allows you to make your code more concise and readable."
      ],
      "metadata": {
        "id": "jwdr1QP6YTNN"
      }
    },
    {
      "cell_type": "markdown",
      "source": [
        "Write a Python program that uses the `map()` function to square each element of a list of numbers."
      ],
      "metadata": {
        "id": "0M27zr5fYd8n"
      }
    },
    {
      "cell_type": "code",
      "source": [
        "my_list = [1, 2, 3, 4, 5]\n",
        "sqr_list = list(map(lambda x : x**2, my_list))\n",
        "sqr_list"
      ],
      "metadata": {
        "colab": {
          "base_uri": "https://localhost:8080/"
        },
        "id": "yPYf9nffXIOE",
        "outputId": "c6cdea90-dd12-439d-d069-32438a250ff8"
      },
      "execution_count": 23,
      "outputs": [
        {
          "output_type": "execute_result",
          "data": {
            "text/plain": [
              "[1, 4, 9, 16, 25]"
            ]
          },
          "metadata": {},
          "execution_count": 23
        }
      ]
    },
    {
      "cell_type": "markdown",
      "source": [
        "**How does the `map()` function differ from a list comprehension in Python, and when would you choose one over the other?**"
      ],
      "metadata": {
        "id": "BL9U-1TOYzDJ"
      }
    },
    {
      "cell_type": "markdown",
      "source": [
        "The `map()` function and list comprehensions in Python serve similar purposes: they both allow you to apply a function to each element of an iterable and collect the results in a new iterable. However, they have some key differences, and the choice between them often depends on the specific use case and personal preference. Here's how they differ:\n",
        "\n",
        "1. **Syntax**:\n",
        "   - `map()` is a built-in function that takes two arguments: the function to apply and the iterable. It returns a map object, which is an iterator.\n",
        "   - List comprehensions have a more concise and expressive syntax. They consist of square brackets enclosing an expression followed by a `for` clause and, optionally, `if` clauses.\n",
        "\n",
        "   Example using `map()`:\n",
        "   ```python\n",
        "   result = map(function, iterable)\n",
        "   ```\n",
        "\n",
        "   Example using list comprehension:\n",
        "   ```python\n",
        "   result = [expression for item in iterable]\n",
        "   ```\n",
        "\n",
        "2. **Result Type**:\n",
        "   - `map()` returns a map object (an iterator) that needs to be converted into another iterable type (e.g., list) using `list()`, `tuple()`, or similar.\n",
        "   - List comprehensions directly produce lists.\n",
        "\n",
        "3. **Readability and Expressiveness**:\n",
        "   - List comprehensions are often considered more readable and Pythonic, especially for simple transformations.\n",
        "   - `map()` might be less readable when the function being applied is complex or when multiple iterables are involved.\n",
        "\n",
        "4. **Performance**:\n",
        "   - In some cases, `map()` can be slightly faster than list comprehensions because it's implemented as a built-in function and can be optimized by Python's interpreter.\n",
        "   - List comprehensions are still very efficient and provide a convenient way to create lists.\n",
        "\n",
        "Here's an example comparing the two approaches:\n",
        "\n",
        "Using `map()`:\n",
        "```python\n",
        "numbers = [1, 2, 3, 4, 5]\n",
        "squared_numbers = map(lambda x: x ** 2, numbers)\n",
        "result = list(squared_numbers)\n",
        "```\n",
        "\n",
        "Using list comprehension:\n",
        "```python\n",
        "numbers = [1, 2, 3, 4, 5]\n",
        "result = [x ** 2 for x in numbers]\n",
        "```\n",
        "\n",
        "In this case, the list comprehension is more concise and easier to read.\n",
        "\n",
        "**When to Choose `map()`**:\n",
        "- You may prefer to use `map()` when working with functional programming constructs, as it aligns well with that paradigm.\n",
        "- When you need to apply the same function to elements of multiple iterables in parallel, `map()` can be more efficient and readable.\n",
        "\n",
        "**When to Choose List Comprehensions**:\n",
        "- List comprehensions are generally more Pythonic and recommended for simple transformations.\n",
        "- When you need to filter elements from the iterable based on a condition (`if` clause), list comprehensions provide a clear and concise way to do so.\n",
        "- For most everyday use cases, list comprehensions are preferred due to their readability and ease of use.\n",
        "\n",
        "Ultimately, the choice between `map()` and list comprehensions depends on your coding style, readability concerns, and the complexity of the task at hand. Both are valuable tools in Python's arsenal for working with iterables."
      ],
      "metadata": {
        "id": "T-Ha0-LpY585"
      }
    },
    {
      "cell_type": "markdown",
      "source": [
        "Create a Python program that uses the `map()` function to convert a list of names to uppercase."
      ],
      "metadata": {
        "id": "YJmUmjvmZB1J"
      }
    },
    {
      "cell_type": "code",
      "source": [
        "List1 = [\"shubh\", \"pwskills\", \"datasciencepro\"]\n",
        "upper_list1 = list(map(lambda x : x.upper(), List1))\n",
        "upper_list1"
      ],
      "metadata": {
        "colab": {
          "base_uri": "https://localhost:8080/"
        },
        "id": "x6T3oUscX1_l",
        "outputId": "6e158ed8-5ce9-4346-fd7e-b7b3777f48c0"
      },
      "execution_count": 25,
      "outputs": [
        {
          "output_type": "execute_result",
          "data": {
            "text/plain": [
              "['SHUBH', 'PWSKILLS', 'DATASCIENCEPRO']"
            ]
          },
          "metadata": {},
          "execution_count": 25
        }
      ]
    },
    {
      "cell_type": "markdown",
      "source": [
        "Write a Python program that uses the `map()` function to calculate the length of each word in a list of strings."
      ],
      "metadata": {
        "id": "VtRh1lb-ZrQB"
      }
    },
    {
      "cell_type": "code",
      "source": [
        "List1 = [\"shubh\", \"pwskills\", \"datasciencepro\"]\n",
        "len_list1 = list(map(lambda x: len(x),List1))\n",
        "len_list1"
      ],
      "metadata": {
        "colab": {
          "base_uri": "https://localhost:8080/"
        },
        "id": "rEciXlgGZmCK",
        "outputId": "7b32909e-2529-4295-a702-80fd3b7a17b6"
      },
      "execution_count": 26,
      "outputs": [
        {
          "output_type": "execute_result",
          "data": {
            "text/plain": [
              "[5, 8, 14]"
            ]
          },
          "metadata": {},
          "execution_count": 26
        }
      ]
    },
    {
      "cell_type": "markdown",
      "source": [
        "**How can you use the `map()` function to apply a custom function to elements of multiple lists simultaneously in Python?**"
      ],
      "metadata": {
        "id": "yTsQemJVaHMt"
      }
    },
    {
      "cell_type": "markdown",
      "source": [
        "You can use the `map()` function to apply a custom function to elements of multiple lists simultaneously by passing multiple iterables as arguments to the `map()` function and defining a function that accepts as many arguments as there are iterables. The `map()` function will then apply the function element-wise to the corresponding elements of each iterable.\n",
        "\n",
        "Here's a step-by-step guide on how to do this:\n",
        "\n",
        "1. Define your custom function that takes as many arguments as there are iterables. For example, if you have two lists and want to add their elements element-wise, your function could look like this:\n",
        "\n",
        "   ```python\n",
        "   def add_elements(a, b):\n",
        "       return a + b\n",
        "   ```\n",
        "\n",
        "2. Create the lists or iterables that you want to operate on. For example:\n",
        "\n",
        "   ```python\n",
        "   list1 = [1, 2, 3, 4]\n",
        "   list2 = [10, 20, 30, 40]\n",
        "   ```\n",
        "\n",
        "3. Use the `map()` function to apply your custom function to the elements of these lists:\n",
        "\n",
        "   ```python\n",
        "   result = map(add_elements, list1, list2)\n",
        "   ```\n",
        "\n",
        "4. Convert the result into an iterable (e.g., a list) if needed:\n",
        "\n",
        "   ```python\n",
        "   result_list = list(result)\n",
        "   ```\n",
        "\n",
        "Now, `result_list` will contain the element-wise sum of the corresponding elements from `list1` and `list2`.\n",
        "\n",
        "Here's a complete example:\n",
        "\n",
        "```python\n",
        "def add_elements(a, b):\n",
        "    return a + b\n",
        "\n",
        "list1 = [1, 2, 3, 4]\n",
        "list2 = [10, 20, 30, 40]\n",
        "\n",
        "result = map(add_elements, list1, list2)\n",
        "result_list = list(result)\n",
        "\n",
        "print(result_list)  # Output: [11, 22, 33, 44]\n",
        "```\n",
        "\n",
        "In this example, the `add_elements` function is applied to `list1` and `list2` element-wise, resulting in a new list containing the sums. You can apply this technique to more than two iterables by simply extending the number of arguments in your custom function and passing additional lists to `map()`."
      ],
      "metadata": {
        "id": "XyQREK8TaJuX"
      }
    },
    {
      "cell_type": "code",
      "source": [
        "def add_elements(a, b):\n",
        "    return a + b"
      ],
      "metadata": {
        "id": "yzp5RwMfajwA"
      },
      "execution_count": 27,
      "outputs": []
    },
    {
      "cell_type": "code",
      "source": [
        "list1 = [1, 2, 3, 4]\n",
        "list2 = [10, 20, 30, 40]"
      ],
      "metadata": {
        "id": "J7VSWhQVapLo"
      },
      "execution_count": 34,
      "outputs": []
    },
    {
      "cell_type": "code",
      "source": [
        "result = list(map(add_elements, list1, list2))\n",
        "result\n"
      ],
      "metadata": {
        "colab": {
          "base_uri": "https://localhost:8080/"
        },
        "id": "zxCk33G1atEO",
        "outputId": "3e12f445-ee18-4601-ba32-166a53f9b65c"
      },
      "execution_count": 36,
      "outputs": [
        {
          "output_type": "execute_result",
          "data": {
            "text/plain": [
              "[11, 22, 33, 44]"
            ]
          },
          "metadata": {},
          "execution_count": 36
        }
      ]
    },
    {
      "cell_type": "markdown",
      "source": [
        "Create a Python program that uses `map()` to convert a list of temperatures from Celsius to Fahrenheit."
      ],
      "metadata": {
        "id": "RCA1fnSGai6E"
      }
    },
    {
      "cell_type": "code",
      "source": [
        "temp_in_celsius = [-40, 25, 45, 100]"
      ],
      "metadata": {
        "id": "XwzyrqlObLij"
      },
      "execution_count": 37,
      "outputs": []
    },
    {
      "cell_type": "code",
      "source": [
        "temp_in_fahrenheit = list(map(lambda x : (9/5)*x + 32, temp_in_celsius))\n",
        "temp_in_fahrenheit"
      ],
      "metadata": {
        "colab": {
          "base_uri": "https://localhost:8080/"
        },
        "id": "lanYNrS3bVcZ",
        "outputId": "4b244e88-2582-4a5d-e53f-0c977f707abd"
      },
      "execution_count": 38,
      "outputs": [
        {
          "output_type": "execute_result",
          "data": {
            "text/plain": [
              "[-40.0, 77.0, 113.0, 212.0]"
            ]
          },
          "metadata": {},
          "execution_count": 38
        }
      ]
    },
    {
      "cell_type": "markdown",
      "source": [
        "Write a Python program that uses the `map()` function to round each element of a list of floating-point numbers to the nearest integer."
      ],
      "metadata": {
        "id": "Kmwa_fgOaO33"
      }
    },
    {
      "cell_type": "code",
      "source": [
        "float_list = [2.69, 2.4, 5.5, 9.1, 10]"
      ],
      "metadata": {
        "id": "btKbWRoOZ-da"
      },
      "execution_count": 39,
      "outputs": []
    },
    {
      "cell_type": "code",
      "source": [
        "nearest_int_list = list(map(lambda x : round(x), float_list))\n",
        "nearest_int_list"
      ],
      "metadata": {
        "colab": {
          "base_uri": "https://localhost:8080/"
        },
        "id": "E6qUYGHHb_CV",
        "outputId": "3a28f3a8-c1af-4837-9bf1-aa57ecbbca76"
      },
      "execution_count": 40,
      "outputs": [
        {
          "output_type": "execute_result",
          "data": {
            "text/plain": [
              "[3, 2, 6, 9, 10]"
            ]
          },
          "metadata": {},
          "execution_count": 40
        }
      ]
    },
    {
      "cell_type": "markdown",
      "source": [
        "##Reduce :-"
      ],
      "metadata": {
        "id": "43iw3lHLcQHp"
      }
    },
    {
      "cell_type": "markdown",
      "source": [
        "**What is the `reduce()` function in Python, and what module should you import to use it? Provide an example of its basic usage.**"
      ],
      "metadata": {
        "id": "AXj9JI9ZcTTR"
      }
    },
    {
      "cell_type": "markdown",
      "source": [
        "The `reduce()` function in Python is part of the `functools` module, and it is used for performing a cumulative operation on a sequence of elements, such as a list or tuple. It repeatedly applies a given function to the elements in the sequence, accumulating a single result.\n",
        "\n",
        "To use the `reduce()` function, you need to import it from the `functools` module. Here's its basic usage:\n",
        "\n",
        "```python\n",
        "from functools import reduce\n",
        "\n",
        "# Define a function for the operation you want to perform\n",
        "def my_function(x, y):\n",
        "    return x + y  # For example, we'll calculate the sum\n",
        "\n",
        "# Create a sequence of elements (e.g., a list)\n",
        "my_list = [1, 2, 3, 4, 5]\n",
        "\n",
        "# Use reduce() to apply the function cumulatively to the elements\n",
        "result = reduce(my_function, my_list)\n",
        "\n",
        "# Print the result\n",
        "print(result)\n",
        "```\n",
        "\n",
        "In this example, we import `reduce` from `functools` and define a custom function, `my_function`, that performs the desired operation on two elements (`x` and `y`). We then create a list, `my_list`, and use the `reduce()` function to apply `my_function` cumulatively to the elements in the list.\n",
        "\n",
        "The `reduce()` function first applies `my_function` to the first two elements of the list, then takes the result and applies the function to the next element and the previous result, and so on, until it reaches the end of the list. The final result is the cumulative result of the operation.\n",
        "\n",
        "In this specific example, it calculates the sum of the elements in the list, so the output will be:\n",
        "\n",
        "```\n",
        "15\n",
        "```\n",
        "\n",
        "Keep in mind that starting from Python 3, `reduce()` is no longer a built-in function and must be imported from the `functools` module."
      ],
      "metadata": {
        "id": "aKAotWkhcW5h"
      }
    },
    {
      "cell_type": "code",
      "source": [
        "from functools import reduce\n",
        "\n",
        "# Define a function for the operation you want to perform\n",
        "def my_function(x, y):\n",
        "    return x + y  # For example, we'll calculate the sum\n",
        "\n",
        "# Create a sequence of elements (e.g., a list)\n",
        "my_list = [1, 2, 3, 4, 5]\n",
        "\n",
        "# Use reduce() to apply the function cumulatively to the elements\n",
        "result = reduce(my_function, my_list)\n",
        "\n",
        "# Print the result\n",
        "print(result)\n"
      ],
      "metadata": {
        "colab": {
          "base_uri": "https://localhost:8080/"
        },
        "id": "NOvO2TlhcM91",
        "outputId": "86048d56-aa30-48a4-eecf-97a460b3db50"
      },
      "execution_count": 41,
      "outputs": [
        {
          "output_type": "stream",
          "name": "stdout",
          "text": [
            "15\n"
          ]
        }
      ]
    },
    {
      "cell_type": "markdown",
      "source": [
        "Write a Python program that uses the `reduce()` function to find the product of all elements in a list."
      ],
      "metadata": {
        "id": "NLv8qBqLcwT3"
      }
    },
    {
      "cell_type": "code",
      "source": [
        "from functools import reduce\n",
        "\n",
        "# Define a function for the operation you want to perform\n",
        "def my_function(x, y):\n",
        "    return x * y  # For example, we'll calculate the product\n",
        "\n",
        "# Create a sequence of elements (e.g., a list)\n",
        "my_list = [1, 2, 3, 4, 5]\n",
        "\n",
        "# Use reduce() to apply the function cumulatively to the elements\n",
        "result = reduce(my_function, my_list)\n",
        "\n",
        "# Print the result\n",
        "print(result)"
      ],
      "metadata": {
        "colab": {
          "base_uri": "https://localhost:8080/"
        },
        "id": "gXRrlMXbc0DA",
        "outputId": "b92b2fd7-5f05-4d4d-f7e3-e8de176d733a"
      },
      "execution_count": 42,
      "outputs": [
        {
          "output_type": "stream",
          "name": "stdout",
          "text": [
            "120\n"
          ]
        }
      ]
    },
    {
      "cell_type": "markdown",
      "source": [
        "**Alt Sol**"
      ],
      "metadata": {
        "id": "DFEPcEmkdChT"
      }
    },
    {
      "cell_type": "code",
      "source": [
        "my_list = [1, 2, 3, 4, 5]\n",
        "prod_my_list = reduce(lambda a,b: a*b, my_list)\n",
        "prod_my_list"
      ],
      "metadata": {
        "colab": {
          "base_uri": "https://localhost:8080/"
        },
        "id": "C1xn9InzdFx3",
        "outputId": "8e5f88bb-0be9-4292-8acf-2b292f6b53c2"
      },
      "execution_count": 45,
      "outputs": [
        {
          "output_type": "execute_result",
          "data": {
            "text/plain": [
              "120"
            ]
          },
          "metadata": {},
          "execution_count": 45
        }
      ]
    },
    {
      "cell_type": "markdown",
      "source": [
        "Create a Python program that uses `reduce()` to find the maximum element in a list of numbers."
      ],
      "metadata": {
        "id": "ZI3G9GqjdjEF"
      }
    },
    {
      "cell_type": "code",
      "source": [
        "my_list = [1, 2, 3, 4, 5]"
      ],
      "metadata": {
        "id": "U3mSbJIFdkSU"
      },
      "execution_count": 46,
      "outputs": []
    },
    {
      "cell_type": "code",
      "source": [
        "max_my_list = reduce(lambda a,b : a if a>b else b, my_list)\n",
        "max_my_list"
      ],
      "metadata": {
        "colab": {
          "base_uri": "https://localhost:8080/"
        },
        "id": "IfDrzXG0dW_m",
        "outputId": "2c8604cc-3af0-45be-89fb-4caa02ee67bf"
      },
      "execution_count": 49,
      "outputs": [
        {
          "output_type": "execute_result",
          "data": {
            "text/plain": [
              "5"
            ]
          },
          "metadata": {},
          "execution_count": 49
        }
      ]
    },
    {
      "cell_type": "markdown",
      "source": [
        "Alt Sol"
      ],
      "metadata": {
        "id": "teSWzH8ceMZk"
      }
    },
    {
      "cell_type": "code",
      "source": [
        "from functools import reduce\n",
        "\n",
        "# Define a function for the operation you want to perform\n",
        "def max_list(a,b):\n",
        "  if a>b:\n",
        "    return a\n",
        "  else:\n",
        "    return b\n",
        "\n",
        "my_list1 = [3, 5, 10, 2, 0, 22, 11]\n",
        "\n",
        "# Use reduce() to apply the function cumulatively to the elements\n",
        "result_list = reduce(max_list, my_list1)\n",
        "\n",
        "#Printing the Result\n",
        "result_list"
      ],
      "metadata": {
        "colab": {
          "base_uri": "https://localhost:8080/"
        },
        "id": "O1YQvgKDd3e2",
        "outputId": "f429f415-3ce8-477e-deb3-0e8dd09e5f47"
      },
      "execution_count": 53,
      "outputs": [
        {
          "output_type": "execute_result",
          "data": {
            "text/plain": [
              "22"
            ]
          },
          "metadata": {},
          "execution_count": 53
        }
      ]
    },
    {
      "cell_type": "markdown",
      "source": [
        "**How can you use the `reduce()` function to concatenate a list of strings into a single string?**"
      ],
      "metadata": {
        "id": "HzaMLCcwf5wE"
      }
    },
    {
      "cell_type": "markdown",
      "source": [
        "You can use the `reduce()` function along with a custom function to concatenate a list of strings into a single string. Here's how you can do it:\n",
        "\n",
        "```python\n",
        "from functools import reduce\n",
        "\n",
        "# Define a function to concatenate two strings\n",
        "def concatenate_strings(str1, str2):\n",
        "    return str1 + str2\n",
        "\n",
        "# Create a list of strings\n",
        "string_list = [\"Hello, \", \"this is \", \"a list \", \"of strings.\"]\n",
        "\n",
        "# Use reduce() to concatenate the strings cumulatively\n",
        "result = reduce(concatenate_strings, string_list)\n",
        "\n",
        "# Print the result\n",
        "print(result)\n",
        "```\n",
        "\n",
        "In this example, we import `reduce` from `functools` and define a custom function, `concatenate_strings`, that concatenates two strings (`str1` and `str2`). We then create a list of strings, `string_list`, and use the `reduce()` function to apply `concatenate_strings` cumulatively to the elements in the list.\n",
        "\n",
        "The `reduce()` function starts by concatenating the first two strings, then takes the result and concatenates it with the next string, and so on, until it reaches the end of the list. The final result is a single concatenated string.\n",
        "\n",
        "The output of this code will be:\n",
        "\n",
        "```\n",
        "Hello, this is a list of strings.\n",
        "```\n",
        "\n",
        "So, the `reduce()` function can be used to concatenate a list of strings into a single string by applying a custom concatenation function cumulatively."
      ],
      "metadata": {
        "id": "omhNDfYqfinO"
      }
    },
    {
      "cell_type": "code",
      "source": [
        "from functools import reduce\n",
        "\n",
        "# Define a function to concatenate two strings\n",
        "def concatenate_strings(str1, str2):\n",
        "    return str1 + str2\n",
        "\n",
        "# Create a list of strings\n",
        "string_list = [\"Hello, \", \"this is \", \"a list \", \"of strings.\"]\n",
        "\n",
        "# Use reduce() to concatenate the strings cumulatively\n",
        "result = reduce(concatenate_strings, string_list)\n",
        "\n",
        "# Print the result\n",
        "print(result)\n"
      ],
      "metadata": {
        "colab": {
          "base_uri": "https://localhost:8080/"
        },
        "id": "gckXZT0re3JT",
        "outputId": "546225e5-60f2-453f-a68c-163920390fc7"
      },
      "execution_count": 54,
      "outputs": [
        {
          "output_type": "stream",
          "name": "stdout",
          "text": [
            "Hello, this is a list of strings.\n"
          ]
        }
      ]
    },
    {
      "cell_type": "markdown",
      "source": [
        "Write a Python program that calculates the factorial of a number using the `reduce()` function."
      ],
      "metadata": {
        "id": "sK5i24x8gasc"
      }
    },
    {
      "cell_type": "code",
      "source": [
        "from functools import reduce\n",
        "def fact_num(a,b):\n",
        "  return a*b\n"
      ],
      "metadata": {
        "id": "5uzDgChngfTV"
      },
      "execution_count": 57,
      "outputs": []
    },
    {
      "cell_type": "code",
      "source": [
        "n = 4\n",
        "factorial_num = reduce(fact_num, range(1, n+1))\n",
        "factorial_num"
      ],
      "metadata": {
        "colab": {
          "base_uri": "https://localhost:8080/"
        },
        "id": "kJWJjsz4hgBy",
        "outputId": "b9b3c4cc-a2bc-4cb9-c33f-725fa164982a"
      },
      "execution_count": 60,
      "outputs": [
        {
          "output_type": "execute_result",
          "data": {
            "text/plain": [
              "24"
            ]
          },
          "metadata": {},
          "execution_count": 60
        }
      ]
    },
    {
      "cell_type": "markdown",
      "source": [
        "Create a Python program that uses `reduce()` to find the GCD (Greatest Common Divisor) of a list of numbers."
      ],
      "metadata": {
        "id": "3fCmcU25jFye"
      }
    },
    {
      "cell_type": "code",
      "source": [
        "from functools import reduce\n",
        "import math\n",
        "\n",
        "# Define a function to find the GCD of two numbers\n",
        "def find_gcd(x, y):\n",
        "    while y != 0:\n",
        "        x, y = y, x % y\n",
        "    return x\n",
        "\n",
        "# Create a list of numbers for which you want to find the GCD\n",
        "numbers = [36, 48, 60, 72, 84]\n",
        "\n",
        "# Use reduce() to find the GCD of the list of numbers\n",
        "gcd = reduce(find_gcd, numbers)\n",
        "\n",
        "# Print the result\n",
        "print(\"GCD of the numbers:\", gcd)\n",
        "\n"
      ],
      "metadata": {
        "colab": {
          "base_uri": "https://localhost:8080/"
        },
        "id": "5aO4hMWIjHJa",
        "outputId": "ea910f3e-bb3d-4a9a-acb3-2b70fa8e1be2"
      },
      "execution_count": 1,
      "outputs": [
        {
          "output_type": "stream",
          "name": "stdout",
          "text": [
            "GCD of the numbers: 12\n"
          ]
        }
      ]
    },
    {
      "cell_type": "markdown",
      "source": [
        "Write a Python program that uses the `reduce()` function to find the sum of the digits of a given number."
      ],
      "metadata": {
        "id": "EOEECnQ2O2iG"
      }
    },
    {
      "cell_type": "code",
      "source": [
        "from functools import reduce\n",
        "import math\n",
        "\n",
        "def digit_sum(x,y):\n",
        "  return x+y\n",
        "\n",
        "input_num = int(input(\"Enter the number: \"))\n",
        "\n",
        "num_to_str = str(input_num)\n",
        "\n",
        "add_digits = reduce(digit_sum, [int(i) for i in num_to_str])\n",
        "\n",
        "print(\"Sum of digits: \", add_digits)\n"
      ],
      "metadata": {
        "colab": {
          "base_uri": "https://localhost:8080/"
        },
        "id": "_lpskmk1LFDa",
        "outputId": "a0e22643-36b4-479a-e721-99550fb16b1d"
      },
      "execution_count": 2,
      "outputs": [
        {
          "output_type": "stream",
          "name": "stdout",
          "text": [
            "Enter the number: 151\n",
            "Sum of digits:  7\n"
          ]
        }
      ]
    },
    {
      "cell_type": "markdown",
      "source": [
        "##Filter :-"
      ],
      "metadata": {
        "id": "6BW9xHmIR_mZ"
      }
    },
    {
      "cell_type": "markdown",
      "source": [
        "**Explain the purpose of the `filter()` function in Python and provide an example of how it can be used to filter elements from an iterable.**\n"
      ],
      "metadata": {
        "id": "mrw7trINSPMs"
      }
    },
    {
      "cell_type": "markdown",
      "source": [
        "The `filter()` function in Python is used to filter elements from an iterable (such as a list, tuple, or any other iterable) based on a given condition. It returns an iterator containing the elements from the original iterable for which the condition evaluates to `True`. In other words, it helps you selectively include or exclude items from a sequence based on a specified criterion.\n",
        "\n",
        "The basic syntax of the `filter()` function is as follows:\n",
        "\n",
        "```python\n",
        "filter(function, iterable)\n",
        "```\n",
        "\n",
        "- `function`: A function that takes an element from the iterable as an argument and returns `True` or `False` based on some condition. This function is applied to each element in the iterable.\n",
        "\n",
        "- `iterable`: The iterable from which elements are filtered.\n",
        "\n",
        "Here's an example of how to use the `filter()` function to filter even numbers from a list:\n",
        "\n",
        "```python\n",
        "# Define a function to check if a number is even\n",
        "def is_even(x):\n",
        "    return x % 2 == 0\n",
        "\n",
        "# Create a list of numbers\n",
        "numbers = [1, 2, 3, 4, 5, 6, 7, 8, 9, 10]\n",
        "\n",
        "# Use filter to get even numbers from the list\n",
        "even_numbers = filter(is_even, numbers)\n",
        "\n",
        "# Convert the result to a list (optional)\n",
        "even_numbers_list = list(even_numbers)\n",
        "\n",
        "# Print the filtered even numbers\n",
        "print(even_numbers_list)\n",
        "```\n",
        "\n",
        "In this example:\n",
        "\n",
        "1. We define a function `is_even(x)` that returns `True` if the input number `x` is even (i.e., divisible by 2).\n",
        "\n",
        "2. We create a list of numbers called `numbers`.\n",
        "\n",
        "3. We use the `filter()` function to filter even numbers from the `numbers` list using the `is_even` function as the filtering condition.\n",
        "\n",
        "4. We convert the result to a list (although it's not necessary as `filter()` returns an iterator).\n",
        "\n",
        "5. Finally, we print the list of even numbers.\n",
        "\n",
        "The output of this code will be `[2, 4, 6, 8, 10]`, which are the even numbers from the original list. The `filter()` function efficiently filters elements based on the provided condition, making it a useful tool for data filtering and processing."
      ],
      "metadata": {
        "id": "hC6tWdQaSBam"
      }
    },
    {
      "cell_type": "markdown",
      "source": [
        "Write a Python program that uses the `filter()` function to select even numbers from a list of integers."
      ],
      "metadata": {
        "id": "-FWbiBpZScC3"
      }
    },
    {
      "cell_type": "code",
      "source": [
        "def is_even(x):\n",
        "    return x % 2 == 0\n",
        "\n",
        "numbers = [1, 2, 3, 4, 5, 6, 7, 8, 9, 10]\n",
        "\n",
        "even_numbers = list(filter(is_even, numbers))\n",
        "\n",
        "print(even_numbers)"
      ],
      "metadata": {
        "colab": {
          "base_uri": "https://localhost:8080/"
        },
        "id": "ZP-xCNomh0uT",
        "outputId": "7f65254d-c491-4399-e20b-e322d26e7aef"
      },
      "execution_count": 5,
      "outputs": [
        {
          "output_type": "stream",
          "name": "stdout",
          "text": [
            "[2, 4, 6, 8, 10]\n"
          ]
        }
      ]
    },
    {
      "cell_type": "markdown",
      "source": [
        "Create a Python program that uses the `filter()` function to select names that start with a specific letter from a list of strings."
      ],
      "metadata": {
        "id": "PbpXfGpCS0H8"
      }
    },
    {
      "cell_type": "code",
      "source": [
        "def filter_str(n):\n",
        "  for i in n:\n",
        "    if i[0] == 'p':\n",
        "      return i\n",
        "str_list = [\"shubh\", \"pwskills\", \"physicswalah\", \"Alakh\", \"pandey\"]\n",
        "\n",
        "str_startswith_p = list(filter(filter_str, str_list))\n",
        "\n",
        "print(str_startswith_p)"
      ],
      "metadata": {
        "colab": {
          "base_uri": "https://localhost:8080/"
        },
        "id": "QOTe6vtmS-hh",
        "outputId": "7d9890de-6c6d-4ef2-a3d2-be183cce7470"
      },
      "execution_count": 7,
      "outputs": [
        {
          "output_type": "stream",
          "name": "stdout",
          "text": [
            "['pwskills', 'physicswalah', 'pandey']\n"
          ]
        }
      ]
    },
    {
      "cell_type": "markdown",
      "source": [
        "Write a Python program that uses the `filter()` function to select prime numbers from a list of integers."
      ],
      "metadata": {
        "id": "5LD1rsUnUOUl"
      }
    },
    {
      "cell_type": "code",
      "source": [
        "def prime_num(n):\n",
        "\n",
        "  for i in range(2, (n//2)+1):\n",
        "    if n%2!=0:\n",
        "      return i\n",
        "\n",
        "list_of_num = [2, 5, 6, 8, 11, 22, 37, 97]\n",
        "prime_list = list(filter(prime_num, list_of_num))\n",
        "\n",
        "print(prime_list)"
      ],
      "metadata": {
        "colab": {
          "base_uri": "https://localhost:8080/"
        },
        "id": "_o7UMyGeUSLE",
        "outputId": "0f3947ef-2d16-4577-80ad-0f7cf56bee8b"
      },
      "execution_count": 10,
      "outputs": [
        {
          "output_type": "stream",
          "name": "stdout",
          "text": [
            "[5, 11, 37, 97]\n"
          ]
        }
      ]
    },
    {
      "cell_type": "markdown",
      "source": [
        "How can you use the `filter()` function to remove None values from a list in Python?"
      ],
      "metadata": {
        "id": "rF-l4WxWWSPY"
      }
    },
    {
      "cell_type": "code",
      "source": [
        "def remove_none(n):\n",
        "  if n != None:\n",
        "    return n\n",
        "\n",
        " # return n is not None\n",
        "\n",
        "list_of_numbers = [2, 5, 6, None, 11, 22, None, 97]\n",
        "filtered_list = list(filter(remove_none, list_of_numbers))\n",
        "\n",
        "print(filtered_list)"
      ],
      "metadata": {
        "colab": {
          "base_uri": "https://localhost:8080/"
        },
        "id": "BdU9LkCbWaBx",
        "outputId": "f5c3417f-d8e4-4b60-8b6a-34ad0171abc8"
      },
      "execution_count": 18,
      "outputs": [
        {
          "output_type": "stream",
          "name": "stdout",
          "text": [
            "[2, 5, 6, 11, 22, 97]\n"
          ]
        }
      ]
    },
    {
      "cell_type": "markdown",
      "source": [
        "Create a Python program that uses `filter()` to select words longer than a certain length from a list of strings."
      ],
      "metadata": {
        "id": "hYaAWaKrZCAX"
      }
    },
    {
      "cell_type": "code",
      "source": [
        "def str_length(n):\n",
        "  if len(n) > 5:\n",
        "    return n\n",
        "\n",
        "str_list1 = [\"shubh\", \"pwskills\", \"physicswalah\", \"Alakh\", \"pandey\"]\n",
        "str_length_gr_5 = list(filter(str_length, str_list1))\n",
        "\n",
        "print(str_length_gr_5)"
      ],
      "metadata": {
        "colab": {
          "base_uri": "https://localhost:8080/"
        },
        "id": "jKX0JyyzXilN",
        "outputId": "3e68a411-26e1-4c76-b178-bbba703cb6b1"
      },
      "execution_count": 17,
      "outputs": [
        {
          "output_type": "stream",
          "name": "stdout",
          "text": [
            "['pwskills', 'physicswalah', 'pandey']\n"
          ]
        }
      ]
    },
    {
      "cell_type": "markdown",
      "source": [
        "Write a Python program that uses the `filter()` function to select elements greater than a specified threshold from a list of values."
      ],
      "metadata": {
        "id": "C1pTmPWiaibd"
      }
    },
    {
      "cell_type": "code",
      "source": [
        "def num_length(n):\n",
        "  if n > 5:\n",
        "    return n\n",
        "\n",
        "num_list1 = [2, 5, 6, 8, 1, 22, 3, 97]\n",
        "num_length_gr_5 = list(filter(num_length, num_list1))\n",
        "\n",
        "print(num_length_gr_5)"
      ],
      "metadata": {
        "colab": {
          "base_uri": "https://localhost:8080/"
        },
        "id": "pOaoOnduanQs",
        "outputId": "8be5203a-36fc-4df2-dcae-fb255d211f00"
      },
      "execution_count": 19,
      "outputs": [
        {
          "output_type": "stream",
          "name": "stdout",
          "text": [
            "[6, 8, 22, 97]\n"
          ]
        }
      ]
    },
    {
      "cell_type": "markdown",
      "source": [
        "##Recursion:-"
      ],
      "metadata": {
        "id": "q1NMuv1Oa_8X"
      }
    },
    {
      "cell_type": "markdown",
      "source": [
        "**Explain the concept of recursion in Python. How does it differ from iteration?**"
      ],
      "metadata": {
        "id": "vITj-ZEvbC_R"
      }
    },
    {
      "cell_type": "markdown",
      "source": [
        "Recursion and iteration are two fundamental concepts in programming for accomplishing repetitive tasks. Let's explore recursion first and then compare it to iteration:\n",
        "\n",
        "**Recursion:**\n",
        "\n",
        "Recursion is a programming technique where a function calls itself to solve a problem. In a recursive function, the problem is divided into smaller subproblems of the same type, and the function continues to call itself on these subproblems until a base case is reached. The base case is a condition that signals the function to stop calling itself and return a result. Recursion is particularly useful for solving problems that can be naturally broken down into smaller, similar subproblems.\n",
        "\n",
        "Here's a typical structure of a recursive function:\n",
        "\n",
        "1. **Base Case(s):** These are the conditions where the recursion ends. When the base case(s) are met, the function returns a specific value without making further recursive calls.\n",
        "\n",
        "2. **Recursive Case(s):** In this part, the function calls itself with modified arguments to solve a smaller instance of the same problem.\n",
        "\n",
        "Here's an example of a simple recursive function to calculate the factorial of a number:\n",
        "\n",
        "```python\n",
        "def factorial(n):\n",
        "    # Base case\n",
        "    if n == 0:\n",
        "        return 1\n",
        "    # Recursive case\n",
        "    else:\n",
        "        return n * factorial(n - 1)\n",
        "```\n",
        "\n",
        "**Iteration:**\n",
        "\n",
        "Iteration, on the other hand, is a process of repeatedly executing a set of statements or a block of code until a certain condition is met. It often involves loops, such as `for` and `while` loops, to perform the repetition. In iteration, you explicitly control the flow of repetition using loop constructs.\n",
        "\n",
        "Here's an example of a `for` loop that calculates the factorial of a number:\n",
        "\n",
        "```python\n",
        "def factorial(n):\n",
        "    result = 1\n",
        "    for i in range(1, n + 1):\n",
        "        result *= i\n",
        "    return result\n",
        "```\n",
        "\n",
        "**Comparison:**\n",
        "\n",
        "1. **Control Flow:** In recursion, the control flow is managed implicitly through function calls. In iteration, it's managed explicitly using loops.\n",
        "\n",
        "2. **Memory Usage:** Recursive functions may consume more memory because each recursive call creates a new stack frame. In contrast, iterative solutions often use a constant amount of memory.\n",
        "\n",
        "3. **Readability:** Recursion can be an elegant way to express certain algorithms, especially when the problem can be naturally divided into subproblems. However, it can be less intuitive for some programmers. Iteration is generally more straightforward and widely used.\n",
        "\n",
        "4. **Performance:** Recursive solutions can be less efficient than iterative solutions for certain problems due to the overhead of function calls and stack frames. Iterative solutions are often preferred for performance-critical tasks.\n",
        "\n",
        "In summary, both recursion and iteration are tools for solving problems that involve repetition. The choice between them depends on the problem at hand, the algorithm's clarity, and performance considerations."
      ],
      "metadata": {
        "id": "B_RuSaFAbNX2"
      }
    },
    {
      "cell_type": "markdown",
      "source": [
        "Write a Python program to calculate the factorial of a number using recursion."
      ],
      "metadata": {
        "id": "2ADyzeZlbQwk"
      }
    },
    {
      "cell_type": "code",
      "source": [
        "def factorial_of_num(n):\n",
        "  # Base cases\n",
        "  if n == 0:\n",
        "    return 1\n",
        "\n",
        "  else:\n",
        "    return n*factorial_of_num(n - 1)\n",
        "\n",
        "n = 5\n",
        "print(f'Factorial of {n} is ', factorial_of_num(n))"
      ],
      "metadata": {
        "colab": {
          "base_uri": "https://localhost:8080/"
        },
        "id": "akwakF3obXDz",
        "outputId": "ce397563-62a4-4358-fc7e-b318c0a59a36"
      },
      "execution_count": 20,
      "outputs": [
        {
          "output_type": "stream",
          "name": "stdout",
          "text": [
            "Factorial of 5 is  120\n"
          ]
        }
      ]
    },
    {
      "cell_type": "markdown",
      "source": [
        " Create a recursive Python function to find the nth Fibonacci number."
      ],
      "metadata": {
        "id": "ep-S6QqDcDhA"
      }
    },
    {
      "cell_type": "code",
      "source": [
        "def fibonacci(n):\n",
        "    # Base cases\n",
        "    if n <= 0:\n",
        "        return 0\n",
        "    elif n == 1:\n",
        "        return 1\n",
        "\n",
        "    else:\n",
        "        return fibonacci(n - 1) + fibonacci(n - 2)\n",
        "n = 10\n",
        "result = fibonacci(n)\n",
        "print(f\"The {n}th Fibonacci number is {result}\")\n",
        ""
      ],
      "metadata": {
        "colab": {
          "base_uri": "https://localhost:8080/"
        },
        "id": "sS9tNey3cFpw",
        "outputId": "da309974-8726-4db4-98e8-a303a5527ba5"
      },
      "execution_count": 1,
      "outputs": [
        {
          "output_type": "stream",
          "name": "stdout",
          "text": [
            "The 10th Fibonacci number is 55\n"
          ]
        }
      ]
    },
    {
      "cell_type": "code",
      "source": [
        "# Write a recursive Python function to calculate the sum of all elements in a list.\n",
        "\n",
        "def recursive_sum(lst):\n",
        "    if len(lst) == 0:\n",
        "        return 0\n",
        "    else:\n",
        "        return lst[0] + recursive_sum(lst[1:])\n",
        "\n",
        "##Test Case\n",
        "test1 = [1,2,3,4,5]\n",
        "print(f'The sum of the List is {recursive_sum(test1)}')\n"
      ],
      "metadata": {
        "colab": {
          "base_uri": "https://localhost:8080/"
        },
        "id": "zIdMYROFnBmg",
        "outputId": "4ac325b7-4afe-4561-ff0b-ffb341849bde"
      },
      "execution_count": 2,
      "outputs": [
        {
          "output_type": "stream",
          "name": "stdout",
          "text": [
            "The sum of the List is 15\n"
          ]
        }
      ]
    },
    {
      "cell_type": "markdown",
      "source": [
        " **Problem**: How can you prevent a recursive function from running indefinitely, causing a stack overflow error?\n"
      ],
      "metadata": {
        "id": "kpKRXBQgnY1r"
      }
    },
    {
      "cell_type": "markdown",
      "source": [
        "**Answer**: You can prevent it by defining a base case that will stop the recursion and ensuring that the recursive function makes progress toward the base case.\n"
      ],
      "metadata": {
        "id": "i08SHKgYniT-"
      }
    },
    {
      "cell_type": "code",
      "source": [
        "# Problem : Create a recursive Python function to find the greatest common divisor (GCD) of two numbers using the Euclidean algorithm.\n",
        "\n",
        "def gcd(a, b):\n",
        "    if b == 0:\n",
        "        return a\n",
        "    else:\n",
        "        return gcd(b, a % b)\n",
        "x = gcd(48, 18)\n",
        "print(f'The gcd of given numbers is {x} ')"
      ],
      "metadata": {
        "colab": {
          "base_uri": "https://localhost:8080/"
        },
        "id": "SSptlTpFnQSM",
        "outputId": "e3f55041-9fd8-44f1-f251-53f904c20c5e"
      },
      "execution_count": 4,
      "outputs": [
        {
          "output_type": "stream",
          "name": "stdout",
          "text": [
            "The gcd of given numbers is 6 \n"
          ]
        }
      ]
    },
    {
      "cell_type": "code",
      "source": [
        "# Problem: Write a recursive Python function to reverse a string.\n",
        "\n",
        "def reverse_string(s):\n",
        "    if len(s) == 1:\n",
        "        return s\n",
        "    else:\n",
        "        return reverse_string(s[1:]) + s[0]\n",
        "print(reverse_string(\"bangalore\"))"
      ],
      "metadata": {
        "colab": {
          "base_uri": "https://localhost:8080/"
        },
        "id": "3gAL3bLxnQJz",
        "outputId": "bd27a062-b1bd-4f15-8d0b-10255c8f6f3e"
      },
      "execution_count": 6,
      "outputs": [
        {
          "output_type": "stream",
          "name": "stdout",
          "text": [
            "erolagnab\n"
          ]
        }
      ]
    },
    {
      "cell_type": "code",
      "source": [
        "# Problem : Create a recursive Python function to calculate the power of a number (x^n).\n",
        "def power(x, n):\n",
        "    if n == 0:\n",
        "        return 1\n",
        "    else:\n",
        "        return x * power(x, n - 1)\n",
        "\n",
        "#Test cases\n",
        "Test1 = power(2,3)\n",
        "Test2 = power(3,2)\n",
        "\n",
        "print(Test1)\n",
        "print(Test2)\n"
      ],
      "metadata": {
        "colab": {
          "base_uri": "https://localhost:8080/"
        },
        "id": "XIr8DCE3nQBO",
        "outputId": "f9e6827b-c8e4-49e1-eb3c-782a8e77287c"
      },
      "execution_count": 7,
      "outputs": [
        {
          "output_type": "stream",
          "name": "stdout",
          "text": [
            "8\n",
            "9\n"
          ]
        }
      ]
    },
    {
      "cell_type": "code",
      "source": [
        "# Problem: Write a recursive Python function to find all permutations of a given string.\n",
        "from itertools import permutations\n",
        "\n",
        "def string_permutations(s):\n",
        "    return [''.join(p) for p in permutations(s)]\n",
        "\n",
        "print(string_permutations(\"sudh\"))"
      ],
      "metadata": {
        "colab": {
          "base_uri": "https://localhost:8080/"
        },
        "id": "C589XUr6nP3F",
        "outputId": "ef65eeb6-f984-465e-baff-6ebc1391fe34"
      },
      "execution_count": 10,
      "outputs": [
        {
          "output_type": "stream",
          "name": "stdout",
          "text": [
            "['sudh', 'suhd', 'sduh', 'sdhu', 'shud', 'shdu', 'usdh', 'ushd', 'udsh', 'udhs', 'uhsd', 'uhds', 'dsuh', 'dshu', 'dush', 'duhs', 'dhsu', 'dhus', 'hsud', 'hsdu', 'husd', 'huds', 'hdsu', 'hdus']\n"
          ]
        }
      ]
    },
    {
      "cell_type": "code",
      "source": [
        "# Problem: Write a recursive Python function to check if a string is a palindrome.\n",
        "def is_palindrome(s):\n",
        "    s = s.lower()\n",
        "    s = ''.join(e for e in s if e.isalnum())\n",
        "    if len(s) <= 1:\n",
        "        return True\n",
        "    if s[0] != s[-1]:\n",
        "        return False\n",
        "    return is_palindrome(s[1:-1])\n",
        "##Test cases\n",
        "Test1 = 'Nun'\n",
        "Test2 = \"Judge\"\n",
        "Test3 = \"TeneT\"\n",
        "print(is_palindrome(Test1))\n",
        "print(is_palindrome(Test2))\n",
        "print(is_palindrome(Test3))\n"
      ],
      "metadata": {
        "colab": {
          "base_uri": "https://localhost:8080/"
        },
        "id": "DH4GRvGbnPuB",
        "outputId": "811dbdc9-0042-4d1c-b6b4-4d9d7bcc5dcb"
      },
      "execution_count": 13,
      "outputs": [
        {
          "output_type": "stream",
          "name": "stdout",
          "text": [
            "True\n",
            "False\n",
            "True\n"
          ]
        }
      ]
    },
    {
      "cell_type": "code",
      "source": [
        "# Problem: Create a recursive Python function to generate all possible combinations of a list of elements.\n",
        "from itertools import combinations\n",
        "\n",
        "def list_combinations(lst):\n",
        "    result = []\n",
        "    for r in range(1, len(lst) + 1):\n",
        "        result += list(combinations(lst, r))\n",
        "    return result\n",
        "lst = [1,2,3]\n",
        "print(list_combinations(lst))"
      ],
      "metadata": {
        "colab": {
          "base_uri": "https://localhost:8080/"
        },
        "id": "XkAJLhPdnPlN",
        "outputId": "619e20ff-43bc-4dd6-f626-5232796301f1"
      },
      "execution_count": 14,
      "outputs": [
        {
          "output_type": "stream",
          "name": "stdout",
          "text": [
            "[(1,), (2,), (3,), (1, 2), (1, 3), (2, 3), (1, 2, 3)]\n"
          ]
        }
      ]
    },
    {
      "cell_type": "markdown",
      "source": [
        "##Basics of Functions:\n",
        "\n",
        "1. **What is a function in Python, and why is it used?**\n",
        "   - A function in Python is a block of reusable code that performs a specific task or set of tasks. It is used to encapsulate and organize code, making it more modular and easier to understand. Functions allow you to avoid code duplication and promote reusability.\n",
        "\n",
        "2. **How do you define a function in Python? Provide an example.**\n",
        "   - To define a function in Python, you use the `def` keyword followed by the function name, parentheses for parameters (if any), and a colon. The function body is indented and contains the code to be executed when the function is called.\n",
        "\n",
        "   ```python\n",
        "   # Example of defining a function\n",
        "   def greet(name):\n",
        "       print(f\"Hello, {name}!\")\n",
        "\n",
        "   # Calling the function\n",
        "   greet(\"Alice\")\n",
        "   ```\n",
        "\n",
        "3. **Explain the difference between a function definition and a function call.**\n",
        "   - A function definition is where you specify the function's name, parameters (if any), and the code that should be executed when the function is called. It defines what the function does but does not execute it.\n",
        "   - A function call is when you actually use the function by invoking its name followed by parentheses, passing any required arguments. This is where the code inside the function definition is executed.\n",
        "\n",
        "4. **Write a Python program that defines a function to calculate the sum of two numbers and then calls the function.**\n",
        "   ```python\n",
        "   # Define a function to calculate the sum of two numbers\n",
        "   def add_numbers(a, b):\n",
        "       return a + b\n",
        "\n",
        "   # Call the function and print the result\n",
        "   result = add_numbers(5, 7)\n",
        "   print(\"Sum:\", result)\n",
        "   ```\n",
        "\n",
        "5. **What is a function signature, and what information does it typically include?**\n",
        "   - A function signature typically includes the following information:\n",
        "     - Function name: The name used to identify the function.\n",
        "     - Parameters: The variables or values that the function accepts as input (if any).\n",
        "     - Return type: The data type of the value the function returns (if any).\n",
        "     - Documentation (optional): A docstring that describes the purpose and usage of the function.\n"
      ],
      "metadata": {
        "id": "ROkhg3oGXUaq"
      }
    },
    {
      "cell_type": "markdown",
      "source": [
        "**6. Create a Python function that takes two arguments and returns their product.**"
      ],
      "metadata": {
        "id": "5wt39-7GYQXy"
      }
    },
    {
      "cell_type": "code",
      "source": [
        "def multiply(a, b):\n",
        "    return a * b\n",
        "\n",
        "result = multiply(3, 4)\n",
        "print(\"Product:\", result)  # Output: Product: 12"
      ],
      "metadata": {
        "colab": {
          "base_uri": "https://localhost:8080/"
        },
        "id": "rKMq4-ZJnPcv",
        "outputId": "d01b06df-2a23-470c-ed2c-94a63eb6d18b"
      },
      "execution_count": 15,
      "outputs": [
        {
          "output_type": "stream",
          "name": "stdout",
          "text": [
            "Product: 12\n"
          ]
        }
      ]
    },
    {
      "cell_type": "markdown",
      "source": [
        "##Function Parameters and Arguments:"
      ],
      "metadata": {
        "id": "vYZNx4dZY6Zk"
      }
    },
    {
      "cell_type": "markdown",
      "source": [
        "1. **Explain the concepts of formal parameters and actual arguments in Python functions:**\n",
        "   - In Python functions:\n",
        "     - **Formal parameters** are placeholders for the values that a function expects to receive when it is called. They are defined in the function's parameter list.\n",
        "     - **Actual arguments** are the values that are passed to the function when it is called. These values are substituted for the formal parameters during the function execution.\n",
        "\n",
        "\n",
        "\n"
      ],
      "metadata": {
        "id": "tUV5VEP5ZCO7"
      }
    },
    {
      "cell_type": "markdown",
      "source": [
        "2. **Write a Python program that defines a function with default argument values:**\n",
        "  "
      ],
      "metadata": {
        "id": "-fOlm9gWZSBV"
      }
    },
    {
      "cell_type": "code",
      "source": [
        "\n",
        "def greet(name=\"Guest\"):\n",
        "    print(f\"Hello, {name}!\")\n",
        "\n",
        "greet()           # Output: Hello, Guest!\n",
        "greet(\"Alice\")    # Output: Hello, Alice!\n"
      ],
      "metadata": {
        "colab": {
          "base_uri": "https://localhost:8080/"
        },
        "id": "XUyAN9yhnPUO",
        "outputId": "d89f0b84-9d7d-4064-bc7f-7cc328644c22"
      },
      "execution_count": 16,
      "outputs": [
        {
          "output_type": "stream",
          "name": "stdout",
          "text": [
            "Hello, Guest!\n",
            "Hello, Alice!\n"
          ]
        }
      ]
    },
    {
      "cell_type": "markdown",
      "source": [
        "**3. How do you use keyword arguments in Python function calls? Provide an example:**"
      ],
      "metadata": {
        "id": "gdKYD_N7Zu_S"
      }
    },
    {
      "cell_type": "markdown",
      "source": [
        "Keyword arguments allow you to pass values to function parameters by specifying the parameter name along with the value during the function call."
      ],
      "metadata": {
        "id": "fg2CKmGqZ1L3"
      }
    },
    {
      "cell_type": "code",
      "source": [
        "# Define a function with keyword arguments\n",
        "def display_info(name, age):\n",
        "    print(f\"Name: {name}, Age: {age}\")\n",
        "\n",
        "# Call the function using keyword arguments\n",
        "display_info(name=\"Alice\", age=30)\n"
      ],
      "metadata": {
        "colab": {
          "base_uri": "https://localhost:8080/"
        },
        "id": "lz4hbfpNnPLh",
        "outputId": "a6bd393d-7e1e-4219-89b0-53f505b243ed"
      },
      "execution_count": 17,
      "outputs": [
        {
          "output_type": "stream",
          "name": "stdout",
          "text": [
            "Name: Alice, Age: 30\n"
          ]
        }
      ]
    },
    {
      "cell_type": "markdown",
      "source": [
        "4. Create a Python function that accepts a variable number of arguments and calculates their sum:"
      ],
      "metadata": {
        "id": "8HFLLfQnaHnV"
      }
    },
    {
      "cell_type": "markdown",
      "source": [
        "You can use the *args syntax to accept a variable number of positional arguments, and then, you can perform operations on those arguments."
      ],
      "metadata": {
        "id": "C5iMysLSaJhT"
      }
    },
    {
      "cell_type": "code",
      "source": [
        "# Define a function to calculate the sum of variable arguments\n",
        "def calculate_sum(*args):\n",
        "    total = 0\n",
        "    for num in args:\n",
        "        total += num\n",
        "    return total\n",
        "\n",
        "# Call the function with different numbers of arguments\n",
        "result1 = calculate_sum(1, 2, 3)\n",
        "result2 = calculate_sum(10, 20, 30, 40)\n",
        "\n",
        "print(result1)\n",
        "print(result2)"
      ],
      "metadata": {
        "colab": {
          "base_uri": "https://localhost:8080/"
        },
        "id": "vlWwvT2znO6u",
        "outputId": "b5886a7a-0c43-45fd-a767-b96485c958f2"
      },
      "execution_count": 19,
      "outputs": [
        {
          "output_type": "stream",
          "name": "stdout",
          "text": [
            "6\n",
            "100\n"
          ]
        }
      ]
    },
    {
      "cell_type": "markdown",
      "source": [
        "5. **What is the purpose of the *args and **kwargs syntax in function parameter lists?**"
      ],
      "metadata": {
        "id": "bYY8VWkAaXMZ"
      }
    },
    {
      "cell_type": "markdown",
      "source": [
        "\n",
        "\n",
        "*  `*args` is used to collect a variable number of non-keyword (positional) arguments into a tuple within the function.\n",
        "\n",
        "*   `**kwargs` is used to collect a variable number of keyword arguments into a dictionary within the function.\n",
        "\n",
        "\n",
        "*   These allow you to create functions that can accept an arbitrary number of arguments, making your code more flexible.\n",
        "\n",
        "\n",
        "\n",
        "\n"
      ],
      "metadata": {
        "id": "ALw_xn3Balba"
      }
    },
    {
      "cell_type": "markdown",
      "source": [
        "##Return Values and Scoping:"
      ],
      "metadata": {
        "id": "aosSm0DQbVSa"
      }
    },
    {
      "cell_type": "markdown",
      "source": [
        "1. Describe the role of the return statement in Python functions and provide examples:"
      ],
      "metadata": {
        "id": "NWHR2yVdbaYz"
      }
    },
    {
      "cell_type": "markdown",
      "source": [
        "The `return` statement in Python functions is used to specify what value the function should produce as its result. When a return statement is encountered, the function stops executing, and the specified value is returned to the caller."
      ],
      "metadata": {
        "id": "4tqGEsyTbeYj"
      }
    },
    {
      "cell_type": "code",
      "source": [
        "##Example\n",
        "def add(a, b):\n",
        "    return a + b\n",
        "\n",
        "result = add(3, 4)\n",
        "print(result)\n"
      ],
      "metadata": {
        "colab": {
          "base_uri": "https://localhost:8080/"
        },
        "id": "YkXzGuuUnOyR",
        "outputId": "6dad6cf9-c57b-48dc-d780-a935124fd141"
      },
      "execution_count": 20,
      "outputs": [
        {
          "output_type": "stream",
          "name": "stdout",
          "text": [
            "7\n"
          ]
        }
      ]
    },
    {
      "cell_type": "markdown",
      "source": [
        "2. Explain the concept of variable scope in Python, including local and global variables:"
      ],
      "metadata": {
        "id": "Z_sE3OGYbyge"
      }
    },
    {
      "cell_type": "markdown",
      "source": [
        "`Variable scope` in Python refers to the region where a variable can be accessed or modified. There are two main types of variable scope:\n",
        "\n",
        "1. `Local variables`: These are variables defined within a function and can only be accessed within that function.\n",
        "\n",
        "2. `Global variables`: These are variables defined outside of any function and can be accessed from any part of the program."
      ],
      "metadata": {
        "id": "UIuw3Py7b4zC"
      }
    },
    {
      "cell_type": "markdown",
      "source": [
        "3. Write a Python program that demonstrates the use of global variables within functions:"
      ],
      "metadata": {
        "id": "p4UGQcQ6cSTL"
      }
    },
    {
      "cell_type": "code",
      "source": [
        "# Define a global variable\n",
        "global_var = 10\n",
        "\n",
        "def modify_global():\n",
        "    # Access the global variable and modify its value\n",
        "    global global_var\n",
        "    global_var += 5\n",
        "\n",
        "modify_global()\n",
        "print(global_var)\n"
      ],
      "metadata": {
        "colab": {
          "base_uri": "https://localhost:8080/"
        },
        "id": "jeK9puqNnOqV",
        "outputId": "7937345e-47fb-42d2-8cbe-785f379c215a"
      },
      "execution_count": 21,
      "outputs": [
        {
          "output_type": "stream",
          "name": "stdout",
          "text": [
            "15\n"
          ]
        }
      ]
    },
    {
      "cell_type": "markdown",
      "source": [
        "4. Create a Python function that calculates the factorial of a number and returns it:"
      ],
      "metadata": {
        "id": "UHOnGl7KcmW5"
      }
    },
    {
      "cell_type": "code",
      "source": [
        "def factorial(n):\n",
        "    if n == 0:\n",
        "        return 1\n",
        "    else:\n",
        "        return n * factorial(n - 1)\n",
        "\n",
        "result = factorial(5)  # Calculates 5!\n",
        "print(result)"
      ],
      "metadata": {
        "colab": {
          "base_uri": "https://localhost:8080/"
        },
        "id": "EvotgRcDnOhY",
        "outputId": "871186f0-afe3-4a1e-86c7-e02d6b235c4c"
      },
      "execution_count": 23,
      "outputs": [
        {
          "output_type": "stream",
          "name": "stdout",
          "text": [
            "120\n"
          ]
        }
      ]
    },
    {
      "cell_type": "markdown",
      "source": [
        "5. How can you access variables defined outside a function from within the function?"
      ],
      "metadata": {
        "id": "01fJN4n8cw1P"
      }
    },
    {
      "cell_type": "markdown",
      "source": [
        "To access variables defined outside a function from within the function, you need to declare the variable as global within the function. This allows you to both read and modify the global variable."
      ],
      "metadata": {
        "id": "8R1QnKCtcyiK"
      }
    },
    {
      "cell_type": "code",
      "source": [
        "global_var = 10\n",
        "\n",
        "def access_global():\n",
        "    global global_var\n",
        "    print(\"Global variable:\", global_var)\n",
        "\n",
        "access_global()"
      ],
      "metadata": {
        "colab": {
          "base_uri": "https://localhost:8080/"
        },
        "id": "d_4uIpRYnOY5",
        "outputId": "b4b920c5-3102-4ecf-b47a-582042d3967f"
      },
      "execution_count": 24,
      "outputs": [
        {
          "output_type": "stream",
          "name": "stdout",
          "text": [
            "Global variable: 10\n"
          ]
        }
      ]
    },
    {
      "cell_type": "markdown",
      "source": [
        "##Lambda Functions and Higher-Order Functions:"
      ],
      "metadata": {
        "id": "jNbONTEBd0jv"
      }
    },
    {
      "cell_type": "markdown",
      "source": [
        "\t1. What are lambda functions in Python, and when are they typically used?"
      ],
      "metadata": {
        "id": "DMK5NsjBd0NL"
      }
    },
    {
      "cell_type": "markdown",
      "source": [
        "Lambda functions in Python are small, anonymous functions that are defined using the `lambda` keyword. They are typically used when you need a simple function for a short period and don't want to define a separate named function using `def`.\n",
        "\n",
        "Lambda functions are often used as arguments to higher-order functions, like `map`, `filter`, and `sorted`."
      ],
      "metadata": {
        "id": "8PYVsyHieA4F"
      }
    },
    {
      "cell_type": "markdown",
      "source": [
        "\t2. Write a Python program that uses lambda functions to sort a list of tuples based on the second element."
      ],
      "metadata": {
        "id": "oyaXpYlKeUy9"
      }
    },
    {
      "cell_type": "code",
      "source": [
        "# List of tuples\n",
        "data = [(1, 5), (3, 2), (2, 8), (4, 1)]\n",
        "\n",
        "# Sort the list of tuples based on the second element using a lambda function\n",
        "sorted_data = sorted(data, key=lambda x: x[1])\n",
        "\n",
        "print(sorted_data)\n"
      ],
      "metadata": {
        "colab": {
          "base_uri": "https://localhost:8080/"
        },
        "id": "_mAYGb7BehTm",
        "outputId": "aff2b4a6-0af8-4b53-9e48-6af1fae36fdc"
      },
      "execution_count": 25,
      "outputs": [
        {
          "output_type": "stream",
          "name": "stdout",
          "text": [
            "[(4, 1), (3, 2), (1, 5), (2, 8)]\n"
          ]
        }
      ]
    },
    {
      "cell_type": "markdown",
      "source": [
        "\t3. Explain the concept of higher-order functions in Python, and provide an example."
      ],
      "metadata": {
        "id": "b22k7eWqefpQ"
      }
    },
    {
      "cell_type": "markdown",
      "source": [
        "\n",
        "\n",
        "*   Higher-order functions in Python are functions that can accept other functions as arguments or return functions as their results.\n",
        "\n",
        "*   They are used to abstract and encapsulate common patterns of operation, making your code more modular and concise.\n",
        "\n"
      ],
      "metadata": {
        "id": "wwt779LCez_0"
      }
    },
    {
      "cell_type": "code",
      "source": [
        "# Define a higher-order function that applies a function to each element of a list\n",
        "def apply_function_to_list(numbers, func):\n",
        "    result = []\n",
        "    for num in numbers:\n",
        "        result.append(func(num))\n",
        "    return result\n",
        "\n",
        "# Define a function to square a number\n",
        "def square(x):\n",
        "    return x ** 2\n",
        "\n",
        "# Use the higher-order function to square each number in a list\n",
        "numbers = [1, 2, 3, 4, 5]\n",
        "squared_numbers = apply_function_to_list(numbers, square)\n",
        "\n",
        "print(squared_numbers)\n"
      ],
      "metadata": {
        "colab": {
          "base_uri": "https://localhost:8080/"
        },
        "id": "MprGKuo8fB8b",
        "outputId": "9f24d7da-bd4b-47d2-e14b-255f4a8d911a"
      },
      "execution_count": 26,
      "outputs": [
        {
          "output_type": "stream",
          "name": "stdout",
          "text": [
            "[1, 4, 9, 16, 25]\n"
          ]
        }
      ]
    },
    {
      "cell_type": "markdown",
      "source": [
        "4. Create a Python function that takes a list of numbers and a function as arguments, applying the function to each element in the list."
      ],
      "metadata": {
        "id": "G-6wWKAfedsg"
      }
    },
    {
      "cell_type": "code",
      "source": [
        "def apply_function_to_list(numbers, func):\n",
        "    result = []\n",
        "    for num in numbers:\n",
        "        result.append(func(num))\n",
        "    return result\n",
        "\n",
        "def double(x):\n",
        "    return x * 2\n",
        "\n",
        "# List of numbers\n",
        "numbers = [1, 2, 3, 4, 5]\n",
        "\n",
        "doubled_numbers = apply_function_to_list(numbers, double)\n",
        "\n",
        "print(doubled_numbers)"
      ],
      "metadata": {
        "colab": {
          "base_uri": "https://localhost:8080/"
        },
        "id": "55oVuw6QfR7O",
        "outputId": "a6d44aa1-bc1a-4f4e-dbc6-fe46d92cea38"
      },
      "execution_count": 29,
      "outputs": [
        {
          "output_type": "stream",
          "name": "stdout",
          "text": [
            "[2, 4, 6, 8, 10]\n"
          ]
        }
      ]
    },
    {
      "cell_type": "markdown",
      "source": [
        "##Built-in Functions:\n",
        "\n",
        "\n",
        "\n",
        "**1. Describe the role of built-in functions like `len()`, `max()`, and `min()` in Python:**\n",
        "   - Built-in functions in Python are pre-defined functions that are available for use without the need for explicit definition. They serve various purposes:\n",
        "     - `len()`: Returns the length (number of elements) of an iterable, such as a list, tuple, or string.\n",
        "     - `max()`: Returns the maximum value from an iterable or a series of arguments.\n",
        "     - `min()`: Returns the minimum value from an iterable or a series of arguments.\n",
        "   - These functions are used to perform common operations quickly and easily.\n",
        "\n",
        "**2. Write a Python program that uses the `map()` function to apply a function to each element of a list:**\n",
        "   - The `map()` function is used to apply a given function to each item of an iterable (e.g., list) and returns a map object (iterator) containing the results.\n",
        "\n",
        "   ```python\n",
        "   # Define a function to double a number\n",
        "   def double(x):\n",
        "       return x * 2\n",
        "\n",
        "   # List of numbers\n",
        "   numbers = [1, 2, 3, 4, 5]\n",
        "\n",
        "   # Use the map() function to double each number in the list\n",
        "   doubled_numbers = list(map(double, numbers))\n",
        "\n",
        "   print(doubled_numbers)\n",
        "   # Output: [2, 4, 6, 8, 10]\n",
        "   ```\n",
        "\n",
        "**3. How does the `filter()` function work in Python, and when would you use it?**\n",
        "   - The `filter()` function is used to filter elements from an iterable (e.g., a list) based on a given function (a predicate) that returns `True` or `False` for each element.\n",
        "   - It returns an iterator containing only the elements for which the function returns `True`.\n",
        "   - You would use `filter()` when you want to select specific elements from a collection that meet certain criteria.\n",
        "\n",
        "   Example:\n",
        "   ```python\n",
        "   # Define a function to filter even numbers\n",
        "   def is_even(x):\n",
        "       return x % 2 == 0\n",
        "\n",
        "   # List of numbers\n",
        "   numbers = [1, 2, 3, 4, 5, 6, 7, 8]\n",
        "\n",
        "   # Use the filter() function to select even numbers from the list\n",
        "   even_numbers = list(filter(is_even, numbers))\n",
        "\n",
        "   print(even_numbers)\n",
        "   # Output: [2, 4, 6, 8]\n",
        "   ```\n",
        "\n",
        "**4. Create a Python program that uses the `reduce()` function to find the product of all elements in a list:**\n",
        "   - The `reduce()` function, which is part of the `functools` module in Python 3, is used to successively apply a function to elements of an iterable and accumulate the results.\n",
        "   - To use `reduce()`, you need to import it and pass it a function and an iterable to reduce.\n",
        "\n",
        "   ```python\n",
        "   from functools import reduce\n",
        "\n",
        "   # Define a function to multiply two numbers\n",
        "   def multiply(x, y):\n",
        "       return x * y\n",
        "\n",
        "   # List of numbers\n",
        "   numbers = [1, 2, 3, 4, 5]\n",
        "\n",
        "   # Use the reduce() function to find the product of all elements in the list\n",
        "   product = reduce(multiply, numbers)\n",
        "\n",
        "   print(product)\n",
        "   # Output: 120 (1 * 2 * 3 * 4 * 5)\n",
        "   ```\n"
      ],
      "metadata": {
        "id": "MJXYNZwpg59U"
      }
    },
    {
      "cell_type": "markdown",
      "source": [
        "##Function Documentation and Best Practices:\n",
        "\n",
        "**1. Explain the purpose of docstrings in Python functions and how to write them.**\n",
        "\n",
        "Docstrings in Python are used to provide documentation and descriptions for functions, classes, methods, modules, and packages. Their purpose is to convey information about the purpose, usage, and behavior of the code they document. Properly documented code is easier to understand, maintain, and use by both developers and end-users.\n",
        "\n",
        "Here's how to write docstrings for Python functions:\n",
        "\n",
        "1. **Function Docstring Format:**\n",
        "   - The docstring should be enclosed in triple quotes (either single or double) and placed directly under the function definition.\n",
        "   - It typically includes a brief one-line description of the function's purpose, followed by more detailed explanations, parameter descriptions, and return value information.\n",
        "\n",
        "2. **Example of a Function with a Docstring:**\n",
        "   ```python\n",
        "   def add(a, b):\n",
        "       \"\"\"\n",
        "       Add two numbers.\n",
        "\n",
        "       This function takes two numbers as arguments and returns their sum.\n",
        "\n",
        "       Parameters:\n",
        "       a (int or float): The first number to be added.\n",
        "       b (int or float): The second number to be added.\n",
        "\n",
        "       Returns:\n",
        "       int or float: The sum of the two input numbers.\n",
        "       \"\"\"\n",
        "       return a + b\n",
        "   ```\n",
        "\n",
        "3. **Accessing Docstrings:**\n",
        "   - You can access a function's docstring using the `help()` function or by typing `function_name.__doc__`.\n",
        "   - For example:\n",
        "     ```python\n",
        "     print(help(add))  # Displays the docstring of the 'add' function.\n",
        "     print(add.__doc__)  # Retrieves and prints the docstring of the 'add' function.\n",
        "     ```\n",
        "\n",
        "4. **Best Practices for Writing Docstrings:**\n",
        "   - Be clear and concise in your descriptions.\n",
        "   - Use the imperative mood (e.g., \"Add two numbers\" rather than \"Adds two numbers\").\n",
        "   - Describe the purpose, parameters (including data types), and return values.\n",
        "   - Mention any exceptions or errors the function may raise.\n",
        "   - Include examples of how to use the function if applicable.\n",
        "   - Follow a consistent style guide for docstrings (e.g., PEP 257 for Python).\n",
        "\n",
        "Using well-structured docstrings in your code improves code readability and helps other developers understand how to use your functions effectively. Additionally, tools like Sphinx can generate documentation from docstrings, making it easier to maintain comprehensive project documentation."
      ],
      "metadata": {
        "id": "EErLfKtThMpJ"
      }
    },
    {
      "cell_type": "markdown",
      "source": [
        "**2. Describe some best practices for naming functions and variables in Python, including naming conventions and guidelines.**\n",
        "\n",
        "Naming functions and variables in Python according to established conventions and guidelines is essential for writing clean, readable, and maintainable code. Here are some best practices for naming functions and variables in Python:\n",
        "\n",
        "**1. Use Descriptive and Meaningful Names:**\n",
        "   - Choose names that convey the purpose and functionality of the function or variable.\n",
        "   - Use full words rather than abbreviations whenever possible to make the code more self-explanatory.\n",
        "\n",
        "**2. Follow PEP 8 Guidelines:**\n",
        "   - PEP 8 is the Python Enhancement Proposal that defines the official style guide for Python code. Adhering to PEP 8 ensures consistency in your code.\n",
        "   - Function and variable names should be lowercase with words separated by underscores (snake_case).\n",
        "   - Constants should be uppercase with words separated by underscores (e.g., `MAX_SIZE`).\n",
        "\n",
        "**3. Use Verb-Noun Naming for Functions:**\n",
        "   - Function names should typically begin with a verb that describes the action the function performs, followed by a noun.\n",
        "   - For example: `calculate_sum`, `get_user_data`, `write_file`.\n",
        "\n",
        "**4. Be Consistent:**\n",
        "   - Maintain consistent naming conventions throughout your codebase. If you choose a particular style for function and variable names, stick with it.\n",
        "\n",
        "**5. Avoid Single-Letter or Ambiguous Names:**\n",
        "   - Avoid single-letter variable names like `x`, `i`, or `j` unless they have a clear and well-defined meaning within a short scope.\n",
        "   - Avoid overly generic names like `data` or `temp` that don't provide meaningful context.\n",
        "\n",
        "**6. Use Plural for Collection Variables:**\n",
        "   - If a variable represents a collection or iterable, use a plural name. For example, `users` instead of `user` for a list of users.\n",
        "\n",
        "**7. Prefix Private Variables and Functions:**\n",
        "   - Use a single leading underscore (`_`) to indicate that a variable or function is intended for internal use within a module or class. For example, `_private_var` or `_private_function`.\n",
        "\n",
        "**8. Choose Intuitive Names for Boolean Variables:**\n",
        "   - Boolean variables should have names that make the meaning clear when they are used in conditionals. For example, `is_valid` rather than `flag` or `status`.\n",
        "\n",
        "**9. Use CamelCase for Class Names:**\n",
        "   - Class names should follow the CamelCase convention, also known as CapWords, where each word begins with a capital letter (e.g., `MyClass`, `EmployeeRecord`).\n",
        "\n",
        "**10. Avoid Reserved Words:**\n",
        "    - Do not use Python reserved words (keywords) as variable or function names to prevent conflicts and confusion.\n",
        "\n",
        "**11. Be Mindful of Acronyms:**\n",
        "    - For acronyms or initialisms, follow capitalization rules. For example, `HTTPServer`, `getUserData`, `XMLParser`.\n",
        "\n",
        "**12. Document Your Code:**\n",
        "    - Include docstrings for functions and modules to provide context and usage information.\n",
        "\n",
        "**13. Refactor When Necessary:**\n",
        "    - If you realize that a function or variable name is unclear or misleading, don't hesitate to refactor and choose a better name.\n",
        "\n",
        "By following these best practices, you can make your Python code more readable and maintainable, and it will be easier for you and other developers to understand and work with the codebase.\n",
        "\n"
      ],
      "metadata": {
        "id": "463oXrRThhoY"
      }
    }
  ]
}