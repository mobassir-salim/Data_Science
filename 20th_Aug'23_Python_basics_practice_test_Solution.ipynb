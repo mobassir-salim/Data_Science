{
  "nbformat": 4,
  "nbformat_minor": 0,
  "metadata": {
    "colab": {
      "provenance": [],
      "authorship_tag": "ABX9TyNHNYPEIpPcGo2TYG2qEBaL",
      "include_colab_link": true
    },
    "kernelspec": {
      "name": "python3",
      "display_name": "Python 3"
    },
    "language_info": {
      "name": "python"
    }
  },
  "cells": [
    {
      "cell_type": "markdown",
      "metadata": {
        "id": "view-in-github",
        "colab_type": "text"
      },
      "source": [
        "<a href=\"https://colab.research.google.com/github/mobassir-salim/Data_Science/blob/main/20th_Aug'23_Python_basics_practice_test_Solution.ipynb\" target=\"_parent\"><img src=\"https://colab.research.google.com/assets/colab-badge.svg\" alt=\"Open In Colab\"/></a>"
      ]
    },
    {
      "cell_type": "markdown",
      "source": [
        "# TOPIC: String Based Assignment Problem"
      ],
      "metadata": {
        "id": "OHi4R-YHURje"
      }
    },
    {
      "cell_type": "markdown",
      "source": [
        "1. Write a program to reverse a string."
      ],
      "metadata": {
        "id": "bthc_NyqUc7L"
      }
    },
    {
      "cell_type": "code",
      "execution_count": null,
      "metadata": {
        "colab": {
          "base_uri": "https://localhost:8080/"
        },
        "id": "CmjIlqTEUKyz",
        "outputId": "77057bac-0576-48b5-ee49-08bb6607d905"
      },
      "outputs": [
        {
          "output_type": "stream",
          "name": "stdout",
          "text": [
            "qwerty\n",
            "ytrewq\n"
          ]
        }
      ],
      "source": [
        "str = input()\n",
        "rev_str = str[::-1]\n",
        "\n",
        "print(rev_str)"
      ]
    },
    {
      "cell_type": "markdown",
      "source": [
        "2. Check if a string is a palindrome.\n"
      ],
      "metadata": {
        "id": "oFJZWPhYVEVR"
      }
    },
    {
      "cell_type": "code",
      "source": [
        " ## Taking input from the user\n",
        "\n",
        "User_string = input(\"Enter the string \")\n",
        "\n",
        "## Reversing the string\n",
        "\n",
        "rev_str = User_string[::-1]\n",
        "\n",
        "## Lower case\n",
        "\n",
        "User_string_lower = User_string.lower()\n",
        "rev_str_lower = rev_str.lower()\n",
        "\n",
        "## checking if it is a palindrome\n",
        "\n",
        "if rev_str_lower == User_string_lower:\n",
        "  print(rev_str)\n",
        "  print(\"The string is a palindrome.\")\n",
        "\n",
        "else:\n",
        "  print(\"The string is not a palindrome.\")\n"
      ],
      "metadata": {
        "colab": {
          "base_uri": "https://localhost:8080/"
        },
        "id": "tsEVr11IUTeQ",
        "outputId": "3c807423-9b92-4fcc-f2a0-e026fd9b7e3a"
      },
      "execution_count": null,
      "outputs": [
        {
          "output_type": "stream",
          "name": "stdout",
          "text": [
            "Enter the string ala\n",
            "ala\n",
            "The string is a palindrome.\n"
          ]
        }
      ]
    },
    {
      "cell_type": "markdown",
      "source": [
        "3. Convert a string to uppercase.\n"
      ],
      "metadata": {
        "id": "32ilsMD_V70F"
      }
    },
    {
      "cell_type": "code",
      "source": [
        " ## Taking input from the user\n",
        "\n",
        "user_string = input(\"Enter the string \")\n",
        "str_upper = user_string.upper()\n",
        "\n",
        "print(str_upper)"
      ],
      "metadata": {
        "colab": {
          "base_uri": "https://localhost:8080/"
        },
        "id": "SQXX6wpKUTjY",
        "outputId": "5635506b-217f-4e05-dca9-f57780b72b49"
      },
      "execution_count": null,
      "outputs": [
        {
          "output_type": "stream",
          "name": "stdout",
          "text": [
            "Enter the string jkgssgdyHUHUI\n",
            "JKGSSGDYHUHUI\n"
          ]
        }
      ]
    },
    {
      "cell_type": "markdown",
      "source": [
        "4. Convert a string to lowercase."
      ],
      "metadata": {
        "id": "Qz7-LpQCWh0s"
      }
    },
    {
      "cell_type": "code",
      "source": [
        " ## Taking input from the user\n",
        "\n",
        "user_string4 = input(\"Enter the string \")\n",
        "str_lower = user_string4.lower()\n",
        "\n",
        "print(str_lower)"
      ],
      "metadata": {
        "colab": {
          "base_uri": "https://localhost:8080/"
        },
        "id": "WV1nPmQ2UTph",
        "outputId": "9cacede5-b08e-4c8d-f6d4-49df15b74587"
      },
      "execution_count": null,
      "outputs": [
        {
          "output_type": "stream",
          "name": "stdout",
          "text": [
            "Enter the string D.JBJLDHSBCHSJG\n",
            "d.jbjldhsbchsjg\n"
          ]
        }
      ]
    },
    {
      "cell_type": "markdown",
      "source": [
        "5. Count the number of vowels in a string."
      ],
      "metadata": {
        "id": "Wl4bcFhLWuYI"
      }
    },
    {
      "cell_type": "code",
      "source": [
        " ## Taking input from the user\n",
        "\n",
        "str5 = input(\"Enter the Sentence \")\n",
        "\n",
        "str5 = str5.lower()\n",
        "\n",
        "vowel = ['a', 'e', 'i', 'o', 'u']\n",
        "\n",
        "vowel_count = 0\n",
        "\n",
        "for i in str5:\n",
        "  if i in vowel:\n",
        "    vowel_count += 1\n",
        "\n",
        "print(\"Number of vowels (a, e, i, o, u) in the string: \",vowel_count)"
      ],
      "metadata": {
        "colab": {
          "base_uri": "https://localhost:8080/"
        },
        "id": "TgwZYU-EUTul",
        "outputId": "e30a935a-a30f-438d-a82a-bb0609a96b80"
      },
      "execution_count": null,
      "outputs": [
        {
          "output_type": "stream",
          "name": "stdout",
          "text": [
            "Enter the Sentence jhvvk\n",
            "Number of vowels (a, e, i, o, u) in the string:  0\n"
          ]
        }
      ]
    },
    {
      "cell_type": "markdown",
      "source": [
        "6. Count the number of consonants in a string."
      ],
      "metadata": {
        "id": "KYtnlviDX06m"
      }
    },
    {
      "cell_type": "code",
      "source": [
        " ## Taking input from the user\n",
        "\n",
        "str6 = input(\"Enter the Sentence \")\n",
        "\n",
        "str6 = str6.lower()\n",
        "\n",
        "Consonants = \"bcdfghjklmnpqrstvwxyzBCDFGHJKLMNPQRSTVWXYZ\"\n",
        "\n",
        "cons_count = 0\n",
        "\n",
        "\n",
        "for i in str6:\n",
        "  if i in Consonants:\n",
        "    cons_count += 1\n",
        "\n",
        "print(\"Number of consonants in the string: \",cons_count)"
      ],
      "metadata": {
        "colab": {
          "base_uri": "https://localhost:8080/"
        },
        "id": "Mx7B7kAHUTy6",
        "outputId": "1a3facb6-a072-45fe-f435-05c81cb43ebd"
      },
      "execution_count": null,
      "outputs": [
        {
          "output_type": "stream",
          "name": "stdout",
          "text": [
            "Enter the Sentence Consonants\n",
            "Number of consonants in the string:  7\n"
          ]
        }
      ]
    },
    {
      "cell_type": "markdown",
      "source": [
        "7. Remove all whitespaces from a string."
      ],
      "metadata": {
        "id": "HpmnRuNBadJK"
      }
    },
    {
      "cell_type": "code",
      "source": [
        " ## Taking input from the user\n",
        "\n",
        "user_string7 = input(\"Enter the string \")\n",
        "\n",
        "## Removing the spaces\n",
        "\n",
        "user_string7 = user_string7.replace(\" \", \"\")\n",
        "\n",
        "## Displaying the result\n",
        "\n",
        "print(user_string7)"
      ],
      "metadata": {
        "colab": {
          "base_uri": "https://localhost:8080/"
        },
        "id": "tt86OcW_UT3k",
        "outputId": "8b72f584-209c-4bc6-c187-95edd62a4835"
      },
      "execution_count": null,
      "outputs": [
        {
          "output_type": "stream",
          "name": "stdout",
          "text": [
            "Enter the string dsjfg            liusgfesi                    gfuE\n",
            "dsjfgliusgfesigfuE\n"
          ]
        }
      ]
    },
    {
      "cell_type": "markdown",
      "source": [
        "8. Find the length of a string without using the `len()` function."
      ],
      "metadata": {
        "id": "rhJDQWCVP2CO"
      }
    },
    {
      "cell_type": "code",
      "source": [
        " ## Taking input from the user\n",
        "\n",
        "user_string8 = input(\"Enter the string \")\n",
        "\n",
        "count = 0\n",
        "\n",
        "for i in user_string8:\n",
        "  count += 1\n",
        "\n",
        "\n",
        "print(\"Length of the string without using the len() function: \", count)\n"
      ],
      "metadata": {
        "colab": {
          "base_uri": "https://localhost:8080/"
        },
        "id": "YNi_sM1uUT8n",
        "outputId": "7bdc6510-bc4a-4ea6-a9cd-37cf719fad10"
      },
      "execution_count": null,
      "outputs": [
        {
          "output_type": "stream",
          "name": "stdout",
          "text": [
            "Enter the string qwertyuiop\n",
            "Length of the string without using the len() function:  10\n"
          ]
        }
      ]
    },
    {
      "cell_type": "markdown",
      "source": [
        "9. Check if a string contains a specific word."
      ],
      "metadata": {
        "id": "XQjZBCOVRhZC"
      }
    },
    {
      "cell_type": "code",
      "source": [
        "def subStringCheck(str9, sub_str9):\n",
        "\n",
        "# Making the strings case insensitive\n",
        "\n",
        "  str9 = str9.lower() # Lower Case\n",
        "  sub_str9 = sub_str9.lower() # Lower case\n",
        "\n",
        "# Checking if the string contains the specific word!\n",
        "\n",
        "  for i in range(0, len(str9)):\n",
        "    if str9[i:i+len(sub_str9)] == sub_str9:\n",
        "      return True\n",
        "      break # Breaking the loop once it finds the first contained word\n",
        "    else:\n",
        "      return \"String not found\"\n",
        "\n",
        "subStringCheck(\"Hi how are you Hi !\", \"hIhi\")"
      ],
      "metadata": {
        "colab": {
          "base_uri": "https://localhost:8080/",
          "height": 35
        },
        "id": "jegkb_5AUUBj",
        "outputId": "4a0ce343-ea91-49f4-fa6f-0211f413d47b"
      },
      "execution_count": null,
      "outputs": [
        {
          "output_type": "execute_result",
          "data": {
            "text/plain": [
              "'String not found'"
            ],
            "application/vnd.google.colaboratory.intrinsic+json": {
              "type": "string"
            }
          },
          "metadata": {},
          "execution_count": 23
        }
      ]
    },
    {
      "cell_type": "markdown",
      "source": [
        "10. Replace a word in a string with another word."
      ],
      "metadata": {
        "id": "xXbspwPEUM4c"
      }
    },
    {
      "cell_type": "code",
      "source": [
        "string10 = \"PhysicsWallahSkills\"\n",
        "\n",
        "rep_str = string10.replace(\"Physics\", \"Chemistry\")\n",
        "\n",
        "print(rep_str)\n"
      ],
      "metadata": {
        "colab": {
          "base_uri": "https://localhost:8080/"
        },
        "id": "P9trMkSGUUGb",
        "outputId": "a3d5fcc4-a724-4e68-c9d2-a0ef5a52b024"
      },
      "execution_count": null,
      "outputs": [
        {
          "output_type": "stream",
          "name": "stdout",
          "text": [
            "ChemistryWallahSkills\n"
          ]
        }
      ]
    },
    {
      "cell_type": "code",
      "source": [
        "def str_replace(s, r, n):\n",
        "  # s : Original String\n",
        "  # r : Substring to be replced\n",
        "  # n : r to be replaced with\n",
        "  return s.replace(r, n)\n",
        "\n",
        "str_replace(\"PhysicsWallahSkills\", \"Physics\", \"Chemistry\")\n"
      ],
      "metadata": {
        "colab": {
          "base_uri": "https://localhost:8080/",
          "height": 35
        },
        "id": "vXtgt9a4UULk",
        "outputId": "bcc75748-e459-497b-8cb0-878e732dbb0b"
      },
      "execution_count": null,
      "outputs": [
        {
          "output_type": "execute_result",
          "data": {
            "text/plain": [
              "'ChemistryWallahSkills'"
            ],
            "application/vnd.google.colaboratory.intrinsic+json": {
              "type": "string"
            }
          },
          "metadata": {},
          "execution_count": 13
        }
      ]
    },
    {
      "cell_type": "markdown",
      "source": [
        "11. Count the occurrences of a word in a string.\n"
      ],
      "metadata": {
        "id": "iwkaq49ZVsBr"
      }
    },
    {
      "cell_type": "code",
      "source": [
        "string11 = \"abcdcdcdcab\"\n",
        "sub_string11 = \"cdc\"\n",
        "Sub_str_len = len(sub_string11)\n",
        "\n",
        "count = 0\n",
        "\n",
        "for i in range(0, len(string11)):\n",
        "  if string11[i:i+Sub_str_len] == sub_string11:\n",
        "    count += 1\n",
        "\n",
        "print(count)"
      ],
      "metadata": {
        "colab": {
          "base_uri": "https://localhost:8080/"
        },
        "id": "JVI8J5TnVsrh",
        "outputId": "cf17846e-8abc-4712-8424-dcbb2746d0e0"
      },
      "execution_count": null,
      "outputs": [
        {
          "output_type": "stream",
          "name": "stdout",
          "text": [
            "3\n"
          ]
        }
      ]
    },
    {
      "cell_type": "markdown",
      "source": [
        "12. Find the first occurrence of a word in a string."
      ],
      "metadata": {
        "id": "2bOyKzYefXZX"
      }
    },
    {
      "cell_type": "code",
      "source": [
        "Str12 = \"This is the Data Science Pro batch one!\"\n",
        "\n",
        "x = Str12.find(\"Data\") # returns the index number as soon as it finds the string\n",
        "\n",
        "# Displaying the Index\n",
        "print(\"first occurrence of a word in a string (Index): \" , x)"
      ],
      "metadata": {
        "colab": {
          "base_uri": "https://localhost:8080/"
        },
        "id": "QuKjNg7aVsvL",
        "outputId": "17647252-a410-4b83-b794-c755a9b33f55"
      },
      "execution_count": null,
      "outputs": [
        {
          "output_type": "stream",
          "name": "stdout",
          "text": [
            "first occurrence of a word in a string (Index):  12\n"
          ]
        }
      ]
    },
    {
      "cell_type": "markdown",
      "source": [
        "13. Find the last occurrence of a word in a string."
      ],
      "metadata": {
        "id": "VGQcdiTTgPPd"
      }
    },
    {
      "cell_type": "code",
      "source": [
        "Str13 = \"This is the Data Science Pro batch one. The session of the Data Science batch is taken by Subh sir!\"\n",
        "sub_str13 = \"Data\"\n",
        "\n",
        "str_occurrence = [] # storing the occurence of the word in list form\n",
        "\n",
        "for i in range(0, len(Str13)):\n",
        "  if Str13[i:i+len(sub_str13)] == sub_str13:\n",
        "    str_occurrence.append(i + len(sub_str13)-1)\n",
        "\n",
        "\n",
        "print(\"Indexes of no. of times the word found in the string: \", str_occurrence)\n",
        "\n",
        "print(\"Index last occurrence of a word in a string: \", str_occurrence[-1])\n"
      ],
      "metadata": {
        "colab": {
          "base_uri": "https://localhost:8080/"
        },
        "id": "7KaiBEZbVs0C",
        "outputId": "3b92a8f8-9b0e-4d24-9142-6730755aff0c"
      },
      "execution_count": null,
      "outputs": [
        {
          "output_type": "stream",
          "name": "stdout",
          "text": [
            "Indexes of no. of times the word found in the string:  [15, 62]\n",
            "last occurrence of a word in a string:  62\n"
          ]
        }
      ]
    },
    {
      "cell_type": "markdown",
      "source": [
        "14. Split a string into a list of words."
      ],
      "metadata": {
        "id": "NDO7u1-YmX7l"
      }
    },
    {
      "cell_type": "code",
      "source": [
        "str14 = \"This is the Data Science Pro batch one!\"\n",
        "\n",
        "separated_str14 = str14.split(\" \") # separating the words from the String.\n",
        "\n",
        "# Displaying the result\n",
        "\n",
        "print(separated_str14)\n",
        "\n",
        "\n",
        "\n"
      ],
      "metadata": {
        "colab": {
          "base_uri": "https://localhost:8080/"
        },
        "id": "CESrK81XVs5m",
        "outputId": "38c30741-3e5a-4778-ae19-1bf1959c369c"
      },
      "execution_count": null,
      "outputs": [
        {
          "output_type": "stream",
          "name": "stdout",
          "text": [
            "['This', 'is', 'the', 'Data', 'Science', 'Pro', 'batch', 'one!']\n"
          ]
        }
      ]
    },
    {
      "cell_type": "markdown",
      "source": [
        "15. Join a list of words into a string."
      ],
      "metadata": {
        "id": "e1F4Kv7uobK3"
      }
    },
    {
      "cell_type": "code",
      "source": [
        "words_list = ['This', 'is', 'the', 'Data', 'Science', 'Pro', 'batch', 'one!']\n",
        "\n",
        "join_words = \" \".join(words_list) # joining the words into string separated by space.\n",
        "\n",
        "print(join_words)"
      ],
      "metadata": {
        "colab": {
          "base_uri": "https://localhost:8080/"
        },
        "id": "DyXDibWFVs9e",
        "outputId": "ce877f06-4056-42d1-9818-dbed013cf380"
      },
      "execution_count": null,
      "outputs": [
        {
          "output_type": "stream",
          "name": "stdout",
          "text": [
            "This is the Data Science Pro batch one!\n"
          ]
        }
      ]
    },
    {
      "cell_type": "markdown",
      "source": [
        "15. Alternative"
      ],
      "metadata": {
        "id": "LMvp0mmXrwgE"
      }
    },
    {
      "cell_type": "code",
      "source": [
        "words_list15 = ['This', 'is', 'the', 'Data', 'Science', 'Pro', 'batch', 'one!']\n",
        "\n",
        "join_words15 = \"\"\n",
        "\n",
        "# Joining the words using the for loop\n",
        "\n",
        "for i in words_list15:\n",
        "  join_words15 = join_words15 + i + \" \"\n",
        "\n",
        "# Displaying the result\n",
        "print(join_words15[:-1])"
      ],
      "metadata": {
        "colab": {
          "base_uri": "https://localhost:8080/"
        },
        "id": "Bagy1JhAVtCI",
        "outputId": "ca6de624-2046-44e7-d867-fcdaf9668b99"
      },
      "execution_count": null,
      "outputs": [
        {
          "output_type": "stream",
          "name": "stdout",
          "text": [
            "This is the Data Science Pro batch one!\n"
          ]
        }
      ]
    },
    {
      "cell_type": "markdown",
      "source": [
        "16. Convert a string where words are separated by spaces to one where words\n",
        "are separated by underscores."
      ],
      "metadata": {
        "id": "60Gl4FNzr-7_"
      }
    },
    {
      "cell_type": "code",
      "source": [
        "def underScoreSeparator(str16):\n",
        "  return str16.replace(\" \", \"_\")\n",
        "\n",
        "underScoreSeparator(\"This is the Data Science Pro batch one!\")"
      ],
      "metadata": {
        "colab": {
          "base_uri": "https://localhost:8080/",
          "height": 35
        },
        "id": "6xC713A8VtF6",
        "outputId": "35a513c4-a248-441d-e1ea-4ab005e1ba1a"
      },
      "execution_count": null,
      "outputs": [
        {
          "output_type": "execute_result",
          "data": {
            "text/plain": [
              "'This_is_the_Data_Science_Pro_batch_one!'"
            ],
            "application/vnd.google.colaboratory.intrinsic+json": {
              "type": "string"
            }
          },
          "metadata": {},
          "execution_count": 48
        }
      ]
    },
    {
      "cell_type": "markdown",
      "source": [
        "16. Alternative\n"
      ],
      "metadata": {
        "id": "M-7lN9d_tGoU"
      }
    },
    {
      "cell_type": "code",
      "source": [
        "Str16 = \"This is the Data Science Pro batch one!\"\n",
        "\n",
        "separated_str16 = Str16.split(\" \") # separating the words from the String.\n",
        "\n",
        "join_words16 = \"\"\n",
        "\n",
        "for i in separated_str16:\n",
        "  join_words16 = join_words16 + i + \"_\"\n",
        "\n",
        "# Displaying the result\n",
        "\n",
        "print(join_words16[:-1])"
      ],
      "metadata": {
        "colab": {
          "base_uri": "https://localhost:8080/"
        },
        "id": "PuhyrkGRVtJ0",
        "outputId": "d362b7bb-80e1-405d-c256-cede4b906fa2"
      },
      "execution_count": null,
      "outputs": [
        {
          "output_type": "stream",
          "name": "stdout",
          "text": [
            "This_is_the_Data_Science_Pro_batch_one!\n"
          ]
        }
      ]
    },
    {
      "cell_type": "markdown",
      "source": [
        "17. Check if a string starts with a specific word or phrase."
      ],
      "metadata": {
        "id": "bmOv-k3qyFHO"
      }
    },
    {
      "cell_type": "code",
      "source": [
        "def startsWith(str17, sub_str17):\n",
        "  return str17.startswith(sub_str17)\n",
        "\n",
        "startsWith(\"Hello, how are you?\", \"Hello\")"
      ],
      "metadata": {
        "id": "lTky-hRyVtNw",
        "colab": {
          "base_uri": "https://localhost:8080/"
        },
        "outputId": "be4e4aac-a9c7-4852-b0be-1fde05e83493"
      },
      "execution_count": null,
      "outputs": [
        {
          "output_type": "execute_result",
          "data": {
            "text/plain": [
              "True"
            ]
          },
          "metadata": {},
          "execution_count": 3
        }
      ]
    },
    {
      "cell_type": "markdown",
      "source": [
        "18. Check if a string ends with a specific word or phrase."
      ],
      "metadata": {
        "id": "IJgNvJQeDVEq"
      }
    },
    {
      "cell_type": "code",
      "source": [
        "def endsWith(str18, sub_str18):\n",
        "  return str18.endswith(sub_str18)\n",
        "\n",
        "endsWith(\"Hello, how are you?\", \"?\")"
      ],
      "metadata": {
        "id": "Lj9-3LRWVtSK",
        "colab": {
          "base_uri": "https://localhost:8080/"
        },
        "outputId": "3a66c590-b68d-4b0a-88dd-22cd63bbf649"
      },
      "execution_count": null,
      "outputs": [
        {
          "output_type": "execute_result",
          "data": {
            "text/plain": [
              "True"
            ]
          },
          "metadata": {},
          "execution_count": 5
        }
      ]
    },
    {
      "cell_type": "markdown",
      "source": [
        "19. Convert a string to title case (e.g., \"hello world\" to \"Hello World\")."
      ],
      "metadata": {
        "id": "w2E4pspnDyxH"
      }
    },
    {
      "cell_type": "code",
      "source": [
        "Str19 = \"hello word\"\n",
        "\n",
        "Capitalized_str19 = Str19.split(\" \")\n",
        "join_words19 = \"\"\n",
        "for i in Capitalized_str19:\n",
        "  i = i.capitalize()\n",
        "  join_words19 += i + \" \"\n",
        "\n",
        "print(join_words19[:-1])"
      ],
      "metadata": {
        "id": "Hp4UBzLcVtWY",
        "colab": {
          "base_uri": "https://localhost:8080/"
        },
        "outputId": "09fbbf51-cc00-4571-87f7-9b966a7fe48e"
      },
      "execution_count": null,
      "outputs": [
        {
          "output_type": "stream",
          "name": "stdout",
          "text": [
            "Hello Word\n"
          ]
        }
      ]
    },
    {
      "cell_type": "markdown",
      "source": [
        "Aternative 19\n"
      ],
      "metadata": {
        "id": "Ev_1eGhoUNY9"
      }
    },
    {
      "cell_type": "code",
      "source": [
        "input_str = \"hello world\"\n",
        "title_case_str = input_str.title()\n",
        "print(title_case_str)\n"
      ],
      "metadata": {
        "id": "pWHb6MpXVtbK",
        "colab": {
          "base_uri": "https://localhost:8080/"
        },
        "outputId": "269b4b3b-0600-4278-dfc7-35c0bf051710"
      },
      "execution_count": null,
      "outputs": [
        {
          "output_type": "stream",
          "name": "stdout",
          "text": [
            "Hello World\n"
          ]
        }
      ]
    },
    {
      "cell_type": "markdown",
      "source": [
        "20. Find the longest word in a string."
      ],
      "metadata": {
        "id": "aTTKA_oEUUZT"
      }
    },
    {
      "cell_type": "code",
      "source": [
        "def max_str(str20):\n",
        "  str20 = str20.split()\n",
        "  word_count = []\n",
        "\n",
        "  for i in str20:\n",
        "    word_count.append(len(i))\n",
        "  return str20[word_count.index(max(word_count))]\n",
        "\n",
        "max_str(\"This is the Data ScienceProbatch one!\")\n"
      ],
      "metadata": {
        "colab": {
          "base_uri": "https://localhost:8080/",
          "height": 35
        },
        "id": "_hi7ZTZCUZnV",
        "outputId": "29a7c787-102e-4e21-c46d-c43650d3d80a"
      },
      "execution_count": null,
      "outputs": [
        {
          "output_type": "execute_result",
          "data": {
            "text/plain": [
              "'ScienceProbatch'"
            ],
            "application/vnd.google.colaboratory.intrinsic+json": {
              "type": "string"
            }
          },
          "metadata": {},
          "execution_count": 20
        }
      ]
    },
    {
      "cell_type": "markdown",
      "source": [
        "20. Alternative"
      ],
      "metadata": {
        "id": "oK0Mgp69bQ6c"
      }
    },
    {
      "cell_type": "code",
      "source": [
        "input_str20 = \"This is the Data ScienceProbatch one!.\"\n",
        "\n",
        "# Split the input string into words using spaces as delimiters\n",
        "words = input_str20.split()\n",
        "\n",
        "# Initialize variables to keep track of the longest word and its length\n",
        "longest_word = \"\"\n",
        "max_length = 0\n",
        "\n",
        "# Iterate through the words and find the longest one\n",
        "for word in words:\n",
        "    if len(word) > max_length:\n",
        "        max_length = len(word)\n",
        "        longest_word = word\n",
        "\n",
        "# Print the longest word\n",
        "print(\"Longest word:\", longest_word)\n"
      ],
      "metadata": {
        "colab": {
          "base_uri": "https://localhost:8080/"
        },
        "id": "9VL3p4rVUZrr",
        "outputId": "fa860a96-b658-4d2d-8c68-0f177d7392f7"
      },
      "execution_count": null,
      "outputs": [
        {
          "output_type": "stream",
          "name": "stdout",
          "text": [
            "Longest word: ScienceProbatch\n"
          ]
        }
      ]
    },
    {
      "cell_type": "markdown",
      "source": [
        "21. Find the shortest word in a string."
      ],
      "metadata": {
        "id": "Xz5g5jBnks8H"
      }
    },
    {
      "cell_type": "code",
      "source": [
        "def min_word(str21):\n",
        "  str21 = str21.split()\n",
        "  min_word_count = []\n",
        "  shortest_words = []\n",
        "\n",
        "  # iterate through the words to find the indexes of the shortest words\n",
        "  for i in str21:\n",
        "    min_word_count.append(len(i))\n",
        "  indexes = [index for index, value in enumerate(min_word_count) if value == min(min_word_count)]\n",
        "  print( \"The indexes of shortest word(s) is/are: \" , indexes)\n",
        "\n",
        "  # iterate through\n",
        "  for j in indexes:\n",
        "    shortest_words.append(str21[j])\n",
        "\n",
        "  print(\"The shortest word(s) is/are: \" ,shortest_words)\n",
        "min_word(\"This is the Data Science Pro batch one!. The lectures are taken by Shubh sir op\")"
      ],
      "metadata": {
        "colab": {
          "base_uri": "https://localhost:8080/"
        },
        "id": "EYYB-4OOUZv0",
        "outputId": "778c8e1f-1426-4a19-9242-0db3d7c91d1e"
      },
      "execution_count": null,
      "outputs": [
        {
          "output_type": "stream",
          "name": "stdout",
          "text": [
            "The indexes of shortest word(s) is/are:  [1, 12, 15]\n",
            "The shortest word(s) is/are:  ['is', 'by', 'op']\n"
          ]
        }
      ]
    },
    {
      "cell_type": "markdown",
      "source": [
        "22. Reverse the order of words in a string."
      ],
      "metadata": {
        "id": "RbV0IvrMmWcq"
      }
    },
    {
      "cell_type": "code",
      "source": [
        "def reverse_str(str22):\n",
        "  return str22[::-1]\n",
        "\n",
        "reverse_str(\"Hello\")"
      ],
      "metadata": {
        "id": "gA4rLytCUZyy",
        "colab": {
          "base_uri": "https://localhost:8080/",
          "height": 35
        },
        "outputId": "7038350c-2b0e-4f52-b389-fff2e560a6a3"
      },
      "execution_count": null,
      "outputs": [
        {
          "output_type": "execute_result",
          "data": {
            "text/plain": [
              "'olleH'"
            ],
            "application/vnd.google.colaboratory.intrinsic+json": {
              "type": "string"
            }
          },
          "metadata": {},
          "execution_count": 1
        }
      ]
    },
    {
      "cell_type": "markdown",
      "source": [
        "23. Check if a string is alphanumeric.\n"
      ],
      "metadata": {
        "id": "_ZfrbvCqYAqR"
      }
    },
    {
      "cell_type": "code",
      "source": [
        "input_str23 = \"!@#\"\n",
        "\n",
        "if input_str23.isalnum():\n",
        "\n",
        "    print(\"The string is alphanumeric.\")\n",
        "else:\n",
        "    print(\"The string is not alphanumeric.\")\n",
        "\n"
      ],
      "metadata": {
        "id": "4O20FCiQUZ33",
        "colab": {
          "base_uri": "https://localhost:8080/"
        },
        "outputId": "6264c4ce-c4fe-4780-dcb8-af22798d7423"
      },
      "execution_count": null,
      "outputs": [
        {
          "output_type": "stream",
          "name": "stdout",
          "text": [
            "The string is not alphanumeric.\n"
          ]
        }
      ]
    },
    {
      "cell_type": "markdown",
      "source": [
        "24. Extract all digits from a string."
      ],
      "metadata": {
        "id": "R-Z-I-sXavhg"
      }
    },
    {
      "cell_type": "code",
      "source": [
        "def digits_extractor(str24):\n",
        "\n",
        "  # Initialize an empty string to store the extracted digits\n",
        "  digits = \"\"\n",
        "\n",
        "  # Iterate through each character in the input string\n",
        "  for char in str24:\n",
        "    if char.isdigit():\n",
        "      digits += char\n",
        "\n",
        "  print (f\"Extracted digits are {extracted_digits}\")\n",
        "\n",
        "digits_extractor(\"Hello2023!hi2024\")\n"
      ],
      "metadata": {
        "id": "QNvFibGoUZ8L",
        "colab": {
          "base_uri": "https://localhost:8080/"
        },
        "outputId": "57992922-4e3a-4d5f-90ef-1ee77009029d"
      },
      "execution_count": null,
      "outputs": [
        {
          "output_type": "stream",
          "name": "stdout",
          "text": [
            "Extracted digits are 20232024\n"
          ]
        }
      ]
    },
    {
      "cell_type": "markdown",
      "source": [
        "24. Alternative"
      ],
      "metadata": {
        "id": "MtO3mxVTeQud"
      }
    },
    {
      "cell_type": "code",
      "source": [
        "import re\n",
        "\n",
        "input_str24 = \"Hello2023!hi2024\"\n",
        "\n",
        "# Use regular expression to find all digits\n",
        "digits = re.findall(r'\\d', input_str24)\n",
        "\n",
        "# Join the digits into a single string if needed\n",
        "extracted_digits = ''.join(digits)\n",
        "\n",
        "# Print the extracted digits\n",
        "print(f\"Extracted digits are {extracted_digits}\")\n"
      ],
      "metadata": {
        "id": "BDiup2GXUaAE",
        "colab": {
          "base_uri": "https://localhost:8080/"
        },
        "outputId": "5eb705a9-a3eb-46c4-8d2b-7895a9d3ff8e"
      },
      "execution_count": null,
      "outputs": [
        {
          "output_type": "stream",
          "name": "stdout",
          "text": [
            "Extracted digits are 20232024\n"
          ]
        }
      ]
    },
    {
      "cell_type": "markdown",
      "source": [
        "25. Extract all alphabets from a string."
      ],
      "metadata": {
        "id": "RGqy-CaffGWN"
      }
    },
    {
      "cell_type": "code",
      "source": [
        "def alpha_extractor(str25):\n",
        "\n",
        "  # Initialize an empty string to store the extracted digits\n",
        "  alphabets = \"\"\n",
        "\n",
        "  # Iterate through each character in the input string\n",
        "  for char in str25:\n",
        "    if char.isalpha():\n",
        "      alphabets += char\n",
        "\n",
        "  print (f\"Extracted digits are {alphabets}\")\n",
        "\n",
        "alpha_extractor(\"Hello2023!hi2024\")"
      ],
      "metadata": {
        "id": "iGJzRQbvUaDH",
        "colab": {
          "base_uri": "https://localhost:8080/"
        },
        "outputId": "28020ac8-a09b-47f5-bed8-b2d2ed534aa3"
      },
      "execution_count": null,
      "outputs": [
        {
          "output_type": "stream",
          "name": "stdout",
          "text": [
            "Extracted digits are Hellohi\n"
          ]
        }
      ]
    },
    {
      "cell_type": "markdown",
      "source": [
        "26. Count the number of uppercase letters in a string."
      ],
      "metadata": {
        "id": "2q5YurCSf3bF"
      }
    },
    {
      "cell_type": "code",
      "source": [
        "def uppercase_counter(str26):\n",
        "\n",
        "  # Initialize the counter\n",
        "  counter = 0\n",
        "\n",
        "  # Iterate through each character in the input string\n",
        "  for i in str26:\n",
        "    if i.isupper():\n",
        "      counter += 1\n",
        "\n",
        "  # Displaying the result\n",
        "  print(f\"The number of uppercase letters in the string are {counter}.\")\n",
        "\n",
        "uppercase_counter(\"HelLo2023HOwAreYou!\")\n"
      ],
      "metadata": {
        "id": "m5hGjGVfUaGr",
        "colab": {
          "base_uri": "https://localhost:8080/"
        },
        "outputId": "b444c4d3-38fb-460f-ae5b-53c627a12943"
      },
      "execution_count": null,
      "outputs": [
        {
          "output_type": "stream",
          "name": "stdout",
          "text": [
            "The number of uppercase letters in the string are 6.\n"
          ]
        }
      ]
    },
    {
      "cell_type": "markdown",
      "source": [
        "27. Count the number of lowercase letters in a string."
      ],
      "metadata": {
        "id": "Oo78bWt7hULK"
      }
    },
    {
      "cell_type": "code",
      "source": [
        "def lowercase_counter(str27):\n",
        "\n",
        "  # Initialize the counter\n",
        "  low_counter = 0\n",
        "\n",
        "  # Iterate through each character in the input string\n",
        "  for i in str27:\n",
        "    if i.islower():\n",
        "      low_counter += 1\n",
        "\n",
        "  # Displaying the result\n",
        "  print(f\"The number of lowercase letters in the string are {low_counter}.\")\n",
        "\n",
        "lowercase_counter(\"HelLo2023HOwAreYou!\")"
      ],
      "metadata": {
        "id": "Z_fkrqBsUaJt",
        "colab": {
          "base_uri": "https://localhost:8080/"
        },
        "outputId": "7405c9e0-a94c-4ffa-de78-d45ffd804a37"
      },
      "execution_count": null,
      "outputs": [
        {
          "output_type": "stream",
          "name": "stdout",
          "text": [
            "The number of uppercase letters in the string are 8.\n"
          ]
        }
      ]
    },
    {
      "cell_type": "markdown",
      "source": [
        "28. Swap the case of each character in a string."
      ],
      "metadata": {
        "id": "GgCPsV_-hwXh"
      }
    },
    {
      "cell_type": "code",
      "source": [
        "str28 = \"HelLo2023HOwAreYou!\"\n",
        "\n",
        "# Swapping the case\n",
        "x = str28.swapcase()\n",
        "\n",
        "# Displaying the result\n",
        "print(x)"
      ],
      "metadata": {
        "id": "98Ms3TA2UaNR",
        "colab": {
          "base_uri": "https://localhost:8080/"
        },
        "outputId": "7761c7d4-a96a-4a5e-c672-7fd630d4b17c"
      },
      "execution_count": null,
      "outputs": [
        {
          "output_type": "stream",
          "name": "stdout",
          "text": [
            "hELlO2023hoWaREyOU!\n"
          ]
        }
      ]
    },
    {
      "cell_type": "markdown",
      "source": [
        "28. Alternative"
      ],
      "metadata": {
        "id": "JuJgprQEigpn"
      }
    },
    {
      "cell_type": "code",
      "source": [
        "user_str28 = \"HelLo2023HOwAreYou!\"\n",
        "\n",
        "# initializing the empty list to store the characters\n",
        "x = []\n",
        "\n",
        "for i in user_str28:\n",
        "  if i.isupper():\n",
        "    x.append(i.lower())\n",
        "\n",
        "  else:\n",
        "    x.append(i.upper())\n",
        "\n",
        "# Joining the characters\n",
        "y = ''.join(x)\n",
        "\n",
        "# Displaying the result\n",
        "print(y)"
      ],
      "metadata": {
        "id": "Ryd240svUaRV",
        "colab": {
          "base_uri": "https://localhost:8080/"
        },
        "outputId": "e9d94c23-e063-4d69-a068-1c5379c7bb85"
      },
      "execution_count": null,
      "outputs": [
        {
          "output_type": "stream",
          "name": "stdout",
          "text": [
            "hELlO2023hoWaREyOU!\n"
          ]
        }
      ]
    },
    {
      "cell_type": "markdown",
      "source": [
        "29. Remove a specific word from a string."
      ],
      "metadata": {
        "id": "1XR9TOBokhl6"
      }
    },
    {
      "cell_type": "code",
      "source": [
        "def word_remover(str29, word_rem):\n",
        "  return str29.replace(word_rem, '')\n",
        "\n",
        "word_remover(\"Hello How Are You!\", 'e')"
      ],
      "metadata": {
        "id": "nHbEz9KlUaVP",
        "colab": {
          "base_uri": "https://localhost:8080/",
          "height": 35
        },
        "outputId": "7d7bc390-5e98-4d0d-bce4-94a4d6087aa2"
      },
      "execution_count": null,
      "outputs": [
        {
          "output_type": "execute_result",
          "data": {
            "text/plain": [
              "'Hllo How Ar You!'"
            ],
            "application/vnd.google.colaboratory.intrinsic+json": {
              "type": "string"
            }
          },
          "metadata": {},
          "execution_count": 49
        }
      ]
    },
    {
      "cell_type": "markdown",
      "source": [
        "30. Check if a string is a valid email address."
      ],
      "metadata": {
        "id": "UZNidmOmlmHh"
      }
    },
    {
      "cell_type": "code",
      "source": [
        "\n",
        "def is_valid_email(email):\n",
        "    # Check for the \"@\" symbol\n",
        "    if \"@\" not in email:\n",
        "        return False\n",
        "\n",
        "    # Split the email address into username and domain parts\n",
        "    username, domain = email.split(\"@\")\n",
        "\n",
        "    # Check if the username and domain are not empty\n",
        "    if not username or not domain:\n",
        "        return False\n",
        "\n",
        "    # Check for valid characters in the username and domain\n",
        "    valid_username_chars = \"abcdefghijklmnopqrstuvwxyzABCDEFGHIJKLMNOPQRSTUVWXYZ0123456789._\"\n",
        "    valid_domain_chars = \"abcdefghijklmnopqrstuvwxyzABCDEFGHIJKLMNOPQRSTUVWXYZ0123456789.-\"\n",
        "\n",
        "\n",
        "     # Check for valid characters in the username and domain\n",
        "\n",
        "    for i in username:\n",
        "      if i not in valid_username_chars:\n",
        "        return False\n",
        "\n",
        "    for i in domain:\n",
        "      if i not in valid_domain_chars:\n",
        "        return False\n",
        "\n",
        "    # Check for at least one period (.) in the domain part\n",
        "    if \".\" not in domain:\n",
        "        return False\n",
        "\n",
        "     # check the\n",
        "    last_dot_index = domain.rfind(\".\")\n",
        "    if len(domain) - last_dot_index -1 > 3:\n",
        "        return False\n",
        "\n",
        "    return True\n",
        "\n",
        "# Test cases\n",
        "email1 = \"user@example.com\"\n",
        "email2 = \"@invalid-email\"\n",
        "email3 = \"no@ats.ign.com\"\n",
        "\n",
        "print(\"Email 1 is valid:\", is_valid_email(email1))\n",
        "print(\"Email 2 is valid:\", is_valid_email(email2))\n",
        "print(\"Email 3 is valid:\", is_valid_email(email3))\n"
      ],
      "metadata": {
        "id": "Gf5a712fUaYr",
        "colab": {
          "base_uri": "https://localhost:8080/"
        },
        "outputId": "7b0bd1f0-9230-4ca9-e7b8-948ace218358"
      },
      "execution_count": null,
      "outputs": [
        {
          "output_type": "stream",
          "name": "stdout",
          "text": [
            "Email 1 is valid: True\n",
            "Email 2 is valid: False\n",
            "Email 3 is valid: True\n"
          ]
        }
      ]
    },
    {
      "cell_type": "markdown",
      "source": [
        "31. Extract the username from an email address string.\n"
      ],
      "metadata": {
        "id": "h9vjUnptcLsg"
      }
    },
    {
      "cell_type": "code",
      "source": [
        "## this code for extracting username can be applied after checking the validity of an email from above code\n",
        "\n",
        "def username(email31):\n",
        "  username31, domain31 = email31.split(\"@\")\n",
        "  return username31\n",
        "\n",
        "mail = \"user_name@example.com\"\n",
        "\n",
        "print(\"Username: \", username(mail))\n"
      ],
      "metadata": {
        "colab": {
          "base_uri": "https://localhost:8080/"
        },
        "id": "rCNeBeJccRb8",
        "outputId": "7c7326f7-43d1-416e-dd40-6397c9e58a08"
      },
      "execution_count": null,
      "outputs": [
        {
          "output_type": "stream",
          "name": "stdout",
          "text": [
            "Username:  user_name\n"
          ]
        }
      ]
    },
    {
      "cell_type": "markdown",
      "source": [
        "32. Extract the domain name from an email address string."
      ],
      "metadata": {
        "id": "PyDBp6qfcL8s"
      }
    },
    {
      "cell_type": "code",
      "source": [
        "## this code for extracting domainname can be applied after checking the validity of an email from above code\n",
        "\n",
        "def domain(email32):\n",
        "  username32, domain32 = email32.split(\"@\")\n",
        "  return domain32\n",
        "\n",
        "mail = \"user_name@example.com\"\n",
        "\n",
        "print(\"Username: \", domain(mail))"
      ],
      "metadata": {
        "id": "453FewMLcSXY",
        "colab": {
          "base_uri": "https://localhost:8080/"
        },
        "outputId": "b66ba3b8-0ca7-4dd4-f0f8-d6ba73de6735"
      },
      "execution_count": null,
      "outputs": [
        {
          "output_type": "stream",
          "name": "stdout",
          "text": [
            "Username:  example.com\n"
          ]
        }
      ]
    },
    {
      "cell_type": "markdown",
      "source": [
        "33. Replace multiple spaces in a string with a single space."
      ],
      "metadata": {
        "id": "sZgMZKMpcMJh"
      }
    },
    {
      "cell_type": "code",
      "source": [
        "multi_space_str = \"This    is    a    string    with   multiple   spaces.\"\n",
        "\n",
        "## stimming the starting and trailing spaces\n",
        "strip_multi_space_str = multi_space_str.strip()\n",
        "\n",
        "# Initiating a while loop to replace the multi-spaces with single spaces\n",
        "\n",
        "a = 1\n",
        "while a < len(multi_space_str):\n",
        "\n",
        "  strip_multi_space_str = strip_multi_space_str.replace(\"  \", \" \")\n",
        "  a += 1\n",
        "\n",
        "## Displaying the result\n",
        "\n",
        "print(strip_multi_space_str)"
      ],
      "metadata": {
        "colab": {
          "base_uri": "https://localhost:8080/"
        },
        "id": "7veOCoZCdn2M",
        "outputId": "9b72904f-3ba1-4adb-860c-98116dd03826"
      },
      "execution_count": null,
      "outputs": [
        {
          "output_type": "stream",
          "name": "stdout",
          "text": [
            "This is a string with multiple spaces.\n"
          ]
        }
      ]
    },
    {
      "cell_type": "markdown",
      "source": [
        "34. Check if a string is a valid URL."
      ],
      "metadata": {
        "id": "ZBZ80Ml6g3x-"
      }
    },
    {
      "cell_type": "markdown",
      "source": [
        "![image.png](data:image/png;base64,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)"
      ],
      "metadata": {
        "id": "rsO15_lVr1LD"
      }
    },
    {
      "cell_type": "code",
      "source": [
        "def is_valid_url(url):\n",
        "    # Check if the URL starts with a valid scheme\n",
        "    valid_schemes = [\"http://\", \"https://\"]\n",
        "    for i in valid_schemes:\n",
        "        if url.startswith(i):\n",
        "            # Remove the scheme part\n",
        "            url = url[len(i):]\n",
        "            break\n",
        "    else:\n",
        "        # No valid scheme found\n",
        "      return False\n",
        "\n",
        "    # Check if the remaining URL contains valid characters\n",
        "    valid_chars = \"abcdefghijklmnopqrstuvwxyzABCDEFGHIJKLMNOPQRSTUVWXYZ0123456789-._~:/?#[]@!$&'()*+,;=\"\n",
        "    for i in url:\n",
        "      if i not in valid_chars:\n",
        "        return False\n",
        "\n",
        "    #return True\n",
        "\n",
        "\n",
        "\n",
        "    return True\n",
        "\n",
        "# Test cases\n",
        "url1 = \"https://www.example.com\"\n",
        "url2 = \"invalid-url\"\n",
        "url3 = \"ftp://ftp.example.com\"\n",
        "url4 = \"http://\"\n",
        "url5 = \"https://www.example.com/\"\n",
        "\n",
        "print(\"URL 1 is valid:\", is_valid_url(url1))\n",
        "print(\"URL 2 is valid:\", is_valid_url(url2))\n",
        "print(\"URL 3 is valid:\", is_valid_url(url3))\n",
        "print(\"URL 4 is valid:\", is_valid_url(url4))\n",
        "print(\"URL 5 is valid:\", is_valid_url(url5))\n"
      ],
      "metadata": {
        "colab": {
          "base_uri": "https://localhost:8080/"
        },
        "id": "mIut2Rcpg08C",
        "outputId": "a5e60b49-bfe6-41bf-ebb1-7c2a275de7b3"
      },
      "execution_count": null,
      "outputs": [
        {
          "output_type": "stream",
          "name": "stdout",
          "text": [
            "URL 1 is valid: True\n",
            "URL 2 is valid: False\n",
            "URL 3 is valid: False\n",
            "URL 4 is valid: True\n",
            "URL 5 is valid: True\n"
          ]
        }
      ]
    },
    {
      "cell_type": "markdown",
      "source": [
        "35. Extract the protocol (http or https) from a URL string."
      ],
      "metadata": {
        "id": "5SP2KJUc1cVm"
      }
    },
    {
      "cell_type": "code",
      "source": [
        "# check if the URL is valid or not from above code\n",
        "\n",
        "def scheme_scrap(valid_url):\n",
        "  val_schemes = [\"http://\", \"https://\"]\n",
        "  for i in val_schemes:\n",
        "    if valid_url.startswith(i):\n",
        "      scheme = valid_url[:len(i)-3]\n",
        "      return scheme\n",
        "  #return \"Not a valid email\"\n",
        "val_url1 = \"https://www.example.com\"\n",
        "val_url2 = \"http://www.google.com\"\n",
        "val_url3 = \"ftp://ftp.example.com\"\n",
        "\n",
        "print(scheme_scrap(val_url1))\n",
        "print(scheme_scrap(val_url2))\n",
        "print(scheme_scrap(val_url3))"
      ],
      "metadata": {
        "colab": {
          "base_uri": "https://localhost:8080/"
        },
        "id": "Qb1E2g_l1a3L",
        "outputId": "20a1c9dc-db44-40c5-831b-5151d5b637a5"
      },
      "execution_count": null,
      "outputs": [
        {
          "output_type": "stream",
          "name": "stdout",
          "text": [
            "https\n",
            "http\n",
            "None\n"
          ]
        }
      ]
    },
    {
      "cell_type": "markdown",
      "source": [
        "36. Find the frequency of each character in a string."
      ],
      "metadata": {
        "id": "eJeTwyhydkpG"
      }
    },
    {
      "cell_type": "code",
      "source": [
        "def char_frequency(str36, char):\n",
        "  return str36.count(char)\n",
        "\n",
        "str36 = \"Hello everyone! How are you! This is Data Science Pro Batch\"\n",
        "char = \"e\"\n",
        "\n",
        "print(f'The frequency of the Character {char} is: ', char_frequency(str36, char))\n"
      ],
      "metadata": {
        "colab": {
          "base_uri": "https://localhost:8080/"
        },
        "id": "Jyq93resD4fG",
        "outputId": "25d99a5e-b36a-4280-e4bf-84081c286d47"
      },
      "execution_count": null,
      "outputs": [
        {
          "output_type": "stream",
          "name": "stdout",
          "text": [
            "The frequency of the Character e is:  7\n"
          ]
        }
      ]
    },
    {
      "cell_type": "markdown",
      "source": [
        "37. Remove all punctuation from a string."
      ],
      "metadata": {
        "id": "kfrz_ilecMbD"
      }
    },
    {
      "cell_type": "code",
      "source": [
        "punctuation = \"!\\\"#$%&'()*+,-./:;<=>?@[\\]^_`{|}~\"\n",
        "\n",
        "str37 = \"Hello everyone!, How are you? all good, This is Data Science Pro Batch.\"\n",
        "\n",
        "# checking and removing the puncuations\n",
        "for i in str37:\n",
        "  if i in punctuation:\n",
        "    str37 = str37.replace(i, \"\")\n",
        "\n",
        "## Displaying the result after removing the punctuations\n",
        "print(str37)\n"
      ],
      "metadata": {
        "colab": {
          "base_uri": "https://localhost:8080/"
        },
        "id": "YZi-aOpSGHb6",
        "outputId": "f17adc94-0936-4c62-c55e-c3ed183ef02b"
      },
      "execution_count": null,
      "outputs": [
        {
          "output_type": "stream",
          "name": "stdout",
          "text": [
            "Hello everyone How are you all good This is Data Science Pro Batch\n"
          ]
        }
      ]
    },
    {
      "cell_type": "markdown",
      "source": [
        "37. Alternative"
      ],
      "metadata": {
        "id": "AybTIb0fcMnF"
      }
    },
    {
      "cell_type": "code",
      "source": [
        "import string\n",
        "# Storing the sets of punctuation in variable result\n",
        "result = string.punctuation\n",
        "str37a = \"Hello everyone!, How are you? all good, This is Data Science Pro Batch.\"\n",
        "\n",
        "# checking and removing the puncuations\n",
        "for i in str37a:\n",
        "  if i in result:\n",
        "    str37a = str37a.replace(i, \"\")\n",
        "\n",
        "## Displaying the result after removing the punctuations\n",
        "print(str37a)\n"
      ],
      "metadata": {
        "colab": {
          "base_uri": "https://localhost:8080/"
        },
        "id": "esGgNRZHJ9TJ",
        "outputId": "a7430190-2882-4aa7-c1d7-e8f2803b8244"
      },
      "execution_count": null,
      "outputs": [
        {
          "output_type": "stream",
          "name": "stdout",
          "text": [
            "Hello everyone How are you all good This is Data Science Pro Batch\n"
          ]
        }
      ]
    },
    {
      "cell_type": "markdown",
      "source": [
        "38. Check if a string contains only digits."
      ],
      "metadata": {
        "id": "Zo-bjNTacMxc"
      }
    },
    {
      "cell_type": "code",
      "source": [
        "def all_digit_str(str38):\n",
        "  return str38.isdigit()\n",
        "## test cases\n",
        "\n",
        "test1 = \"1234567890\"\n",
        "test2 = \"qwertyuiop\"\n",
        "test3 = \"abcdef123456\"\n",
        "print(all_digit_str(test1))\n",
        "print(all_digit_str(test2))\n",
        "print(all_digit_str(test3))"
      ],
      "metadata": {
        "colab": {
          "base_uri": "https://localhost:8080/"
        },
        "id": "f-yr58M0LIJA",
        "outputId": "71fb9684-70c9-46f2-fce7-4b2060d81a8c"
      },
      "execution_count": null,
      "outputs": [
        {
          "output_type": "stream",
          "name": "stdout",
          "text": [
            "True\n",
            "False\n",
            "False\n"
          ]
        }
      ]
    },
    {
      "cell_type": "markdown",
      "source": [
        "39. Check if a string contains only alphabets."
      ],
      "metadata": {
        "id": "gOr0vS4gMYjp"
      }
    },
    {
      "cell_type": "code",
      "source": [
        "def all_alpha_str(str39):\n",
        "  return str39.isalpha()\n",
        "## test cases\n",
        "\n",
        "test1 = \"1234567890\"\n",
        "test2 = \"qwertyuiop\"\n",
        "test3 = \"abcdef123456\"\n",
        "print(all_alpha_str(test1))\n",
        "print(all_alpha_str(test2))\n",
        "print(all_alpha_str(test3))"
      ],
      "metadata": {
        "colab": {
          "base_uri": "https://localhost:8080/"
        },
        "id": "m78h5rS1LIWg",
        "outputId": "57e2bf80-cf9b-4da1-c44d-8fb2ab684c8f"
      },
      "execution_count": null,
      "outputs": [
        {
          "output_type": "stream",
          "name": "stdout",
          "text": [
            "False\n",
            "True\n",
            "False\n"
          ]
        }
      ]
    },
    {
      "cell_type": "markdown",
      "source": [
        "40. Convert a string to a list of characters."
      ],
      "metadata": {
        "id": "la6UK5ShPDgn"
      }
    },
    {
      "cell_type": "code",
      "source": [
        "str40 = \"Hello World!\"\n",
        "\n",
        "# Removing the spaces\n",
        "str40 = str40.replace(\" \", \"\")\n",
        "\n",
        "# initialising the empty list to store the characters\n",
        "char_list = []\n",
        "for i in str40:\n",
        "  char_list.append(i)\n",
        "#str40 = str40.split()\n",
        "\n",
        "# removing the repetition of characters\n",
        "x = set(char_list)\n",
        "print(x)"
      ],
      "metadata": {
        "colab": {
          "base_uri": "https://localhost:8080/"
        },
        "id": "9DwDfyXbLJG3",
        "outputId": "0a0ee3a5-75ef-405d-f47b-0c636d6cd4c4"
      },
      "execution_count": null,
      "outputs": [
        {
          "output_type": "stream",
          "name": "stdout",
          "text": [
            "{'e', 'o', 'r', 'H', 'l', 'd', '!', 'W'}\n"
          ]
        }
      ]
    },
    {
      "cell_type": "markdown",
      "source": [
        "41. Check if two strings are anagrams."
      ],
      "metadata": {
        "id": "-p6Xh8NxRWJk"
      }
    },
    {
      "cell_type": "code",
      "source": [
        "def is_anagram(word1, word2):\n",
        "\n",
        "  if sorted(word1) == sorted(word2):\n",
        "    print(f'The word {word1} and {word2} are anagrams.')\n",
        "\n",
        "  else:\n",
        "    print(f'The word {word1} and {word2} are not anagrams.')\n",
        "\n",
        "## test Cases\n",
        "word1 = \"listen\"\n",
        "word2 = \"silent\"\n",
        "\n",
        "w1 = \"gram\"\n",
        "w2 = \"arm\"\n",
        "\n",
        "is_anagram(word1, word2)\n",
        "is_anagram(w1, w2)\n"
      ],
      "metadata": {
        "colab": {
          "base_uri": "https://localhost:8080/"
        },
        "id": "Ul1N8MnfLJN7",
        "outputId": "e6d73011-3a6d-45f8-c4b8-69fff32d2a6e"
      },
      "execution_count": null,
      "outputs": [
        {
          "output_type": "stream",
          "name": "stdout",
          "text": [
            "The word listen and silent are anagrams.\n",
            "The word gram and arm are not anagrams.\n"
          ]
        }
      ]
    },
    {
      "cell_type": "markdown",
      "source": [
        "42. Encode a string using a Caesar cipher."
      ],
      "metadata": {
        "id": "Fbed2iJMlNBN"
      }
    },
    {
      "cell_type": "code",
      "source": [
        "def caesar_cipher_encrypt(text, shift):\n",
        "    encrypted_text = \"\"\n",
        "    for char in text:\n",
        "        if char.isalpha():\n",
        "            is_upper = char.isupper()\n",
        "            char = char.lower()\n",
        "            encrypted_char = chr(((ord(char) - ord('a') + shift) % 26) + ord('a'))\n",
        "            if is_upper:\n",
        "                encrypted_char = encrypted_char.upper()\n",
        "            encrypted_text += encrypted_char\n",
        "        else:\n",
        "            encrypted_text += char\n",
        "    return encrypted_text\n",
        "\n",
        "# Example usage:\n",
        "text = \"Hello, World!\"\n",
        "shift = 3\n",
        "\n",
        "encrypted_text = caesar_cipher_encrypt(text, shift)\n",
        "\n",
        "print(\"Original text:\", text)\n",
        "print(\"Encrypted text:\", encrypted_text)\n"
      ],
      "metadata": {
        "id": "K_vvCbxbLJdU",
        "colab": {
          "base_uri": "https://localhost:8080/"
        },
        "outputId": "80c3fed2-3bc7-4f0e-c167-3f4503c1e319"
      },
      "execution_count": null,
      "outputs": [
        {
          "output_type": "stream",
          "name": "stdout",
          "text": [
            "Original text: Hello, World!\n",
            "Encrypted text: Khoor, Zruog!\n"
          ]
        }
      ]
    },
    {
      "cell_type": "markdown",
      "source": [
        "43. Decode a Caesar cipher encoded string."
      ],
      "metadata": {
        "id": "w7FeyxsXmRTn"
      }
    },
    {
      "cell_type": "code",
      "source": [
        "def caesar_cipher_decrypt(text, shift):\n",
        "    decrypted_text = \"\"\n",
        "    for char in text:\n",
        "        if char.isalpha():\n",
        "            is_upper = char.isupper()\n",
        "            char = char.lower()\n",
        "            decrypted_char = chr(((ord(char) - ord('a') - shift) % 26) + ord('a'))\n",
        "            if is_upper:\n",
        "                decrypted_char = decrypted_char.upper()\n",
        "            decrypted_text += decrypted_char\n",
        "        else:\n",
        "            decrypted_text += char\n",
        "    return decrypted_text\n",
        "\n",
        "# Example usage:\n",
        "encrypted_text = \"Khoor, Zruog!\"\n",
        "shift = 3\n",
        "\n",
        "decrypted_text = caesar_cipher_decrypt(encrypted_text, shift)\n",
        "\n",
        "print(\"Encrypted text:\", encrypted_text)\n",
        "print(\"Decrypted text:\", decrypted_text)\n"
      ],
      "metadata": {
        "id": "8JYWaUF9LJjC",
        "colab": {
          "base_uri": "https://localhost:8080/"
        },
        "outputId": "5109fbd3-80ee-4ca1-e13b-b2c5270d021f"
      },
      "execution_count": null,
      "outputs": [
        {
          "output_type": "stream",
          "name": "stdout",
          "text": [
            "Encrypted text: Khoor, Zruog!\n",
            "Decrypted text: Hello, World!\n"
          ]
        }
      ]
    },
    {
      "cell_type": "markdown",
      "source": [
        "44. Find the most frequent word in a string."
      ],
      "metadata": {
        "id": "LbkgkPKymlYB"
      }
    },
    {
      "cell_type": "code",
      "source": [
        "from collections import Counter\n",
        "import re\n",
        "\n",
        "def most_frequent_words(text):\n",
        "    # Remove punctuation and convert to lowercase\n",
        "    text = re.sub(r'[^\\w\\s]', '', text).lower()\n",
        "\n",
        "    # Split the text into words\n",
        "    words = text.split()\n",
        "\n",
        "    # Count the occurrences of each word\n",
        "    word_counts = Counter(words)\n",
        "\n",
        "    # Find the highest count\n",
        "    highest_count = max(word_counts.values())\n",
        "\n",
        "    # Find all words with the highest count\n",
        "    most_common_words = [word for word, count in word_counts.items() if count == highest_count]\n",
        "\n",
        "    return most_common_words, highest_count\n",
        "\n",
        "# Example usage:\n",
        "text = \"This is a sample text. This text contains some words. This is a simple example with multiple common words is\"\n",
        "\n",
        "most_common_words, count = most_frequent_words(text)\n",
        "\n",
        "print(\"Most frequent words:\", most_common_words)\n",
        "print(\"Count:\", count)\n",
        "\n"
      ],
      "metadata": {
        "id": "zKt79cwvLJpz",
        "colab": {
          "base_uri": "https://localhost:8080/"
        },
        "outputId": "61e0f468-4716-47fb-aeb5-06f5358b26f4"
      },
      "execution_count": null,
      "outputs": [
        {
          "output_type": "stream",
          "name": "stdout",
          "text": [
            "Most frequent words: ['this', 'is']\n",
            "Count: 3\n"
          ]
        }
      ]
    },
    {
      "cell_type": "markdown",
      "source": [
        "45. Find all unique words in a string."
      ],
      "metadata": {
        "id": "deNMvYdFzyMd"
      }
    },
    {
      "cell_type": "code",
      "source": [
        "import re\n",
        "\n",
        "def unique_word(str45):\n",
        "    # Remove punctuation and convert to lowercase\n",
        "    str45 = re.sub(r'[^\\w\\s]', '', str45).lower()\n",
        "    # Split the text into words\n",
        "    str45 = str45.split()\n",
        "    str45 = set(str45)\n",
        "    return list(str45)\n",
        "\n",
        "# Example usage:\n",
        "x = \"This is a sample text. This text contains some words. This is a simple example with multiple common words is.\"\n",
        "print(unique_word(x))\n"
      ],
      "metadata": {
        "colab": {
          "base_uri": "https://localhost:8080/"
        },
        "id": "D7bFxw1azzYk",
        "outputId": "712cb6ee-f7c9-4164-cc6a-47fc45866f15"
      },
      "execution_count": null,
      "outputs": [
        {
          "output_type": "stream",
          "name": "stdout",
          "text": [
            "['words', 'contains', 'common', 'this', 'text', 'some', 'is', 'simple', 'example', 'sample', 'with', 'a', 'multiple']\n"
          ]
        }
      ]
    },
    {
      "cell_type": "markdown",
      "source": [
        "46. Count the number of syllables in a string."
      ],
      "metadata": {
        "id": "19JAeXy71awv"
      }
    },
    {
      "cell_type": "code",
      "source": [
        "def count_syllables(word):\n",
        "    # Remove non-alphabetic characters and convert to lowercase\n",
        "    word = ''.join(filter(str.isalpha, word)).lower()\n",
        "\n",
        "    if len(word) <= 3:\n",
        "        return 1  # Short words often have 1 syllable\n",
        "\n",
        "    vowels = \"aeiouy\"\n",
        "    count = 0\n",
        "    prev_char = None\n",
        "\n",
        "    for char in word:\n",
        "        if prev_char is not None and char in vowels and prev_char not in vowels:\n",
        "            count += 1\n",
        "        prev_char = char\n",
        "\n",
        "    # Adjust for some common word endings\n",
        "    if word.endswith(\"e\"):\n",
        "        count -= 1\n",
        "    if word.endswith(\"le\") and len(word) > 2:\n",
        "        count += 1\n",
        "\n",
        "    # Ensure at least 1 syllable\n",
        "    return max(count, 1)\n",
        "\n",
        "def count_syllables_in_text(text):\n",
        "    words = text.split()\n",
        "    total_syllables = sum(count_syllables(word) for word in words)\n",
        "    return total_syllables\n",
        "\n",
        "# Example usage:\n",
        "text1 = \"Hello\"\n",
        "text2 = \"Cat\"\n",
        "text3 = \"syllables\"\n",
        "\n",
        "syllable_count1 = count_syllables_in_text(text1)\n",
        "syllable_count2 = count_syllables_in_text(text2)\n",
        "syllable_count3 = count_syllables_in_text(text3)\n",
        "\n",
        "print(\"Total syllables in the text1:\", syllable_count1)\n",
        "print(\"Total syllables in the text2:\", syllable_count2)\n",
        "print(\"Total syllables in the text3:\", syllable_count3)\n"
      ],
      "metadata": {
        "id": "yV2CNx_rLJvm",
        "colab": {
          "base_uri": "https://localhost:8080/"
        },
        "outputId": "73415723-c6e0-49e5-a343-1e8ea2a2f2aa"
      },
      "execution_count": null,
      "outputs": [
        {
          "output_type": "stream",
          "name": "stdout",
          "text": [
            "Total syllables in the text1: 2\n",
            "Total syllables in the text2: 1\n",
            "Total syllables in the text3: 3\n"
          ]
        }
      ]
    },
    {
      "cell_type": "markdown",
      "source": [
        "47. Check if a string contains any special characters."
      ],
      "metadata": {
        "id": "mnkxbq6E4Atb"
      }
    },
    {
      "cell_type": "code",
      "source": [
        "import string\n",
        "\n",
        "def punct_check(str47):\n",
        "  punctuation47 = string.punctuation\n",
        "  for i in str47:\n",
        "    if i in punctuation47:\n",
        "      return True\n",
        "\n",
        "  return False\n",
        "\n",
        "\n",
        "\n",
        "# Test cases\n",
        "str47a = \"hi How are you all\"\n",
        "str47b = \"hi!, How are you all?\"\n",
        "\n",
        "print(punct_check(str47a))\n",
        "print(punct_check(str47b))"
      ],
      "metadata": {
        "id": "vk8LTLH0LJ2n",
        "colab": {
          "base_uri": "https://localhost:8080/"
        },
        "outputId": "77a5a6e4-b2c7-4c09-ab69-0fb3323b2726"
      },
      "execution_count": null,
      "outputs": [
        {
          "output_type": "stream",
          "name": "stdout",
          "text": [
            "False\n",
            "True\n"
          ]
        }
      ]
    },
    {
      "cell_type": "markdown",
      "source": [
        "48. Remove the nth word from a string."
      ],
      "metadata": {
        "id": "vWXj7J6p5DmZ"
      }
    },
    {
      "cell_type": "code",
      "source": [
        "def remove_nth_word(str48, n):\n",
        "    # Split the string into words\n",
        "    words = str48.split()\n",
        "\n",
        "    # Handling the exception\n",
        "    if  n > len(str48) or n <= 0:\n",
        "      return str48\n",
        "\n",
        "    # Remove the nth word\n",
        "    del words[n-1]\n",
        "    result_string = ' '.join(words)\n",
        "    return result_string\n",
        "\n",
        "# Example usage:\n",
        "str48 = \"This is an example sentence to remove the nth word.\"\n",
        "n = 10  # Remove the 3rd word\n",
        "\n",
        "result = remove_nth_word(str48, n)\n",
        "\n",
        "print(\"Original string:\", str48)\n",
        "print(\"String with nth word removed:\", result)\n"
      ],
      "metadata": {
        "id": "CwGHw_9NLKQ9",
        "colab": {
          "base_uri": "https://localhost:8080/"
        },
        "outputId": "1cc28dd4-1d8d-42ab-f4ab-afb8180a5667"
      },
      "execution_count": null,
      "outputs": [
        {
          "output_type": "stream",
          "name": "stdout",
          "text": [
            "Original string: This is an example sentence to remove the nth word.\n",
            "String with nth word removed: This is an example sentence to remove the nth\n"
          ]
        }
      ]
    },
    {
      "cell_type": "markdown",
      "source": [
        "49. Insert a word at the nth position in a string."
      ],
      "metadata": {
        "id": "uLJA76z6_fF6"
      }
    },
    {
      "cell_type": "code",
      "source": [
        "def insert_nth_position(str49, n, word):\n",
        "\n",
        "  if  n > len(str49) or n <= 0:\n",
        "      return str49\n",
        "\n",
        "  list_of_words = str49.split()\n",
        "  list_of_words.insert(n-1, word)\n",
        "  insert_word_result = ' '.join(list_of_words)\n",
        "  return insert_word_result\n",
        "\n",
        "  # Example usage:\n",
        "str49 = \"This is an example sentence to insert the nth word.\"\n",
        "n = 10  # Remove the 3rd word\n",
        "word = \"from\"\n",
        "result = insert_nth_position(str49, n, word)\n",
        "print(\"Original String: \", str49)\n",
        "print(\"String after the insertion of word at nth place; \", result)\n"
      ],
      "metadata": {
        "colab": {
          "base_uri": "https://localhost:8080/"
        },
        "id": "PiP-ByfU_mCn",
        "outputId": "9f4172df-cc4c-439c-d258-89bf9bc86cd7"
      },
      "execution_count": null,
      "outputs": [
        {
          "output_type": "stream",
          "name": "stdout",
          "text": [
            "Original String:  This is an example sentence to insert the nth word.\n",
            "String after the insertion of word at nth place;  This is an example sentence to insert the nth from word.\n"
          ]
        }
      ]
    },
    {
      "cell_type": "markdown",
      "source": [
        "50. Convert a CSV string to a list of lists."
      ],
      "metadata": {
        "id": "vJGs-Rd5CZXs"
      }
    },
    {
      "cell_type": "markdown",
      "source": [
        "Not my code. Took the help from Google."
      ],
      "metadata": {
        "id": "fHC_VwPhCvFH"
      }
    },
    {
      "cell_type": "code",
      "source": [
        "import csv\n",
        "import io\n",
        "\n",
        "def csv_string_to_list(csv_string):\n",
        "    # Create an in-memory file-like object from the CSV string\n",
        "    csv_file = io.StringIO(csv_string)\n",
        "\n",
        "    # Initialize a CSV reader\n",
        "    csv_reader = csv.reader(csv_file)\n",
        "\n",
        "    # Convert the CSV data to a list of lists\n",
        "    data = [row for row in csv_reader]\n",
        "\n",
        "    return data\n",
        "\n",
        "# Example usage:\n",
        "csv_string = \"\"\"Name,Age,Location\n",
        "Alice,30,New York\n",
        "Bob,25,Los Angeles\n",
        "Charlie,35,Chicago\n",
        "\"\"\"\n",
        "\n",
        "csv_data = csv_string_to_list(csv_string)\n",
        "\n",
        "# Print the result\n",
        "for row in csv_data:\n",
        "    print(row)\n"
      ],
      "metadata": {
        "colab": {
          "base_uri": "https://localhost:8080/"
        },
        "id": "JD6PW7KbCfyW",
        "outputId": "3d8a6a0c-74d2-42ed-a1d6-e524c441f7ce"
      },
      "execution_count": null,
      "outputs": [
        {
          "output_type": "stream",
          "name": "stdout",
          "text": [
            "['Name', 'Age', 'Location']\n",
            "['Alice', '30', 'New York']\n",
            "['Bob', '25', 'Los Angeles']\n",
            "['Charlie', '35', 'Chicago']\n"
          ]
        }
      ]
    },
    {
      "cell_type": "markdown",
      "source": [
        "#List Based Practice Problem :"
      ],
      "metadata": {
        "id": "KmGk25BXDH2E"
      }
    },
    {
      "cell_type": "markdown",
      "source": [
        "1. Create a list with integers from 1 to 10."
      ],
      "metadata": {
        "id": "L4g0iSw1DNNQ"
      }
    },
    {
      "cell_type": "code",
      "source": [
        "my_list = list(range(1, 11))\n",
        "print(my_list)\n"
      ],
      "metadata": {
        "colab": {
          "base_uri": "https://localhost:8080/"
        },
        "id": "ZfKo8DUVEgtl",
        "outputId": "32410448-f565-4a51-8967-30e9e0ad5261"
      },
      "execution_count": null,
      "outputs": [
        {
          "output_type": "stream",
          "name": "stdout",
          "text": [
            "[1, 2, 3, 4, 5, 6, 7, 8, 9, 10]\n"
          ]
        }
      ]
    },
    {
      "cell_type": "markdown",
      "source": [
        "2. Find the length of a list without using the len() function.\n",
        "\n"
      ],
      "metadata": {
        "id": "rUjDgv3ncM-m"
      }
    },
    {
      "cell_type": "code",
      "source": [
        "list_length = sum(1 for _ in my_list)\n",
        "print(list_length)"
      ],
      "metadata": {
        "colab": {
          "base_uri": "https://localhost:8080/"
        },
        "id": "h-NIHMfjE20h",
        "outputId": "a3fa99b8-4e76-4d39-a877-139c325491dc"
      },
      "execution_count": null,
      "outputs": [
        {
          "output_type": "stream",
          "name": "stdout",
          "text": [
            "10\n"
          ]
        }
      ]
    },
    {
      "cell_type": "markdown",
      "source": [
        "2. Alternate Solution"
      ],
      "metadata": {
        "id": "t4tykYTDFrMo"
      }
    },
    {
      "cell_type": "code",
      "source": [
        "count = 0\n",
        "for i in my_list:\n",
        "  count += 1\n",
        "\n",
        "print(count)"
      ],
      "metadata": {
        "colab": {
          "base_uri": "https://localhost:8080/"
        },
        "id": "rMEFK8OiFcuw",
        "outputId": "f9c5dcf5-9c52-43e3-ff86-74da6576370d"
      },
      "execution_count": null,
      "outputs": [
        {
          "output_type": "stream",
          "name": "stdout",
          "text": [
            "10\n"
          ]
        }
      ]
    },
    {
      "cell_type": "markdown",
      "source": [
        "3. Append an element to the end of a list."
      ],
      "metadata": {
        "id": "OC9YcGN2FxAS"
      }
    },
    {
      "cell_type": "code",
      "source": [
        "my_list.append(11)\n",
        "print(my_list)"
      ],
      "metadata": {
        "colab": {
          "base_uri": "https://localhost:8080/"
        },
        "id": "llC1wZLPF7ui",
        "outputId": "ef5029a9-9155-4825-9829-53290cb8b8c6"
      },
      "execution_count": null,
      "outputs": [
        {
          "output_type": "stream",
          "name": "stdout",
          "text": [
            "[1, 2, 3, 4, 5, 6, 7, 8, 9, 10, 11]\n"
          ]
        }
      ]
    },
    {
      "cell_type": "markdown",
      "source": [
        "4. Insert an element at a specific index in a list."
      ],
      "metadata": {
        "id": "tJzNDB9gGCNQ"
      }
    },
    {
      "cell_type": "code",
      "source": [
        "my_list.insert(5, 12)  # Insert 12 at index 5\n",
        "print(my_list)"
      ],
      "metadata": {
        "colab": {
          "base_uri": "https://localhost:8080/"
        },
        "id": "MkUKgaf1GFT5",
        "outputId": "85aacb33-611d-4725-e685-b6c9c9c0a4fd"
      },
      "execution_count": null,
      "outputs": [
        {
          "output_type": "stream",
          "name": "stdout",
          "text": [
            "[1, 2, 3, 4, 5, 12, 6, 7, 8, 9, 10, 11]\n"
          ]
        }
      ]
    },
    {
      "cell_type": "markdown",
      "source": [
        "5. Remove an element from a list by its value."
      ],
      "metadata": {
        "id": "X9PG1ExOGM8W"
      }
    },
    {
      "cell_type": "code",
      "source": [
        "my_list.remove(5)  # Remove the first occurrence of 5\n",
        "print(my_list)"
      ],
      "metadata": {
        "colab": {
          "base_uri": "https://localhost:8080/"
        },
        "id": "HJTG3DCgGQ1V",
        "outputId": "0a23e969-e0be-4dca-9cf2-ca790b219886"
      },
      "execution_count": null,
      "outputs": [
        {
          "output_type": "stream",
          "name": "stdout",
          "text": [
            "[1, 2, 3, 4, 12, 6, 7, 8, 9, 10, 11]\n"
          ]
        }
      ]
    },
    {
      "cell_type": "markdown",
      "source": [
        "6. Remove an element from a list by its index."
      ],
      "metadata": {
        "id": "WVb523VkGedp"
      }
    },
    {
      "cell_type": "code",
      "source": [
        "del my_list[3]  # Remove the element at index 3\n",
        "print(my_list)"
      ],
      "metadata": {
        "colab": {
          "base_uri": "https://localhost:8080/"
        },
        "id": "A9sYQoU7GfaD",
        "outputId": "54bd646b-1331-491c-9f7b-cce7d03033ab"
      },
      "execution_count": null,
      "outputs": [
        {
          "output_type": "stream",
          "name": "stdout",
          "text": [
            "[1, 2, 3, 12, 6, 7, 8, 9, 10, 11]\n"
          ]
        }
      ]
    },
    {
      "cell_type": "markdown",
      "source": [
        "7. Check if an element exists in a list."
      ],
      "metadata": {
        "id": "sbS-0lgJGlVG"
      }
    },
    {
      "cell_type": "code",
      "source": [
        "element_exists = 5 in my_list  # Returns True if 5 exists in the list\n",
        "print(element_exists)"
      ],
      "metadata": {
        "colab": {
          "base_uri": "https://localhost:8080/"
        },
        "id": "cmeRVdOKGmFt",
        "outputId": "9a062298-1319-4073-f764-fe63156d3182"
      },
      "execution_count": null,
      "outputs": [
        {
          "output_type": "stream",
          "name": "stdout",
          "text": [
            "False\n"
          ]
        }
      ]
    },
    {
      "cell_type": "markdown",
      "source": [
        "8. Find the index of the first occurrence of an element in a list."
      ],
      "metadata": {
        "id": "K6hpo9k3GxV8"
      }
    },
    {
      "cell_type": "code",
      "source": [
        "element_index = my_list.index(7)  # Returns the index of the first occurrence of 7\n",
        "print(element_index)"
      ],
      "metadata": {
        "colab": {
          "base_uri": "https://localhost:8080/"
        },
        "id": "DXZS6_fFGz3_",
        "outputId": "ca8d1ad2-c7ce-42d9-b5df-9728ba9fb35a"
      },
      "execution_count": null,
      "outputs": [
        {
          "output_type": "stream",
          "name": "stdout",
          "text": [
            "5\n"
          ]
        }
      ]
    },
    {
      "cell_type": "markdown",
      "source": [
        "9. Count the occurrences of an element in a list."
      ],
      "metadata": {
        "id": "JHFRQyboG_uJ"
      }
    },
    {
      "cell_type": "code",
      "source": [
        "element_count = my_list.count(3)  # Count the occurrences of 3 in the list\n",
        "print(element_count)"
      ],
      "metadata": {
        "colab": {
          "base_uri": "https://localhost:8080/"
        },
        "id": "1iB_1_ZWHCfW",
        "outputId": "cc076c1f-4976-4e03-c274-b2d3a5cbda9b"
      },
      "execution_count": null,
      "outputs": [
        {
          "output_type": "stream",
          "name": "stdout",
          "text": [
            "1\n"
          ]
        }
      ]
    },
    {
      "cell_type": "markdown",
      "source": [
        "10. Reverse the order of elements in a list."
      ],
      "metadata": {
        "id": "Kx0ZgD9IHTTp"
      }
    },
    {
      "cell_type": "code",
      "source": [
        "my_list.reverse()\n",
        "print(my_list)"
      ],
      "metadata": {
        "colab": {
          "base_uri": "https://localhost:8080/"
        },
        "id": "XrIUYVkmHY-W",
        "outputId": "fe69a437-5110-47f7-f50c-e2cc5827da8a"
      },
      "execution_count": null,
      "outputs": [
        {
          "output_type": "stream",
          "name": "stdout",
          "text": [
            "[11, 10, 9, 8, 7, 6, 12, 3, 2, 1]\n"
          ]
        }
      ]
    },
    {
      "cell_type": "code",
      "source": [
        "reverse_list = my_list[::-1]\n",
        "print(reverse_list)"
      ],
      "metadata": {
        "colab": {
          "base_uri": "https://localhost:8080/"
        },
        "id": "hb5YboyOHkq7",
        "outputId": "158de647-2caa-4fcb-834c-f7562ec71b2a"
      },
      "execution_count": null,
      "outputs": [
        {
          "output_type": "stream",
          "name": "stdout",
          "text": [
            "[1, 2, 3, 12, 6, 7, 8, 9, 10, 11]\n"
          ]
        }
      ]
    },
    {
      "cell_type": "markdown",
      "source": [
        "11. Sort a list in ascending order."
      ],
      "metadata": {
        "id": "0Oo9U4tGHwme"
      }
    },
    {
      "cell_type": "code",
      "source": [
        "my_list.sort()\n",
        "print(my_list)"
      ],
      "metadata": {
        "colab": {
          "base_uri": "https://localhost:8080/"
        },
        "id": "ORodaOMiH0Tm",
        "outputId": "901fb9f7-fca3-4710-f033-6f9872c23ace"
      },
      "execution_count": null,
      "outputs": [
        {
          "output_type": "stream",
          "name": "stdout",
          "text": [
            "[1, 2, 3, 6, 7, 8, 9, 10, 11, 12]\n"
          ]
        }
      ]
    },
    {
      "cell_type": "markdown",
      "source": [
        "12. Sort a list in descending order."
      ],
      "metadata": {
        "id": "EIDsqOa2H_ar"
      }
    },
    {
      "cell_type": "code",
      "source": [
        "my_list.sort(reverse=True)\n",
        "print(my_list)"
      ],
      "metadata": {
        "colab": {
          "base_uri": "https://localhost:8080/"
        },
        "id": "BD5wsIJcINoP",
        "outputId": "6c98dc3b-f250-4ab2-80ee-bc83585a9f17"
      },
      "execution_count": null,
      "outputs": [
        {
          "output_type": "stream",
          "name": "stdout",
          "text": [
            "[12, 11, 10, 9, 8, 7, 6, 3, 2, 1]\n"
          ]
        }
      ]
    },
    {
      "cell_type": "markdown",
      "source": [
        "13. Create a list of even numbers from 1 to 20."
      ],
      "metadata": {
        "id": "sRIqv4hyIR4x"
      }
    },
    {
      "cell_type": "code",
      "source": [
        "even_num_list = [i for i in range(1, 21) if i%2 == 0]\n",
        "print(even_num_list)"
      ],
      "metadata": {
        "colab": {
          "base_uri": "https://localhost:8080/"
        },
        "id": "zXFZ1lwLIUvY",
        "outputId": "ae3eaeac-a82c-4db7-ca71-f8bdbf90185a"
      },
      "execution_count": null,
      "outputs": [
        {
          "output_type": "stream",
          "name": "stdout",
          "text": [
            "[2, 4, 6, 8, 10, 12, 14, 16, 18, 20]\n"
          ]
        }
      ]
    },
    {
      "cell_type": "markdown",
      "source": [
        "14. Create a list of odd numbers from 1 to 20."
      ],
      "metadata": {
        "id": "0nE-KBYeJD0q"
      }
    },
    {
      "cell_type": "code",
      "source": [
        "odd_num_list = [i for i in range(1, 21) if i%2 != 0]\n",
        "print(odd_num_list)"
      ],
      "metadata": {
        "colab": {
          "base_uri": "https://localhost:8080/"
        },
        "id": "Bhv5pjxEJGkI",
        "outputId": "4019f66b-3c13-4223-8b2a-9d911a8f4af6"
      },
      "execution_count": null,
      "outputs": [
        {
          "output_type": "stream",
          "name": "stdout",
          "text": [
            "[1, 3, 5, 7, 9, 11, 13, 15, 17, 19]\n"
          ]
        }
      ]
    },
    {
      "cell_type": "markdown",
      "source": [
        "15. Find the sum of all elements in a list."
      ],
      "metadata": {
        "id": "LQhvLQl5Jco6"
      }
    },
    {
      "cell_type": "code",
      "source": [
        "sum_list = sum(my_list)\n",
        "print(sum_list)"
      ],
      "metadata": {
        "colab": {
          "base_uri": "https://localhost:8080/"
        },
        "id": "VqjLPG-DJf5e",
        "outputId": "0eb1b2e9-905e-4e00-f511-ff93f890e4a2"
      },
      "execution_count": null,
      "outputs": [
        {
          "output_type": "stream",
          "name": "stdout",
          "text": [
            "69\n"
          ]
        }
      ]
    },
    {
      "cell_type": "markdown",
      "source": [
        "16. Find the maximum value in a list.\n",
        "\n"
      ],
      "metadata": {
        "id": "TemHAJAwJtVq"
      }
    },
    {
      "cell_type": "code",
      "source": [
        "max_value_list = max(my_list)\n",
        "print(max_value_list)"
      ],
      "metadata": {
        "colab": {
          "base_uri": "https://localhost:8080/"
        },
        "id": "5UKbW667Jx7W",
        "outputId": "c8b860dd-7099-4dfe-ca93-bab3f7d7ccbe"
      },
      "execution_count": null,
      "outputs": [
        {
          "output_type": "stream",
          "name": "stdout",
          "text": [
            "12\n"
          ]
        }
      ]
    },
    {
      "cell_type": "markdown",
      "source": [
        "16. Alt Solution"
      ],
      "metadata": {
        "id": "_OKK7oBmK9ox"
      }
    },
    {
      "cell_type": "code",
      "source": [
        "max_value = 0\n",
        "for i in my_list:\n",
        "  if i > max_value:\n",
        "    max_value = i\n",
        "print(max_value)\n"
      ],
      "metadata": {
        "colab": {
          "base_uri": "https://localhost:8080/"
        },
        "id": "k0HarUsYKBun",
        "outputId": "dc238219-a842-4606-f892-7fb3e27d4732"
      },
      "execution_count": null,
      "outputs": [
        {
          "output_type": "stream",
          "name": "stdout",
          "text": [
            "12\n"
          ]
        }
      ]
    },
    {
      "cell_type": "markdown",
      "source": [
        "17. Find the minimum value in a list."
      ],
      "metadata": {
        "id": "wjIXPJ06LCZg"
      }
    },
    {
      "cell_type": "code",
      "source": [
        "min_value_list = min(my_list)\n",
        "print(min_value_list)"
      ],
      "metadata": {
        "colab": {
          "base_uri": "https://localhost:8080/"
        },
        "id": "270bIVLVLG-m",
        "outputId": "b32c519b-299a-49ff-ee67-8a0298af85c2"
      },
      "execution_count": null,
      "outputs": [
        {
          "output_type": "stream",
          "name": "stdout",
          "text": [
            "1\n"
          ]
        }
      ]
    },
    {
      "cell_type": "markdown",
      "source": [
        "18. Create a list of squares of numbers from 1 to 10."
      ],
      "metadata": {
        "id": "rB6amtiXLS9I"
      }
    },
    {
      "cell_type": "code",
      "source": [
        "sqr_value_list = [i**2 for i in range(1, 11)]\n",
        "print(sqr_value_list)"
      ],
      "metadata": {
        "colab": {
          "base_uri": "https://localhost:8080/"
        },
        "id": "8Y4yttp7LX3X",
        "outputId": "a3ef1eec-dcea-49f8-e35c-7f490b37e907"
      },
      "execution_count": null,
      "outputs": [
        {
          "output_type": "stream",
          "name": "stdout",
          "text": [
            "[1, 4, 9, 16, 25, 36, 49, 64, 81, 100]\n"
          ]
        }
      ]
    },
    {
      "cell_type": "markdown",
      "source": [
        "19. Create a list of random numbers."
      ],
      "metadata": {
        "id": "xtXitx2AMJZh"
      }
    },
    {
      "cell_type": "code",
      "source": [
        "import random\n",
        "\n",
        "random_numbers = [random.randint(1, 100) for i in range(10)]\n",
        "print(random_numbers)"
      ],
      "metadata": {
        "colab": {
          "base_uri": "https://localhost:8080/"
        },
        "id": "Acw1d3iOMKQB",
        "outputId": "cd4cd19d-cd71-4a3e-d11d-88abde292155"
      },
      "execution_count": null,
      "outputs": [
        {
          "output_type": "stream",
          "name": "stdout",
          "text": [
            "[51, 55, 50, 22, 84, 1, 97, 1, 83, 77]\n"
          ]
        }
      ]
    },
    {
      "cell_type": "markdown",
      "source": [
        "20. Remove duplicates from a list."
      ],
      "metadata": {
        "id": "MsDhyajJMrg9"
      }
    },
    {
      "cell_type": "code",
      "source": [
        "remove_duplicates = list(set(my_list))\n",
        "print(remove_duplicates)"
      ],
      "metadata": {
        "colab": {
          "base_uri": "https://localhost:8080/"
        },
        "id": "-fAEuz8eMsak",
        "outputId": "5a6bc36a-a600-48e8-aa34-7d2e58cedd4c"
      },
      "execution_count": null,
      "outputs": [
        {
          "output_type": "stream",
          "name": "stdout",
          "text": [
            "[1, 2, 3, 6, 7, 8, 9, 10, 11, 12]\n"
          ]
        }
      ]
    },
    {
      "cell_type": "markdown",
      "source": [
        "21. Find the common elements between two lists."
      ],
      "metadata": {
        "id": "1RocpZxmNF_I"
      }
    },
    {
      "cell_type": "code",
      "source": [
        "com_list1 = [1, 2, 5, 11, 14, 20, 25]\n",
        "com_list2 = [3, 7, 11, 13, 14, 21, 25]\n",
        "common_element_list = []\n",
        "for i in com_list1:\n",
        "  if i in com_list2:\n",
        "    common_element_list.append(i)\n",
        "print(common_element_list)"
      ],
      "metadata": {
        "colab": {
          "base_uri": "https://localhost:8080/"
        },
        "id": "c3OMDDiJNGzc",
        "outputId": "d8b107ae-bc10-4fc7-d0d5-3bb0eb7e0a54"
      },
      "execution_count": null,
      "outputs": [
        {
          "output_type": "stream",
          "name": "stdout",
          "text": [
            "[11, 14, 25]\n"
          ]
        }
      ]
    },
    {
      "cell_type": "markdown",
      "source": [
        "21. Alt Sol"
      ],
      "metadata": {
        "id": "-Ddxb3AyO0r6"
      }
    },
    {
      "cell_type": "code",
      "source": [
        "com_list1 = [1, 2, 5, 11, 14, 20, 25]\n",
        "com_list2 = [3, 7, 11, 13, 14, 21, 25]\n",
        "common_element_list = [i for i in com_list1 if i in com_list2]\n",
        "print(common_element_list)"
      ],
      "metadata": {
        "colab": {
          "base_uri": "https://localhost:8080/"
        },
        "id": "ZikjFXy3N_HU",
        "outputId": "17e24e13-305d-4f4a-c51a-d96bab97dd9c"
      },
      "execution_count": null,
      "outputs": [
        {
          "output_type": "stream",
          "name": "stdout",
          "text": [
            "[11, 14, 25]\n"
          ]
        }
      ]
    },
    {
      "cell_type": "markdown",
      "source": [
        "22. Find the difference between two lists."
      ],
      "metadata": {
        "id": "Utsfwoq6O4TR"
      }
    },
    {
      "cell_type": "code",
      "source": [
        "com_list1 = [1, 2, 5, 11, 14, 20, 25]\n",
        "com_list2 = [3, 7, 11, 13, 14, 21, 25]\n",
        "diff_element_list1 = [i for i in com_list1 if i not in com_list2]\n",
        "diff_element_list2 = [i for i in com_list2 if i not in com_list1]\n",
        "print(diff_element_list1 + diff_element_list2)"
      ],
      "metadata": {
        "colab": {
          "base_uri": "https://localhost:8080/"
        },
        "id": "E8UM3M3KO824",
        "outputId": "89e1df28-aa37-4608-a7f6-cdb5d1caf540"
      },
      "execution_count": null,
      "outputs": [
        {
          "output_type": "stream",
          "name": "stdout",
          "text": [
            "[1, 2, 5, 20, 3, 7, 13, 21]\n"
          ]
        }
      ]
    },
    {
      "cell_type": "markdown",
      "source": [
        "23. Merge two lists."
      ],
      "metadata": {
        "id": "s0Qfv_fdPmMW"
      }
    },
    {
      "cell_type": "code",
      "source": [
        "merge_list = com_list1 + com_list2\n",
        "print(merge_list)"
      ],
      "metadata": {
        "colab": {
          "base_uri": "https://localhost:8080/"
        },
        "id": "lV4nbLkNPpr0",
        "outputId": "02ebb69f-ee48-41e2-e2f1-a047f0d05684"
      },
      "execution_count": null,
      "outputs": [
        {
          "output_type": "stream",
          "name": "stdout",
          "text": [
            "[1, 2, 5, 11, 14, 20, 25, 3, 7, 11, 13, 14, 21, 25]\n"
          ]
        }
      ]
    },
    {
      "cell_type": "markdown",
      "source": [
        "24. Multiply all elements in a list by 2."
      ],
      "metadata": {
        "id": "y3hoD4wlP-Zq"
      }
    },
    {
      "cell_type": "code",
      "source": [
        "multiply_by_2_list = [i*2 for i in my_list]\n",
        "print(multiply_by_2_list)"
      ],
      "metadata": {
        "colab": {
          "base_uri": "https://localhost:8080/"
        },
        "id": "6Hpm1A5oP_M5",
        "outputId": "7d025a1c-2a9c-4499-8b2d-5d810828b475"
      },
      "execution_count": null,
      "outputs": [
        {
          "output_type": "stream",
          "name": "stdout",
          "text": [
            "[24, 22, 20, 18, 16, 14, 12, 6, 4, 2]\n"
          ]
        }
      ]
    },
    {
      "cell_type": "markdown",
      "source": [
        "25. Filter out all even numbers from a list."
      ],
      "metadata": {
        "id": "BYJZkvjDQRL_"
      }
    },
    {
      "cell_type": "code",
      "source": [
        "filter_my_list = [i for i in my_list if i % 2 != 0]\n",
        "print(filter_my_list)"
      ],
      "metadata": {
        "colab": {
          "base_uri": "https://localhost:8080/"
        },
        "id": "1W_3Oa8lQZ7g",
        "outputId": "f38b3bb1-b977-45f8-ce8b-0f32a715b70d"
      },
      "execution_count": null,
      "outputs": [
        {
          "output_type": "stream",
          "name": "stdout",
          "text": [
            "[11, 9, 7, 3, 1]\n"
          ]
        }
      ]
    },
    {
      "cell_type": "markdown",
      "source": [
        "25. Alternative Solution"
      ],
      "metadata": {
        "id": "qhShLR8ptYZs"
      }
    },
    {
      "cell_type": "code",
      "source": [
        "my_list = list(range(1, 11))\n",
        "print(my_list)\n",
        "filter_out_even = list(filter(lambda x : x%2!=0, my_list))\n",
        "filter_out_even"
      ],
      "metadata": {
        "colab": {
          "base_uri": "https://localhost:8080/"
        },
        "id": "TS8ag6SetY5Q",
        "outputId": "16726c90-7261-43f5-cc14-fa9e38fa2869"
      },
      "execution_count": null,
      "outputs": [
        {
          "output_type": "stream",
          "name": "stdout",
          "text": [
            "[1, 2, 3, 4, 5, 6, 7, 8, 9, 10]\n"
          ]
        },
        {
          "output_type": "execute_result",
          "data": {
            "text/plain": [
              "[1, 3, 5, 7, 9]"
            ]
          },
          "metadata": {},
          "execution_count": 2
        }
      ]
    },
    {
      "cell_type": "markdown",
      "source": [
        "26. Convert a list of strings to a list of integers."
      ],
      "metadata": {
        "id": "6-pbzUB8uxG_"
      }
    },
    {
      "cell_type": "code",
      "source": [
        "my_list1 = ['1', '2', '3', '4', '5']\n",
        "my_list_int = [int(i) for i in my_list1]\n",
        "print(my_list_int)\n",
        "type(my_list_int[0])"
      ],
      "metadata": {
        "colab": {
          "base_uri": "https://localhost:8080/"
        },
        "id": "TrNPtJ93u5rH",
        "outputId": "ec3c2593-fe4a-4ad0-fe68-646f655051c0"
      },
      "execution_count": null,
      "outputs": [
        {
          "output_type": "stream",
          "name": "stdout",
          "text": [
            "[1, 2, 3, 4, 5]\n"
          ]
        },
        {
          "output_type": "execute_result",
          "data": {
            "text/plain": [
              "int"
            ]
          },
          "metadata": {},
          "execution_count": 14
        }
      ]
    },
    {
      "cell_type": "markdown",
      "source": [
        "27. Convert a list of integers to a list of strings."
      ],
      "metadata": {
        "id": "IBOpw_GJv793"
      }
    },
    {
      "cell_type": "code",
      "source": [
        "my_list_str = [str(i) for i in my_list_int]\n",
        "print(my_list_str)\n",
        "type(my_list_str[0])"
      ],
      "metadata": {
        "colab": {
          "base_uri": "https://localhost:8080/"
        },
        "id": "5KOT_VgEv_nk",
        "outputId": "4f275529-2c6e-466a-dac3-a043b6fec371"
      },
      "execution_count": null,
      "outputs": [
        {
          "output_type": "stream",
          "name": "stdout",
          "text": [
            "['1', '2', '3', '4', '5']\n"
          ]
        },
        {
          "output_type": "execute_result",
          "data": {
            "text/plain": [
              "str"
            ]
          },
          "metadata": {},
          "execution_count": 15
        }
      ]
    },
    {
      "cell_type": "markdown",
      "source": [
        "28. Flatten a nested list."
      ],
      "metadata": {
        "id": "6TnYtJaLwaKX"
      }
    },
    {
      "cell_type": "code",
      "source": [
        "nested_list = [[1,2,3], [5,6,7], [8,9,10]]\n",
        "flattten_nested_list = [j for i in nested_list for j in i]\n",
        "print(flattten_nested_list)"
      ],
      "metadata": {
        "colab": {
          "base_uri": "https://localhost:8080/"
        },
        "id": "5rxKZ1Nkwdf7",
        "outputId": "4b3e9fe1-ac36-42c6-9bcc-46511e8853d7"
      },
      "execution_count": null,
      "outputs": [
        {
          "output_type": "stream",
          "name": "stdout",
          "text": [
            "[1, 2, 3, 5, 6, 7, 8, 9, 10]\n"
          ]
        }
      ]
    },
    {
      "cell_type": "markdown",
      "source": [
        "29. Create a list of the first 10 Fibonacci numbers."
      ],
      "metadata": {
        "id": "-CzyrInocNOX"
      }
    },
    {
      "cell_type": "code",
      "source": [
        "a = 0\n",
        "b = 1\n",
        "x = [0, 1]\n",
        "for i in range(0, 4):\n",
        "  a = a + b\n",
        "  x.append(a)\n",
        "  b = a + b\n",
        "  x.append(b)\n",
        "  #if len(x) == 10:\n",
        "   # break\n",
        "\n",
        "print(x)\n",
        "\n",
        "\n"
      ],
      "metadata": {
        "colab": {
          "base_uri": "https://localhost:8080/"
        },
        "id": "lQoIMWPyzvZz",
        "outputId": "25d96283-dca1-4c38-a0eb-0e23ee34ffc7"
      },
      "execution_count": null,
      "outputs": [
        {
          "output_type": "stream",
          "name": "stdout",
          "text": [
            "[0, 1, 1, 2, 3, 5, 8, 13, 21, 34]\n"
          ]
        }
      ]
    },
    {
      "cell_type": "markdown",
      "source": [
        "29. Alt Sol1"
      ],
      "metadata": {
        "id": "p6rJv1OLAYQN"
      }
    },
    {
      "cell_type": "code",
      "source": [
        "import math\n",
        "def fibonacci(n):\n",
        "  x = math.ceil((n-2)/2)\n",
        "  p = 0\n",
        "  q = 1\n",
        "  fib_list = [0, 1]\n",
        "  for i in range(0, x):\n",
        "    p = p+q\n",
        "    fib_list.append(p)\n",
        "    q = p+q\n",
        "    fib_list.append(q)\n",
        "\n",
        "  if n%2!=0:\n",
        "    return fib_list[:len(fib_list)-1]\n",
        "\n",
        "  else:\n",
        "    return fib_list\n",
        "\n",
        "## Cases\n",
        "\n",
        "print(fibonacci(10))\n",
        "print(fibonacci(9))\n",
        "print(fibonacci(11))"
      ],
      "metadata": {
        "colab": {
          "base_uri": "https://localhost:8080/"
        },
        "id": "B0I5pzro4dCg",
        "outputId": "89696bdd-aceb-4d23-dff9-59fa8fdd87fa"
      },
      "execution_count": null,
      "outputs": [
        {
          "output_type": "stream",
          "name": "stdout",
          "text": [
            "[0, 1, 1, 2, 3, 5, 8, 13, 21, 34]\n",
            "[0, 1, 1, 2, 3, 5, 8, 13, 21]\n",
            "[0, 1, 1, 2, 3, 5, 8, 13, 21, 34, 55]\n"
          ]
        }
      ]
    },
    {
      "cell_type": "markdown",
      "source": [
        "29. Alt Sol2"
      ],
      "metadata": {
        "id": "XwxsVycLAeCs"
      }
    },
    {
      "cell_type": "code",
      "source": [
        "# Initialize the first two Fibonacci numbers\n",
        "fibonacci = [0, 1]\n",
        "\n",
        "# Generate the next 8 Fibonacci numbers\n",
        "for i in range(2, 10):\n",
        "    next_fib = fibonacci[i - 1] + fibonacci[i - 2]\n",
        "    fibonacci.append(next_fib)\n",
        "\n",
        "# Print the list of Fibonacci numbers\n",
        "print(fibonacci)\n"
      ],
      "metadata": {
        "colab": {
          "base_uri": "https://localhost:8080/"
        },
        "id": "CChpwGQb7wDP",
        "outputId": "5e9d1f8e-5cbf-443e-fe47-05636976f492"
      },
      "execution_count": null,
      "outputs": [
        {
          "output_type": "stream",
          "name": "stdout",
          "text": [
            "[0, 1, 1, 2, 3, 5, 8, 13, 21, 34]\n"
          ]
        }
      ]
    },
    {
      "cell_type": "markdown",
      "source": [
        "30. Check if a list is sorted."
      ],
      "metadata": {
        "id": "sDMSz93rBswW"
      }
    },
    {
      "cell_type": "code",
      "source": [
        "def is_sorted(list):\n",
        "    n = len(list)\n",
        "    for i in range(n - 1):\n",
        "        if list[i] > list[i + 1]:\n",
        "            return False\n",
        "    return True\n",
        "\n",
        "# Example usage:\n",
        "sorted_list = [1, 2, 3, 4, 5]\n",
        "unsorted_list = [1, 4, 1, 5, 9, 2, 6, 5, 3, 5]\n",
        "\n",
        "print(is_sorted(sorted_list))\n",
        "print(is_sorted(unsorted_list))\n"
      ],
      "metadata": {
        "colab": {
          "base_uri": "https://localhost:8080/"
        },
        "id": "Ib3WgVdpCP8t",
        "outputId": "f020a428-287d-49dd-ce2e-780d56b56b87"
      },
      "execution_count": null,
      "outputs": [
        {
          "output_type": "stream",
          "name": "stdout",
          "text": [
            "True\n",
            "False\n"
          ]
        }
      ]
    },
    {
      "cell_type": "markdown",
      "source": [
        "31. Rotate a list to the left by `n` positions.\n"
      ],
      "metadata": {
        "id": "QFRwXmKwFJZq"
      }
    },
    {
      "cell_type": "code",
      "source": [
        "##EXAMPLE\n",
        "lst = [1, 4, 6, 7, 2]\n",
        "\n",
        "# rotated by 3 using slicing\n",
        "left_rotated_lst = lst[3:] + lst[:3]\n",
        "\n",
        "print(left_rotated_lst)"
      ],
      "metadata": {
        "colab": {
          "base_uri": "https://localhost:8080/"
        },
        "id": "pE6WBBfaLwsH",
        "outputId": "fe3ea82b-356d-4a07-f6be-187b2b2a2f66"
      },
      "execution_count": null,
      "outputs": [
        {
          "output_type": "stream",
          "name": "stdout",
          "text": [
            "[7, 2, 1, 4, 6]\n"
          ]
        }
      ]
    },
    {
      "cell_type": "code",
      "source": [
        "## Actual Solution\n",
        "\n",
        "def left_rotate(lst, n):\n",
        "    # Check if the list is empty or if n is greater than the length of the list\n",
        "    if not lst or n <= 0:\n",
        "        return lst\n",
        "\n",
        "    # Perform the left rotation using slicing\n",
        "    rotated_list = lst[n:] + lst[:n]\n",
        "\n",
        "    return rotated_list\n",
        "\n",
        "# Example usage:\n",
        "my_list = [1, 2, 3, 4, 5]\n",
        "rotated = left_rotate(my_list, 3)\n",
        "print(rotated)\n"
      ],
      "metadata": {
        "colab": {
          "base_uri": "https://localhost:8080/"
        },
        "id": "d8Q9zMPNFMbH",
        "outputId": "a0b44253-a7f6-4133-a0c0-5bf65759a9d6"
      },
      "execution_count": null,
      "outputs": [
        {
          "output_type": "stream",
          "name": "stdout",
          "text": [
            "[4, 5, 1, 2, 3]\n"
          ]
        }
      ]
    },
    {
      "cell_type": "markdown",
      "source": [
        "32. Rotate a list to the right by `n` positions."
      ],
      "metadata": {
        "id": "DRmTK-AhcNeL"
      }
    },
    {
      "cell_type": "code",
      "source": [
        "## Actual Solution\n",
        "\n",
        "def right_rotate(lst, n):\n",
        "    # Check if the list is empty or if n is greater than the length of the list\n",
        "    if not lst or n <= 0:\n",
        "        return lst\n",
        "\n",
        "    # Perform the left rotation using slicing\n",
        "    rotated_list = lst[-n:] + lst[:-n]\n",
        "\n",
        "    return rotated_list\n",
        "\n",
        "# Example usage:\n",
        "my_list = [1, 2, 3, 4, 5]\n",
        "rotated = right_rotate(my_list, 3)\n",
        "print(rotated)"
      ],
      "metadata": {
        "colab": {
          "base_uri": "https://localhost:8080/"
        },
        "id": "-h9NeYzaNAli",
        "outputId": "23f564a9-7d48-46b4-aa4e-9597ab30d999"
      },
      "execution_count": null,
      "outputs": [
        {
          "output_type": "stream",
          "name": "stdout",
          "text": [
            "[3, 4, 5, 1, 2]\n"
          ]
        }
      ]
    },
    {
      "cell_type": "markdown",
      "source": [
        "33. Create a list of prime numbers up to 50."
      ],
      "metadata": {
        "id": "rZeQ8vcty-I0"
      }
    },
    {
      "cell_type": "code",
      "source": [
        "def is_prime(n):\n",
        "  for in range(2, (n/2)+)"
      ],
      "metadata": {
        "id": "Z_JyPHvDzM4r"
      },
      "execution_count": null,
      "outputs": []
    },
    {
      "cell_type": "markdown",
      "source": [],
      "metadata": {
        "id": "M8fPSWvwQIhQ"
      }
    },
    {
      "cell_type": "markdown",
      "source": [],
      "metadata": {
        "id": "7lRVSOoMcNsu"
      }
    },
    {
      "cell_type": "code",
      "source": [],
      "metadata": {
        "id": "ka2gnkhJUUPr"
      },
      "execution_count": null,
      "outputs": []
    }
  ]
}